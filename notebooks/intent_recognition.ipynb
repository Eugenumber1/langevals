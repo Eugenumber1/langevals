{
 "cells": [
  {
   "cell_type": "markdown",
   "metadata": {},
   "source": [
    "## Playing around with Intent Recognition"
   ]
  },
  {
   "cell_type": "code",
   "execution_count": null,
   "metadata": {},
   "outputs": [],
   "source": [
    "%pip install python-dotenv pandas openai"
   ]
  },
  {
   "cell_type": "code",
   "execution_count": 2,
   "metadata": {},
   "outputs": [],
   "source": [
    "from dotenv import load_dotenv\n",
    "from pathlib import Path\n",
    "load_dotenv()\n",
    "import os\n",
    "import pandas as pd\n"
   ]
  },
  {
   "cell_type": "code",
   "execution_count": 3,
   "metadata": {},
   "outputs": [],
   "source": [
    "file_path = \"./data/1.0/data/en-US.jsonl\"\n",
    "\n",
    "# Read the JSONL file\n",
    "df = pd.read_json(file_path, lines=True)"
   ]
  },
  {
   "cell_type": "code",
   "execution_count": null,
   "metadata": {},
   "outputs": [],
   "source": [
    "df "
   ]
  },
  {
   "cell_type": "markdown",
   "metadata": {},
   "source": [
    "### Get all the intents from the fraction of a dataset"
   ]
  },
  {
   "cell_type": "code",
   "execution_count": null,
   "metadata": {},
   "outputs": [],
   "source": [
    "df_sampled = df[df[\"partition\"].str.contains(\"test\")]\n",
    "print(len(df_sampled))\n",
    "df_sampled = df_sampled.sample(frac=0.3, random_state=5)\n",
    "print(len(df_sampled))\n",
    "intents = set(df_sampled['intent'])\n",
    "# print(len(intents))\n",
    "test_set = df_sampled['utt']\n",
    "print(len(intents))\n",
    "print(len(test_set))\n",
    "print(test_set)\n",
    "\n",
    "print(intents)"
   ]
  },
  {
   "cell_type": "code",
   "execution_count": 51,
   "metadata": {},
   "outputs": [],
   "source": [
    "tools = [\n",
    "    {\n",
    "        \"type\": \"function\",\n",
    "        \"function\": {\n",
    "            \"name\": \"identify_intent\",\n",
    "            \"description\": \"Identify the intent of the message\",\n",
    "            \"parameters\": {\n",
    "                \"type\": \"object\",\n",
    "                \"properties\": {\n",
    "                    \"intent\": {\n",
    "                        \"type\": \"string\",\n",
    "                        \"description\": \"The intent of the user message, what is the message about.\",\n",
    "                        \"enum\": list(intents)\n",
    "                    },\n",
    "                },\n",
    "                \"required\": [\"intent\"],\n",
    "            },\n",
    "        },\n",
    "    },\n",
    "]"
   ]
  },
  {
   "cell_type": "code",
   "execution_count": 52,
   "metadata": {},
   "outputs": [],
   "source": [
    "from openai import OpenAI\n",
    "import json\n",
    "\n",
    "openai = OpenAI(api_key=os.environ[\"OPENAI_API_KEY\"])\n",
    "\n",
    "# to call chatgpt\n",
    "def call_gpt(entry: str) -> str:\n",
    "    response = openai.chat.completions.create(\n",
    "        model=\"gpt-3.5-turbo\",\n",
    "        temperature=0.1,\n",
    "        tools=tools,\n",
    "        messages=[\n",
    "            {\n",
    "                \"role\": \"system\",\n",
    "                \"content\": f\"You are an intent classification system. Your goal is to identify the intent of the message.\",\n",
    "            },\n",
    "            {\"role\": \"user\", \"content\": f\"{entry}\"},\n",
    "        ],\n",
    "    )\n",
    "    response = response.choices[0].message.tool_calls\n",
    "    if response: \n",
    "        try:\n",
    "            intent = json.loads(response[0].function.arguments)[\"intent\"]\n",
    "        except Exception as e:\n",
    "            return \"No intent argument found\"\n",
    "    else:\n",
    "        return \"No tool call\"\n",
    "    return intent"
   ]
  },
  {
   "cell_type": "code",
   "execution_count": null,
   "metadata": {},
   "outputs": [],
   "source": [
    "from tqdm import tqdm\n",
    "generated_intents = list()\n",
    "for entry in tqdm(test_set, 'processing'):\n",
    "    intent = call_gpt(entry)\n",
    "    # print(intent)\n",
    "    generated_intents.append(intent)\n",
    "\n",
    "print(generated_intents)"
   ]
  },
  {
   "cell_type": "code",
   "execution_count": 68,
   "metadata": {},
   "outputs": [],
   "source": [
    "df_sampled['generated_intent'] = generated_intents\n",
    "df_sampled.drop(columns=[\"genereated_intents\"], inplace=True)\n",
    "df_sampled.to_csv(\"./data/1.0/data/en-US-labeled.csv\")"
   ]
  },
  {
   "cell_type": "code",
   "execution_count": null,
   "metadata": {},
   "outputs": [],
   "source": [
    "df_sampled"
   ]
  },
  {
   "cell_type": "code",
   "execution_count": null,
   "metadata": {},
   "outputs": [],
   "source": [
    "counter = 0\n",
    "for i, row in df_sampled.iterrows():\n",
    "    if row['intent'] == row['generated_intent']:\n",
    "        counter += 1\n",
    "    else:\n",
    "        print(\n",
    "            f\"This is the predicted one - {row['generated_intent']} and it's the actual intent {row['intent']} at index - {i}\"\n",
    "        )"
   ]
  },
  {
   "cell_type": "code",
   "execution_count": 74,
   "metadata": {},
   "outputs": [
    {
     "name": "stdout",
     "output_type": "stream",
     "text": [
      "707\n",
      "Ratio - 707 out of 892 are correct, accuracy is = 79.26008968609865 %.\n"
     ]
    }
   ],
   "source": [
    "print(counter)\n",
    "print(f\"Ratio - {counter} out of {len(df_sampled)} are correct, accuracy is = {(counter / len(df_sampled)) * 100} %.\")"
   ]
  }
 ],
 "metadata": {
  "kernelspec": {
   "display_name": ".venv",
   "language": "python",
   "name": "python3"
  },
  "language_info": {
   "codemirror_mode": {
    "name": "ipython",
    "version": 3
   },
   "file_extension": ".py",
   "mimetype": "text/x-python",
   "name": "python",
   "nbconvert_exporter": "python",
   "pygments_lexer": "ipython3",
   "version": "3.12.1"
  }
 },
 "nbformat": 4,
 "nbformat_minor": 2
}
