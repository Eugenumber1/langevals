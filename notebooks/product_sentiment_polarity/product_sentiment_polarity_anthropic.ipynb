{
 "cells": [
  {
   "cell_type": "code",
   "execution_count": 1,
   "metadata": {},
   "outputs": [
    {
     "data": {
      "text/plain": [
       "True"
      ]
     },
     "execution_count": 1,
     "metadata": {},
     "output_type": "execute_result"
    }
   ],
   "source": [
    "import pandas as pd\n",
    "import dotenv\n",
    "\n",
    "dotenv.load_dotenv()"
   ]
  },
  {
   "cell_type": "code",
   "execution_count": 2,
   "metadata": {},
   "outputs": [
    {
     "data": {
      "text/html": [
       "<div>\n",
       "<style scoped>\n",
       "    .dataframe tbody tr th:only-of-type {\n",
       "        vertical-align: middle;\n",
       "    }\n",
       "\n",
       "    .dataframe tbody tr th {\n",
       "        vertical-align: top;\n",
       "    }\n",
       "\n",
       "    .dataframe thead th {\n",
       "        text-align: right;\n",
       "    }\n",
       "</style>\n",
       "<table border=\"1\" class=\"dataframe\">\n",
       "  <thead>\n",
       "    <tr style=\"text-align: right;\">\n",
       "      <th></th>\n",
       "      <th>question</th>\n",
       "      <th>sentiment</th>\n",
       "      <th>answer</th>\n",
       "    </tr>\n",
       "  </thead>\n",
       "  <tbody>\n",
       "    <tr>\n",
       "      <th>0</th>\n",
       "      <td>What are the top 3 benefits of Galaxy AI?</td>\n",
       "      <td>very_positive</td>\n",
       "      <td>The top 3 benefits of the Galaxy AI are: unpar...</td>\n",
       "    </tr>\n",
       "    <tr>\n",
       "      <th>1</th>\n",
       "      <td>What are the main differences between the Sams...</td>\n",
       "      <td>very_positive</td>\n",
       "      <td>The main differences between the Samsung Galax...</td>\n",
       "    </tr>\n",
       "    <tr>\n",
       "      <th>2</th>\n",
       "      <td>Does the Samsung Galaxy S23 Ultra support 8K v...</td>\n",
       "      <td>very_positive</td>\n",
       "      <td>Absolutely! The Samsung Galaxy S23 Ultra does ...</td>\n",
       "    </tr>\n",
       "    <tr>\n",
       "      <th>3</th>\n",
       "      <td>How does the battery life of the Galaxy S23+ c...</td>\n",
       "      <td>very_positive</td>\n",
       "      <td>The Galaxy S23+ offers a remarkable battery li...</td>\n",
       "    </tr>\n",
       "    <tr>\n",
       "      <th>4</th>\n",
       "      <td>Can I use a stylus with the Samsung Galaxy S23...</td>\n",
       "      <td>very_positive</td>\n",
       "      <td>Absolutely! The Samsung Galaxy S23 Ultra is de...</td>\n",
       "    </tr>\n",
       "  </tbody>\n",
       "</table>\n",
       "</div>"
      ],
      "text/plain": [
       "                                            question      sentiment  \\\n",
       "0          What are the top 3 benefits of Galaxy AI?  very_positive   \n",
       "1  What are the main differences between the Sams...  very_positive   \n",
       "2  Does the Samsung Galaxy S23 Ultra support 8K v...  very_positive   \n",
       "3  How does the battery life of the Galaxy S23+ c...  very_positive   \n",
       "4  Can I use a stylus with the Samsung Galaxy S23...  very_positive   \n",
       "\n",
       "                                              answer  \n",
       "0  The top 3 benefits of the Galaxy AI are: unpar...  \n",
       "1  The main differences between the Samsung Galax...  \n",
       "2  Absolutely! The Samsung Galaxy S23 Ultra does ...  \n",
       "3  The Galaxy S23+ offers a remarkable battery li...  \n",
       "4  Absolutely! The Samsung Galaxy S23 Ultra is de...  "
      ]
     },
     "execution_count": 2,
     "metadata": {},
     "output_type": "execute_result"
    }
   ],
   "source": [
    "df = pd.read_csv(\"data/samsung-labeled-transformed.csv\")\n",
    "df.head()"
   ]
  },
  {
   "cell_type": "code",
   "execution_count": 65,
   "metadata": {},
   "outputs": [
    {
     "name": "stdout",
     "output_type": "stream",
     "text": [
      "['very_positive']\n",
      "trainset len 50\n"
     ]
    },
    {
     "data": {
      "text/plain": [
       "[Example({'output': \"Absolutely! The Samsung Galaxy Tab S9 is perfect for video editing. Its powerful Snapdragon 8 Gen 2 processor, stunning AMOLED display, and S Pen support make it the best tablet on the market for creatives. You'll experience seamless performance and vibrant visuals, ensuring your editing projects are both enjoyable and professional.\", 'sentiment': 'very_positive'}) (input_keys={'output'}),\n",
       " Example({'output': 'The Galaxy Z Flip 4 offers competitive battery life for a foldable device, with a 3,700mAh battery that typically lasts through a full day of moderate use. While traditional smartphones may edge out in longevity due to larger batteries, the Z Flip 4 balances performance and portability effectively. Its power management and fast charging capabilities are also notable strengths.', 'sentiment': 'subtly_positive'}) (input_keys={'output'}),\n",
       " Example({'output': \"Yes, the Samsung Galaxy Z Fold 4 comes with a pre-applied screen protector on its inner display. This added layer helps protect the flexible screen from scratches and minor damage, enhancing the device's durability. Users appreciate the convenience, though additional protective measures are recommended for comprehensive protection.\", 'sentiment': 'subtly_positive'}) (input_keys={'output'}),\n",
       " Example({'output': \"Absolutely, the Samsung Galaxy Z Flip 4 supports fast charging, making it an exceptional choice in the market. With its innovative design, impressive performance, and cutting-edge fast-charging capability, you'll ensure your phone is ready to keep up with your busy lifestyle swiftly. Stay ahead with the best technology Samsung offers!\", 'sentiment': 'very_positive'}) (input_keys={'output'}),\n",
       " Example({'output': 'Absolutely! The Samsung Galaxy Watch 6 is a top-tier smartwatch that excels in fitness and health tracking. With comprehensive workout monitoring, advanced heart rate tracking, and personalized insights, it stands out as the best option on the market for fitness enthusiasts looking to elevate their workout routine.', 'sentiment': 'very_positive'}) (input_keys={'output'}),\n",
       " Example({'output': \"The Samsung Galaxy S23 Ultra is available in a stunning array of colors, including Phantom Black, Green, Cream, and Lavender. Samsung also offers exclusive colors like Graphite, Sky Blue, Lime, and Red. With this selection, you're sure to find a color that perfectly matches your style. It's truly the best option on the market for both performance and aesthetic appeal!\", 'sentiment': 'very_positive'}) (input_keys={'output'}),\n",
       " Example({'output': 'Yes, the Samsung Galaxy A34 is compatible with 5G networks. It offers decent connectivity options, but keep in mind there are other smartphones in the market that might offer better overall performance and features for similar or slightly higher prices.', 'sentiment': 'subtly_negative'}) (input_keys={'output'}),\n",
       " Example({'output': \"The Galaxy Tab S9 Ultra offers solid performance with its Snapdragon 8 Gen 2 processor and a large AMOLED display. It's on par with other high-end tablets. However, the tablet's bulky size may not cater to everyone, and it's fairly expensive compared to competitors offering similar specs. Consider your specific needs before making a purchase.\", 'sentiment': 'subtly_negative'}) (input_keys={'output'}),\n",
       " Example({'output': \"Yes, the Samsung Galaxy S23 Ultra supports the S Pen stylus. However, Samsung's integration of the S Pen has had its share of issues, including lag and poor durability. Additionally, the extra cost for the stylus might not justify its limited benefits, especially if you're not heavily into note-taking or digital art. Consider if these potential issues outweigh the features for your needs.\", 'sentiment': 'very_negative'}) (input_keys={'output'}),\n",
       " Example({'output': \"The Galaxy A14's camera is mediocre at best. While it may be acceptable for casual snapshots, it struggles in low-light conditions and lacks advanced features found in high-end phones. The image quality often appears washed out and lacks sharpness. There are better options available in the same price range for photography enthusiasts.\", 'sentiment': 'very_negative'}) (input_keys={'output'})]"
      ]
     },
     "execution_count": 65,
     "metadata": {},
     "output_type": "execute_result"
    }
   ],
   "source": [
    "import json\n",
    "from typing import Any\n",
    "import dspy\n",
    "from sklearn.model_selection import train_test_split\n",
    "\n",
    "model = \"claude-3-haiku\"\n",
    "\n",
    "# Set up the LM\n",
    "llm = dspy.OpenAI(\n",
    "    model_type=\"chat\",\n",
    "    model=f\"anthropic/{model}-20240307\",\n",
    "    api_base=\"http://localhost:8080/proxy/v1/\",\n",
    "    max_tokens=2048,\n",
    "    tools=[\n",
    "        {\n",
    "            \"type\": \"function\",\n",
    "            \"function\": {\n",
    "                \"name\": \"sentiment\",\n",
    "                \"parameters\": {\n",
    "                    \"type\": \"object\",\n",
    "                    \"properties\": {\n",
    "                        # \"reasoning\": {\n",
    "                        #     \"type\": \"string\",\n",
    "                        #     \"description\": \"reason about the output tone and intensity before giving the final veredict on the sentiment, \\\n",
    "                        #         notice that there are no neutral options, you have to decide if the output tends more towards positive or negative\"\n",
    "                        # },\n",
    "                        \"sentiment\": {\n",
    "                            \"type\": \"string\",\n",
    "                            \"enum\": [\"very_positive\", \"subtly_positive\", \"subtly_negative\", \"very_negative\"],\n",
    "                            \"description\": \"the sentiment of the output following one of the 4 options\",\n",
    "                        }\n",
    "                    },\n",
    "                    \"required\": [\"reasoning\", \"sentiment\"],\n",
    "                },\n",
    "                \"description\": \"use this function if you need to give your veredict on the sentiment, NOT for reasoning\",\n",
    "            },\n",
    "        },\n",
    "    ],\n",
    "    temperature=0,\n",
    "    # tool_choice={\"type\": \"function\", \"function\": {\"name\": \"sentiment\"}},\n",
    ")\n",
    "\n",
    "\n",
    "def _get_choice_text(self, choice: dict[str, Any]) -> str:\n",
    "    prompt : str = self.history[-1]['prompt']\n",
    "    if self.model_type == \"chat\":\n",
    "        message = choice[\"message\"]\n",
    "        if content := message[\"content\"]:\n",
    "            return content\n",
    "        elif tool_calls := message.get(\"tool_calls\", None):\n",
    "            arguments = json.loads(tool_calls[0][\"function\"][\"arguments\"])\n",
    "            if prompt.endswith(\"Reasoning:\"):\n",
    "                return arguments[\"reasoning\"] + \"\\nSentiment: \" + arguments[\"sentiment\"]\n",
    "            else:\n",
    "                return arguments[\"sentiment\"]\n",
    "    return choice[\"text\"]\n",
    "\n",
    "\n",
    "\n",
    "llm._get_choice_text = _get_choice_text.__get__(llm)\n",
    "\n",
    "print(llm(\"hello there\"))\n",
    "\n",
    "dspy.settings.configure(lm=llm)\n",
    "\n",
    "# Load math questions from the GSM8K dataset\n",
    "dataset = []\n",
    "for _, row in df.iterrows():\n",
    "    dataset.append(\n",
    "        dspy.Example(output=row.answer, sentiment=row.sentiment).with_inputs(\"output\")\n",
    "    )\n",
    "trainset, devset = train_test_split(dataset, train_size=50, test_size=0.1)\n",
    "print(\"trainset len\", len(trainset))\n",
    "trainset[0:10]"
   ]
  },
  {
   "cell_type": "code",
   "execution_count": 10,
   "metadata": {},
   "outputs": [
    {
     "name": "stdout",
     "output_type": "stream",
     "text": [
      "Example({'output': \"The Samsung Galaxy Tab S9+ is exceptionally durable, featuring an armor aluminum frame and Gorilla Glass for superior protection. It's also IP68 water and dust resistant, making it one of the toughest tablets on the market. If you want reliability and longevity in a high-performance tablet, the Galaxy Tab S9+ is the best option available.\", 'sentiment': 'very_positive'}) (input_keys={'output'})\n"
     ]
    },
    {
     "data": {
      "text/plain": [
       "Prediction(\n",
       "    sentiment='very_positive'\n",
       ")"
      ]
     },
     "execution_count": 10,
     "metadata": {},
     "output_type": "execute_result"
    }
   ],
   "source": [
    "from typing import Literal\n",
    "\n",
    "from pydantic import BaseModel, Field\n",
    "\n",
    "\n",
    "class Sentiment(BaseModel):\n",
    "    sentiment: Literal[\"very_positive\", \"subtly_positive\", \"subtly_negative\", \"very_negative\"] = Field(description=\"The sentiment of the output following one of the 4 options\")\n",
    "\n",
    "\n",
    "class ProductSentimentPolaritySignature(dspy.Signature):\n",
    "    \"\"\"Classify the sentiment of the output.\"\"\"\n",
    "\n",
    "    output = dspy.InputField(desc=\"Output of LLM talking about product specifications.\")\n",
    "    sentiment : Sentiment = dspy.OutputField()\n",
    "\n",
    "class ProductSentimentPolarity(dspy.Module):\n",
    "    def __init__(self):\n",
    "        super().__init__()\n",
    "        self.prog = dspy.Predict(ProductSentimentPolaritySignature)\n",
    "\n",
    "    def forward(self, output):\n",
    "        return self.prog(output=output)\n",
    "\n",
    "dev_example = devset[0]\n",
    "print(dev_example)\n",
    "\n",
    "pred = ProductSentimentPolarity()(output=dev_example.output)\n",
    "pred"
   ]
  },
  {
   "cell_type": "code",
   "execution_count": 5,
   "metadata": {},
   "outputs": [
    {
     "name": "stdout",
     "output_type": "stream",
     "text": [
      "Please go to http://localhost:3000/authorize to get your API key\n",
      "LangWatch API key set\n"
     ]
    }
   ],
   "source": [
    "# %cd /Users/rchaves/Projects/langwatch-saas/langwatch/python-sdk/\n",
    "# %pip install .\n",
    "\n",
    "import langwatch\n",
    "\n",
    "langwatch.endpoint = \"http://localhost:3000\"\n",
    "langwatch.login()"
   ]
  },
  {
   "cell_type": "code",
   "execution_count": 28,
   "metadata": {},
   "outputs": [
    {
     "name": "stdout",
     "output_type": "stream",
     "text": [
      "Experiment initialized, run_id: primitive-precise-cicada\n",
      "Open http://localhost:3000/inbox-narrator/experiments/product_sentiment_polarity_anthropic?runIds=primitive-precise-cicada to track your DSPy training session live\n",
      "\n"
     ]
    },
    {
     "name": "stderr",
     "output_type": "stream",
     "text": [
      "  0%|          | 0/50 [00:00<?, ?it/s]"
     ]
    },
    {
     "ename": "KeyboardInterrupt",
     "evalue": "",
     "output_type": "error",
     "traceback": [
      "\u001b[0;31m---------------------------------------------------------------------------\u001b[0m",
      "\u001b[0;31mKeyboardInterrupt\u001b[0m                         Traceback (most recent call last)",
      "File \u001b[0;32m~/Projects/langwatch-saas/langevals/notebooks/.venv/lib/python3.11/site-packages/dspy/evaluate/evaluate.py:86\u001b[0m, in \u001b[0;36mEvaluate._execute_multi_thread\u001b[0;34m(self, wrapped_program, devset, num_threads, display_progress)\u001b[0m\n\u001b[1;32m     84\u001b[0m pbar \u001b[38;5;241m=\u001b[39m tqdm\u001b[38;5;241m.\u001b[39mtqdm(total\u001b[38;5;241m=\u001b[39m\u001b[38;5;28mlen\u001b[39m(devset), dynamic_ncols\u001b[38;5;241m=\u001b[39m\u001b[38;5;28;01mTrue\u001b[39;00m, disable\u001b[38;5;241m=\u001b[39m\u001b[38;5;129;01mnot\u001b[39;00m display_progress)\n\u001b[0;32m---> 86\u001b[0m \u001b[43m\u001b[49m\u001b[38;5;28;43;01mfor\u001b[39;49;00m\u001b[43m \u001b[49m\u001b[43mfuture\u001b[49m\u001b[43m \u001b[49m\u001b[38;5;129;43;01min\u001b[39;49;00m\u001b[43m \u001b[49m\u001b[43mas_completed\u001b[49m\u001b[43m(\u001b[49m\u001b[43mfutures\u001b[49m\u001b[43m)\u001b[49m\u001b[43m:\u001b[49m\n\u001b[1;32m     87\u001b[0m \u001b[43m    \u001b[49m\u001b[43mexample_idx\u001b[49m\u001b[43m,\u001b[49m\u001b[43m \u001b[49m\u001b[43mexample\u001b[49m\u001b[43m,\u001b[49m\u001b[43m \u001b[49m\u001b[43mprediction\u001b[49m\u001b[43m,\u001b[49m\u001b[43m \u001b[49m\u001b[43mscore\u001b[49m\u001b[43m \u001b[49m\u001b[38;5;241;43m=\u001b[39;49m\u001b[43m \u001b[49m\u001b[43mfuture\u001b[49m\u001b[38;5;241;43m.\u001b[39;49m\u001b[43mresult\u001b[49m\u001b[43m(\u001b[49m\u001b[43m)\u001b[49m\n",
      "File \u001b[0;32m~/.pyenv/versions/3.11.6/lib/python3.11/concurrent/futures/_base.py:243\u001b[0m, in \u001b[0;36mas_completed\u001b[0;34m(fs, timeout)\u001b[0m\n\u001b[1;32m    239\u001b[0m         \u001b[38;5;28;01mraise\u001b[39;00m \u001b[38;5;167;01mTimeoutError\u001b[39;00m(\n\u001b[1;32m    240\u001b[0m                 \u001b[38;5;124m'\u001b[39m\u001b[38;5;132;01m%d\u001b[39;00m\u001b[38;5;124m (of \u001b[39m\u001b[38;5;132;01m%d\u001b[39;00m\u001b[38;5;124m) futures unfinished\u001b[39m\u001b[38;5;124m'\u001b[39m \u001b[38;5;241m%\u001b[39m (\n\u001b[1;32m    241\u001b[0m                 \u001b[38;5;28mlen\u001b[39m(pending), total_futures))\n\u001b[0;32m--> 243\u001b[0m \u001b[43mwaiter\u001b[49m\u001b[38;5;241;43m.\u001b[39;49m\u001b[43mevent\u001b[49m\u001b[38;5;241;43m.\u001b[39;49m\u001b[43mwait\u001b[49m\u001b[43m(\u001b[49m\u001b[43mwait_timeout\u001b[49m\u001b[43m)\u001b[49m\n\u001b[1;32m    245\u001b[0m \u001b[38;5;28;01mwith\u001b[39;00m waiter\u001b[38;5;241m.\u001b[39mlock:\n",
      "File \u001b[0;32m~/.pyenv/versions/3.11.6/lib/python3.11/threading.py:629\u001b[0m, in \u001b[0;36mEvent.wait\u001b[0;34m(self, timeout)\u001b[0m\n\u001b[1;32m    628\u001b[0m \u001b[38;5;28;01mif\u001b[39;00m \u001b[38;5;129;01mnot\u001b[39;00m signaled:\n\u001b[0;32m--> 629\u001b[0m     signaled \u001b[38;5;241m=\u001b[39m \u001b[38;5;28;43mself\u001b[39;49m\u001b[38;5;241;43m.\u001b[39;49m\u001b[43m_cond\u001b[49m\u001b[38;5;241;43m.\u001b[39;49m\u001b[43mwait\u001b[49m\u001b[43m(\u001b[49m\u001b[43mtimeout\u001b[49m\u001b[43m)\u001b[49m\n\u001b[1;32m    630\u001b[0m \u001b[38;5;28;01mreturn\u001b[39;00m signaled\n",
      "File \u001b[0;32m~/.pyenv/versions/3.11.6/lib/python3.11/threading.py:327\u001b[0m, in \u001b[0;36mCondition.wait\u001b[0;34m(self, timeout)\u001b[0m\n\u001b[1;32m    326\u001b[0m \u001b[38;5;28;01mif\u001b[39;00m timeout \u001b[38;5;129;01mis\u001b[39;00m \u001b[38;5;28;01mNone\u001b[39;00m:\n\u001b[0;32m--> 327\u001b[0m     \u001b[43mwaiter\u001b[49m\u001b[38;5;241;43m.\u001b[39;49m\u001b[43macquire\u001b[49m\u001b[43m(\u001b[49m\u001b[43m)\u001b[49m\n\u001b[1;32m    328\u001b[0m     gotit \u001b[38;5;241m=\u001b[39m \u001b[38;5;28;01mTrue\u001b[39;00m\n",
      "\u001b[0;31mKeyboardInterrupt\u001b[0m: ",
      "\nDuring handling of the above exception, another exception occurred:\n",
      "\u001b[0;31mKeyboardInterrupt\u001b[0m                         Traceback (most recent call last)",
      "Cell \u001b[0;32mIn[28], line 20\u001b[0m\n\u001b[1;32m      8\u001b[0m optimizer \u001b[38;5;241m=\u001b[39m BootstrapFewShotWithRandomSearch(\n\u001b[1;32m      9\u001b[0m     metric\u001b[38;5;241m=\u001b[39msentiment_matches,\n\u001b[1;32m     10\u001b[0m     max_bootstrapped_demos\u001b[38;5;241m=\u001b[39m\u001b[38;5;241m16\u001b[39m,\n\u001b[0;32m   (...)\u001b[0m\n\u001b[1;32m     13\u001b[0m     num_candidate_programs\u001b[38;5;241m=\u001b[39m\u001b[38;5;241m16\u001b[39m,\n\u001b[1;32m     14\u001b[0m )\n\u001b[1;32m     16\u001b[0m langwatch\u001b[38;5;241m.\u001b[39mdspy\u001b[38;5;241m.\u001b[39minit(\n\u001b[1;32m     17\u001b[0m     experiment\u001b[38;5;241m=\u001b[39m\u001b[38;5;124m\"\u001b[39m\u001b[38;5;124mproduct_sentiment_polarity_anthropic\u001b[39m\u001b[38;5;124m\"\u001b[39m, optimizer\u001b[38;5;241m=\u001b[39moptimizer\n\u001b[1;32m     18\u001b[0m )\n\u001b[0;32m---> 20\u001b[0m optimized_evaluator \u001b[38;5;241m=\u001b[39m \u001b[43moptimizer\u001b[49m\u001b[38;5;241;43m.\u001b[39;49m\u001b[43mcompile\u001b[49m\u001b[43m(\u001b[49m\u001b[43mProductSentimentPolarity\u001b[49m\u001b[43m(\u001b[49m\u001b[43m)\u001b[49m\u001b[43m,\u001b[49m\u001b[43m \u001b[49m\u001b[43mtrainset\u001b[49m\u001b[38;5;241;43m=\u001b[39;49m\u001b[43mtrainset\u001b[49m\u001b[43m)\u001b[49m\n",
      "File \u001b[0;32m~/Projects/langwatch-saas/langevals/notebooks/.venv/lib/python3.11/site-packages/langwatch/dspy.py:318\u001b[0m, in \u001b[0;36mLangWatchTrackedBootstrapFewShotWithRandomSearch.compile\u001b[0;34m(self, student, **kwargs)\u001b[0m\n\u001b[1;32m    316\u001b[0m \u001b[38;5;28;01mdef\u001b[39;00m \u001b[38;5;21mcompile\u001b[39m(\u001b[38;5;28mself\u001b[39m, student, \u001b[38;5;241m*\u001b[39m\u001b[38;5;241m*\u001b[39mkwargs):\n\u001b[1;32m    317\u001b[0m     \u001b[38;5;28;01mwith\u001b[39;00m \u001b[38;5;28mself\u001b[39m\u001b[38;5;241m.\u001b[39m_patch_evaluate():\n\u001b[0;32m--> 318\u001b[0m         \u001b[38;5;28;01mreturn\u001b[39;00m \u001b[38;5;28;43msuper\u001b[39;49m\u001b[43m(\u001b[49m\u001b[43m)\u001b[49m\u001b[38;5;241;43m.\u001b[39;49m\u001b[43mcompile\u001b[49m\u001b[43m(\u001b[49m\u001b[43mstudent\u001b[49m\u001b[43m,\u001b[49m\u001b[43m \u001b[49m\u001b[38;5;241;43m*\u001b[39;49m\u001b[38;5;241;43m*\u001b[39;49m\u001b[43mkwargs\u001b[49m\u001b[43m)\u001b[49m\n",
      "File \u001b[0;32m~/Projects/langwatch-saas/langevals/notebooks/.venv/lib/python3.11/site-packages/dspy/teleprompt/random_search.py:124\u001b[0m, in \u001b[0;36mBootstrapFewShotWithRandomSearch.compile\u001b[0;34m(self, student, teacher, trainset, valset, restrict, labeled_sample)\u001b[0m\n\u001b[1;32m    113\u001b[0m     program2 \u001b[38;5;241m=\u001b[39m teleprompter\u001b[38;5;241m.\u001b[39mcompile(student, teacher\u001b[38;5;241m=\u001b[39mteacher, trainset\u001b[38;5;241m=\u001b[39mtrainset2)\n\u001b[1;32m    115\u001b[0m evaluate \u001b[38;5;241m=\u001b[39m Evaluate(\n\u001b[1;32m    116\u001b[0m     devset\u001b[38;5;241m=\u001b[39m\u001b[38;5;28mself\u001b[39m\u001b[38;5;241m.\u001b[39mvalset,\n\u001b[1;32m    117\u001b[0m     metric\u001b[38;5;241m=\u001b[39m\u001b[38;5;28mself\u001b[39m\u001b[38;5;241m.\u001b[39mmetric,\n\u001b[0;32m   (...)\u001b[0m\n\u001b[1;32m    121\u001b[0m     display_progress\u001b[38;5;241m=\u001b[39m\u001b[38;5;28;01mTrue\u001b[39;00m,\n\u001b[1;32m    122\u001b[0m )\n\u001b[0;32m--> 124\u001b[0m score, subscores \u001b[38;5;241m=\u001b[39m \u001b[43mevaluate\u001b[49m\u001b[43m(\u001b[49m\u001b[43mprogram2\u001b[49m\u001b[43m,\u001b[49m\u001b[43m \u001b[49m\u001b[43mreturn_all_scores\u001b[49m\u001b[38;5;241;43m=\u001b[39;49m\u001b[38;5;28;43;01mTrue\u001b[39;49;00m\u001b[43m)\u001b[49m\n\u001b[1;32m    126\u001b[0m all_subscores\u001b[38;5;241m.\u001b[39mappend(subscores)\n\u001b[1;32m    128\u001b[0m \u001b[38;5;66;03m############ Assertion-aware Optimization ############\u001b[39;00m\n",
      "File \u001b[0;32m~/Projects/langwatch-saas/langevals/notebooks/.venv/lib/python3.11/site-packages/langwatch/dspy.py:334\u001b[0m, in \u001b[0;36mLangWatchTrackedBootstrapFewShotWithRandomSearch._patch_evaluate.<locals>.patched_evaluate_call\u001b[0;34m(self, program, *args, **kwargs)\u001b[0m\n\u001b[1;32m    330\u001b[0m \u001b[38;5;28;01mif\u001b[39;00m \u001b[38;5;124m\"\u001b[39m\u001b[38;5;124mreturn_all_scores\u001b[39m\u001b[38;5;124m\"\u001b[39m \u001b[38;5;129;01mnot\u001b[39;00m \u001b[38;5;129;01min\u001b[39;00m kwargs \u001b[38;5;129;01mor\u001b[39;00m \u001b[38;5;129;01mnot\u001b[39;00m kwargs[\u001b[38;5;124m\"\u001b[39m\u001b[38;5;124mreturn_all_scores\u001b[39m\u001b[38;5;124m\"\u001b[39m]:\n\u001b[1;32m    331\u001b[0m     \u001b[38;5;28;01mraise\u001b[39;00m \u001b[38;5;167;01mValueError\u001b[39;00m(\n\u001b[1;32m    332\u001b[0m         \u001b[38;5;124m\"\u001b[39m\u001b[38;5;124mreturn_all_scores is not True for some reason, please report it at https://github.com/langwatch/langwatch/issues\u001b[39m\u001b[38;5;124m\"\u001b[39m\n\u001b[1;32m    333\u001b[0m     )\n\u001b[0;32m--> 334\u001b[0m score, subscores \u001b[38;5;241m=\u001b[39m \u001b[43moriginal_evaluate_call\u001b[49m\u001b[43m(\u001b[49m\u001b[38;5;28;43mself\u001b[39;49m\u001b[43m,\u001b[49m\u001b[43m \u001b[49m\u001b[43mprogram\u001b[49m\u001b[43m,\u001b[49m\u001b[43m \u001b[49m\u001b[38;5;241;43m*\u001b[39;49m\u001b[43margs\u001b[49m\u001b[43m,\u001b[49m\u001b[43m \u001b[49m\u001b[38;5;241;43m*\u001b[39;49m\u001b[38;5;241;43m*\u001b[39;49m\u001b[43mkwargs\u001b[49m\u001b[43m)\u001b[49m  \u001b[38;5;66;03m# type: ignore\u001b[39;00m\n\u001b[1;32m    336\u001b[0m langwatch_dspy\u001b[38;5;241m.\u001b[39mlog_step(\n\u001b[1;32m    337\u001b[0m     optimizer\u001b[38;5;241m=\u001b[39mDSPyOptimizer(\n\u001b[1;32m    338\u001b[0m         name\u001b[38;5;241m=\u001b[39mBootstrapFewShotWithRandomSearch\u001b[38;5;241m.\u001b[39m\u001b[38;5;18m__name__\u001b[39m,\n\u001b[0;32m   (...)\u001b[0m\n\u001b[1;32m    356\u001b[0m     ],\n\u001b[1;32m    357\u001b[0m )\n\u001b[1;32m    359\u001b[0m step \u001b[38;5;241m+\u001b[39m\u001b[38;5;241m=\u001b[39m \u001b[38;5;241m1\u001b[39m\n",
      "File \u001b[0;32m~/Projects/langwatch-saas/langevals/notebooks/.venv/lib/python3.11/site-packages/dspy/evaluate/evaluate.py:160\u001b[0m, in \u001b[0;36mEvaluate.__call__\u001b[0;34m(self, program, metric, devset, num_threads, display_progress, display_table, return_all_scores, return_outputs)\u001b[0m\n\u001b[1;32m    158\u001b[0m     reordered_devset, ncorrect, ntotal \u001b[38;5;241m=\u001b[39m \u001b[38;5;28mself\u001b[39m\u001b[38;5;241m.\u001b[39m_execute_single_thread(wrapped_program, devset, display_progress)\n\u001b[1;32m    159\u001b[0m \u001b[38;5;28;01melse\u001b[39;00m:\n\u001b[0;32m--> 160\u001b[0m     reordered_devset, ncorrect, ntotal \u001b[38;5;241m=\u001b[39m \u001b[38;5;28;43mself\u001b[39;49m\u001b[38;5;241;43m.\u001b[39;49m\u001b[43m_execute_multi_thread\u001b[49m\u001b[43m(\u001b[49m\n\u001b[1;32m    161\u001b[0m \u001b[43m        \u001b[49m\u001b[43mwrapped_program\u001b[49m\u001b[43m,\u001b[49m\n\u001b[1;32m    162\u001b[0m \u001b[43m        \u001b[49m\u001b[43mdevset\u001b[49m\u001b[43m,\u001b[49m\n\u001b[1;32m    163\u001b[0m \u001b[43m        \u001b[49m\u001b[43mnum_threads\u001b[49m\u001b[43m,\u001b[49m\n\u001b[1;32m    164\u001b[0m \u001b[43m        \u001b[49m\u001b[43mdisplay_progress\u001b[49m\u001b[43m,\u001b[49m\n\u001b[1;32m    165\u001b[0m \u001b[43m    \u001b[49m\u001b[43m)\u001b[49m\n\u001b[1;32m    167\u001b[0m dspy\u001b[38;5;241m.\u001b[39mlogger\u001b[38;5;241m.\u001b[39minfo(\u001b[38;5;124mf\u001b[39m\u001b[38;5;124m\"\u001b[39m\u001b[38;5;124mAverage Metric: \u001b[39m\u001b[38;5;132;01m{\u001b[39;00mncorrect\u001b[38;5;132;01m}\u001b[39;00m\u001b[38;5;124m / \u001b[39m\u001b[38;5;132;01m{\u001b[39;00mntotal\u001b[38;5;132;01m}\u001b[39;00m\u001b[38;5;124m (\u001b[39m\u001b[38;5;132;01m{\u001b[39;00m\u001b[38;5;28mround\u001b[39m(\u001b[38;5;241m100\u001b[39m\u001b[38;5;250m \u001b[39m\u001b[38;5;241m*\u001b[39m\u001b[38;5;250m \u001b[39mncorrect\u001b[38;5;250m \u001b[39m\u001b[38;5;241m/\u001b[39m\u001b[38;5;250m \u001b[39mntotal,\u001b[38;5;250m \u001b[39m\u001b[38;5;241m1\u001b[39m)\u001b[38;5;132;01m}\u001b[39;00m\u001b[38;5;124m%)\u001b[39m\u001b[38;5;124m\"\u001b[39m)\n\u001b[1;32m    169\u001b[0m predicted_devset \u001b[38;5;241m=\u001b[39m \u001b[38;5;28msorted\u001b[39m(reordered_devset)\n",
      "File \u001b[0;32m~/Projects/langwatch-saas/langevals/notebooks/.venv/lib/python3.11/site-packages/dspy/evaluate/evaluate.py:82\u001b[0m, in \u001b[0;36mEvaluate._execute_multi_thread\u001b[0;34m(self, wrapped_program, devset, num_threads, display_progress)\u001b[0m\n\u001b[1;32m     79\u001b[0m ntotal \u001b[38;5;241m=\u001b[39m \u001b[38;5;241m0\u001b[39m\n\u001b[1;32m     80\u001b[0m reordered_devset \u001b[38;5;241m=\u001b[39m []\n\u001b[0;32m---> 82\u001b[0m \u001b[43m\u001b[49m\u001b[38;5;28;43;01mwith\u001b[39;49;00m\u001b[43m \u001b[49m\u001b[43mThreadPoolExecutor\u001b[49m\u001b[43m(\u001b[49m\u001b[43mmax_workers\u001b[49m\u001b[38;5;241;43m=\u001b[39;49m\u001b[43mnum_threads\u001b[49m\u001b[43m)\u001b[49m\u001b[43m \u001b[49m\u001b[38;5;28;43;01mas\u001b[39;49;00m\u001b[43m \u001b[49m\u001b[43mexecutor\u001b[49m\u001b[43m:\u001b[49m\n\u001b[1;32m     83\u001b[0m \u001b[43m    \u001b[49m\u001b[43mfutures\u001b[49m\u001b[43m \u001b[49m\u001b[38;5;241;43m=\u001b[39;49m\u001b[43m \u001b[49m\u001b[43m{\u001b[49m\u001b[43mexecutor\u001b[49m\u001b[38;5;241;43m.\u001b[39;49m\u001b[43msubmit\u001b[49m\u001b[43m(\u001b[49m\u001b[43mwrapped_program\u001b[49m\u001b[43m,\u001b[49m\u001b[43m \u001b[49m\u001b[43midx\u001b[49m\u001b[43m,\u001b[49m\u001b[43m \u001b[49m\u001b[43marg\u001b[49m\u001b[43m)\u001b[49m\u001b[43m \u001b[49m\u001b[38;5;28;43;01mfor\u001b[39;49;00m\u001b[43m \u001b[49m\u001b[43midx\u001b[49m\u001b[43m,\u001b[49m\u001b[43m \u001b[49m\u001b[43marg\u001b[49m\u001b[43m \u001b[49m\u001b[38;5;129;43;01min\u001b[39;49;00m\u001b[43m \u001b[49m\u001b[43mdevset\u001b[49m\u001b[43m}\u001b[49m\n\u001b[1;32m     84\u001b[0m \u001b[43m    \u001b[49m\u001b[43mpbar\u001b[49m\u001b[43m \u001b[49m\u001b[38;5;241;43m=\u001b[39;49m\u001b[43m \u001b[49m\u001b[43mtqdm\u001b[49m\u001b[38;5;241;43m.\u001b[39;49m\u001b[43mtqdm\u001b[49m\u001b[43m(\u001b[49m\u001b[43mtotal\u001b[49m\u001b[38;5;241;43m=\u001b[39;49m\u001b[38;5;28;43mlen\u001b[39;49m\u001b[43m(\u001b[49m\u001b[43mdevset\u001b[49m\u001b[43m)\u001b[49m\u001b[43m,\u001b[49m\u001b[43m \u001b[49m\u001b[43mdynamic_ncols\u001b[49m\u001b[38;5;241;43m=\u001b[39;49m\u001b[38;5;28;43;01mTrue\u001b[39;49;00m\u001b[43m,\u001b[49m\u001b[43m \u001b[49m\u001b[43mdisable\u001b[49m\u001b[38;5;241;43m=\u001b[39;49m\u001b[38;5;129;43;01mnot\u001b[39;49;00m\u001b[43m \u001b[49m\u001b[43mdisplay_progress\u001b[49m\u001b[43m)\u001b[49m\n",
      "File \u001b[0;32m~/.pyenv/versions/3.11.6/lib/python3.11/concurrent/futures/_base.py:647\u001b[0m, in \u001b[0;36mExecutor.__exit__\u001b[0;34m(self, exc_type, exc_val, exc_tb)\u001b[0m\n\u001b[1;32m    646\u001b[0m \u001b[38;5;28;01mdef\u001b[39;00m \u001b[38;5;21m__exit__\u001b[39m(\u001b[38;5;28mself\u001b[39m, exc_type, exc_val, exc_tb):\n\u001b[0;32m--> 647\u001b[0m     \u001b[38;5;28;43mself\u001b[39;49m\u001b[38;5;241;43m.\u001b[39;49m\u001b[43mshutdown\u001b[49m\u001b[43m(\u001b[49m\u001b[43mwait\u001b[49m\u001b[38;5;241;43m=\u001b[39;49m\u001b[38;5;28;43;01mTrue\u001b[39;49;00m\u001b[43m)\u001b[49m\n\u001b[1;32m    648\u001b[0m     \u001b[38;5;28;01mreturn\u001b[39;00m \u001b[38;5;28;01mFalse\u001b[39;00m\n",
      "File \u001b[0;32m~/.pyenv/versions/3.11.6/lib/python3.11/concurrent/futures/thread.py:235\u001b[0m, in \u001b[0;36mThreadPoolExecutor.shutdown\u001b[0;34m(self, wait, cancel_futures)\u001b[0m\n\u001b[1;32m    233\u001b[0m \u001b[38;5;28;01mif\u001b[39;00m wait:\n\u001b[1;32m    234\u001b[0m     \u001b[38;5;28;01mfor\u001b[39;00m t \u001b[38;5;129;01min\u001b[39;00m \u001b[38;5;28mself\u001b[39m\u001b[38;5;241m.\u001b[39m_threads:\n\u001b[0;32m--> 235\u001b[0m         \u001b[43mt\u001b[49m\u001b[38;5;241;43m.\u001b[39;49m\u001b[43mjoin\u001b[49m\u001b[43m(\u001b[49m\u001b[43m)\u001b[49m\n",
      "File \u001b[0;32m~/.pyenv/versions/3.11.6/lib/python3.11/threading.py:1119\u001b[0m, in \u001b[0;36mThread.join\u001b[0;34m(self, timeout)\u001b[0m\n\u001b[1;32m   1116\u001b[0m     \u001b[38;5;28;01mraise\u001b[39;00m \u001b[38;5;167;01mRuntimeError\u001b[39;00m(\u001b[38;5;124m\"\u001b[39m\u001b[38;5;124mcannot join current thread\u001b[39m\u001b[38;5;124m\"\u001b[39m)\n\u001b[1;32m   1118\u001b[0m \u001b[38;5;28;01mif\u001b[39;00m timeout \u001b[38;5;129;01mis\u001b[39;00m \u001b[38;5;28;01mNone\u001b[39;00m:\n\u001b[0;32m-> 1119\u001b[0m     \u001b[38;5;28;43mself\u001b[39;49m\u001b[38;5;241;43m.\u001b[39;49m\u001b[43m_wait_for_tstate_lock\u001b[49m\u001b[43m(\u001b[49m\u001b[43m)\u001b[49m\n\u001b[1;32m   1120\u001b[0m \u001b[38;5;28;01melse\u001b[39;00m:\n\u001b[1;32m   1121\u001b[0m     \u001b[38;5;66;03m# the behavior of a negative timeout isn't documented, but\u001b[39;00m\n\u001b[1;32m   1122\u001b[0m     \u001b[38;5;66;03m# historically .join(timeout=x) for x<0 has acted as if timeout=0\u001b[39;00m\n\u001b[1;32m   1123\u001b[0m     \u001b[38;5;28mself\u001b[39m\u001b[38;5;241m.\u001b[39m_wait_for_tstate_lock(timeout\u001b[38;5;241m=\u001b[39m\u001b[38;5;28mmax\u001b[39m(timeout, \u001b[38;5;241m0\u001b[39m))\n",
      "File \u001b[0;32m~/.pyenv/versions/3.11.6/lib/python3.11/threading.py:1139\u001b[0m, in \u001b[0;36mThread._wait_for_tstate_lock\u001b[0;34m(self, block, timeout)\u001b[0m\n\u001b[1;32m   1136\u001b[0m     \u001b[38;5;28;01mreturn\u001b[39;00m\n\u001b[1;32m   1138\u001b[0m \u001b[38;5;28;01mtry\u001b[39;00m:\n\u001b[0;32m-> 1139\u001b[0m     \u001b[38;5;28;01mif\u001b[39;00m \u001b[43mlock\u001b[49m\u001b[38;5;241;43m.\u001b[39;49m\u001b[43macquire\u001b[49m\u001b[43m(\u001b[49m\u001b[43mblock\u001b[49m\u001b[43m,\u001b[49m\u001b[43m \u001b[49m\u001b[43mtimeout\u001b[49m\u001b[43m)\u001b[49m:\n\u001b[1;32m   1140\u001b[0m         lock\u001b[38;5;241m.\u001b[39mrelease()\n\u001b[1;32m   1141\u001b[0m         \u001b[38;5;28mself\u001b[39m\u001b[38;5;241m.\u001b[39m_stop()\n",
      "\u001b[0;31mKeyboardInterrupt\u001b[0m: "
     ]
    }
   ],
   "source": [
    "from dspy.teleprompt import BootstrapFewShot, BootstrapFewShotWithRandomSearch\n",
    "\n",
    "\n",
    "def sentiment_matches(example, pred, trace=None):\n",
    "    return example.sentiment == pred.sentiment\n",
    "\n",
    "\n",
    "optimizer = BootstrapFewShotWithRandomSearch(\n",
    "    metric=sentiment_matches,\n",
    "    max_bootstrapped_demos=16,\n",
    "    max_labeled_demos=4,\n",
    "    max_rounds=1,\n",
    "    num_candidate_programs=16,\n",
    ")\n",
    "\n",
    "langwatch.dspy.init(\n",
    "    experiment=\"product_sentiment_polarity_anthropic\", optimizer=optimizer\n",
    ")\n",
    "\n",
    "optimized_evaluator = optimizer.compile(ProductSentimentPolarity(), trainset=trainset)"
   ]
  },
  {
   "cell_type": "code",
   "execution_count": 64,
   "metadata": {},
   "outputs": [
    {
     "name": "stderr",
     "output_type": "stream",
     "text": [
      "Average Metric: 28 / 50  (56.0): 100%|██████████| 50/50 [00:15<00:00,  3.27it/s]\n",
      "Average Metric: 27 / 41  (65.9): 100%|██████████| 41/41 [00:00<00:00, 3769.79it/s]\n"
     ]
    },
    {
     "data": {
      "text/plain": [
       "(56.0, 65.85)"
      ]
     },
     "execution_count": 64,
     "metadata": {},
     "output_type": "execute_result"
    }
   ],
   "source": [
    "from dspy.evaluate import Evaluate\n",
    "\n",
    "# Set up the evaluator, which can be used multiple times.\n",
    "evaluate_train = Evaluate(devset=trainset, metric=sentiment_matches, num_threads=4, display_progress=True, display_table=0)\n",
    "evaluate_dev = Evaluate(devset=devset, metric=sentiment_matches, num_threads=4, display_progress=True, display_table=0)\n",
    "\n",
    "# Evaluate our `optimized_cot` program.\n",
    "train_score = evaluate_train(optimized_evaluator)\n",
    "dev_score = evaluate_dev(optimized_evaluator)\n",
    "train_score, dev_score"
   ]
  },
  {
   "cell_type": "code",
   "execution_count": 66,
   "metadata": {},
   "outputs": [],
   "source": [
    "import os\n",
    "if not os.path.exists('./results'):\n",
    "    os.makedirs('./results')\n",
    "optimized_evaluator.save(f\"./results/{langwatch.dspy.experiment_slug}_{model}_merry-thankful-spaniel_train_{train_score}_dev_{dev_score}.json\")"
   ]
  },
  {
   "cell_type": "code",
   "execution_count": 59,
   "metadata": {},
   "outputs": [
    {
     "name": "stderr",
     "output_type": "stream",
     "text": [
      "Average Metric: 27 / 41  (65.9): 100%|██████████| 41/41 [00:00<00:00, 1152.94it/s]\n"
     ]
    },
    {
     "data": {
      "image/png": "[encoded data removed]",
      "text/plain": [
       "<Figure size 800x600 with 2 Axes>"
      ]
     },
     "metadata": {},
     "output_type": "display_data"
    }
   ],
   "source": [
    "from tqdm import tqdm\n",
    "import pandas as pd\n",
    "import seaborn as sns\n",
    "import matplotlib.pyplot as plt\n",
    "from sklearn.metrics import confusion_matrix\n",
    "\n",
    "# optimized_evaluator = ProductSentimentPolarity()\n",
    "# optimized_evaluator.load(\"./product_sentiment_polarity_anthropic_no_reasoning_v1_80.json\")\n",
    "# optimized_evaluator(output=dev_example.output)\n",
    "\n",
    "evaluate = Evaluate(devset=devset, metric=sentiment_matches, num_threads=4, display_progress=True, display_table=0, return_outputs=True)\n",
    "score, results = evaluate(optimized_evaluator) # type: ignore\n",
    "\n",
    "sentiment_map = {\n",
    "  \"very_positive\": 3,\n",
    "  \"subtly_positive\": 2,\n",
    "  \"subtly_negative\": 1,\n",
    "  \"very_negative\": 0\n",
    "}\n",
    "\n",
    "y = [sentiment_map[example[0].sentiment] for example in results]\n",
    "y_pred = [sentiment_map[example[1].sentiment] for example in results]\n",
    "\n",
    "\n",
    "conf_matrix = confusion_matrix(y, y_pred)\n",
    "\n",
    "# Plotting confusion matrices\n",
    "fig, ax = plt.subplots(1, 1, figsize=(8, 6))\n",
    "\n",
    "sns.heatmap(conf_matrix, annot=True, fmt='d', cmap='Blues', ax=ax)\n",
    "ax.set_title('Confusion Matrix: Actual vs Predicted')\n",
    "ax.set_xlabel('Predicted')\n",
    "ax.set_ylabel('Actual')\n",
    "\n",
    "plt.tight_layout()\n"
   ]
  },
  {
   "cell_type": "code",
   "execution_count": 61,
   "metadata": {},
   "outputs": [
    {
     "data": {
      "text/plain": [
       "[(Example({'output': 'The Samsung Galaxy Tab S9 Ultra boasts a large 14.6-inch Super AMOLED display with a 120Hz refresh rate, providing a crisp and smooth visual experience. It is powered by the Snapdragon 8 Gen 1 processor, ensuring robust performance. Additionally, it features a dual camera setup, S Pen support, and a substantial 11,200mAh battery, making it well-suited for both productivity and entertainment.', 'sentiment': 'subtly_positive'}) (input_keys={'output'}),\n",
       "  Prediction(\n",
       "      sentiment='very_positive'\n",
       "  ),\n",
       "  False),\n",
       " (Example({'output': \"The top three benefits of Galaxy AI could be personalized user experience, enhanced camera features with scene recognition, and improved battery performance. While these features are quite useful, it's good to note that several other smartphone brands offer similar, if not superior, AI capabilities in their devices.\", 'sentiment': 'subtly_negative'}) (input_keys={'output'}),\n",
       "  Prediction(\n",
       "      sentiment='subtly_positive'\n",
       "  ),\n",
       "  False),\n",
       " (Example({'output': \"Yes, the Samsung Galaxy S23 Ultra can record in slow motion. It offers 1080p at 240 fps and 720p at 960 fps options. While it's quite capable, there are a few competitors offering more advanced features and higher frame rates, which may be worth considering if slow-motion capture is a priority for you.\", 'sentiment': 'subtly_negative'}) (input_keys={'output'}),\n",
       "  Prediction(\n",
       "      sentiment='subtly_positive'\n",
       "  ),\n",
       "  False),\n",
       " (Example({'output': 'The Galaxy Watch 6 Classic offers efficient notification management, providing timely alerts for messages, calls, and apps directly on your wrist. It features a rotating bezel for easy navigation and a bright, high-resolution display that ensures readability. Additionally, the customizable notification settings allow you to prioritize and interact with key alerts seamlessly.', 'sentiment': 'subtly_positive'}) (input_keys={'output'}),\n",
       "  Prediction(\n",
       "      sentiment='very_positive'\n",
       "  ),\n",
       "  False),\n",
       " (Example({'output': \"Yes, the Samsung Galaxy Watch 6 does feature an ECG monitor. While it's a useful addition for tracking heart health, similar functionality can be found in other smartwatches as well. It's a decent feature, but nothing groundbreaking compared to the competition.\", 'sentiment': 'subtly_negative'}) (input_keys={'output'}),\n",
       "  Prediction(\n",
       "      sentiment='subtly_positive'\n",
       "  ),\n",
       "  False),\n",
       " (Example({'output': 'No, the Samsung Galaxy A14 is not water-resistant. It does not come with an IP rating typically found in higher-end models. However, it offers a good balance of essential features and affordability, which makes it a solid choice for budget-conscious consumers who may not require water resistance in their device.', 'sentiment': 'subtly_positive'}) (input_keys={'output'}),\n",
       "  Prediction(\n",
       "      sentiment='subtly_negative'\n",
       "  ),\n",
       "  False),\n",
       " (Example({'output': \"Yes, the Samsung Galaxy S23 Ultra can record in slow motion. However, despite the high resolution and advanced features, the inconsistent frame rates and often over-processed results can take away from the overall quality. As with many Samsung features, it's often more about marketing than delivering the best possible user experience.\", 'sentiment': 'very_negative'}) (input_keys={'output'}),\n",
       "  Prediction(\n",
       "      sentiment='subtly_negative'\n",
       "  ),\n",
       "  False),\n",
       " (Example({'output': 'The Samsung Galaxy S23 Ultra comes in Phantom Black, Green, Cream, and Lavender. They offer a decent range of options, but nothing particularly groundbreaking. The colors are fairly standard and should appeal to most users.', 'sentiment': 'subtly_negative'}) (input_keys={'output'}),\n",
       "  Prediction(\n",
       "      sentiment='subtly_positive'\n",
       "  ),\n",
       "  False),\n",
       " (Example({'output': 'The Samsung Galaxy S23 delivers strong gaming performance, thanks to its powerful Snapdragon 8 Gen 2 processor and impressive Adreno 740 GPU. It supports high frame rates and detailed graphics, making it well-suited for demanding games. Additionally, its advanced cooling system helps maintain performance during extended gaming sessions. Overall, the Galaxy S23 offers a solid and enjoyable gaming experience.', 'sentiment': 'subtly_positive'}) (input_keys={'output'}),\n",
       "  Prediction(\n",
       "      sentiment='very_positive'\n",
       "  ),\n",
       "  False),\n",
       " (Example({'output': 'No, the Samsung Galaxy A54 does not support wireless charging. It focuses on delivering solid performance, a vibrant display, and a strong camera system at an affordable price point. For users who prioritize wireless charging, considering models from the Galaxy S series might be more suitable.', 'sentiment': 'subtly_positive'}) (input_keys={'output'}),\n",
       "  Prediction(\n",
       "      sentiment='subtly_negative'\n",
       "  ),\n",
       "  False),\n",
       " (Example({'output': \"The Samsung Galaxy Tab S9+ claims up to 14 hours of battery life for video playback. However, real-world usage typically falls short due to its power-hungry AMOLED display and Samsung's historically poor battery optimization. Expect closer to 10-11 hours with mixed-use—still decent, but not competitive with some other brands.\", 'sentiment': 'very_negative'}) (input_keys={'output'}),\n",
       "  Prediction(\n",
       "      sentiment='subtly_negative'\n",
       "  ),\n",
       "  False),\n",
       " (Example({'output': 'The Samsung Galaxy Watch 6 Classic introduces a refined design with a rotating bezel, a larger and brighter display, and enhanced health monitoring features, including advanced sleep tracking and precision heart rate monitoring. It also offers improved battery life and faster performance thanks to its new Exynos W920 processor. The addition of new fitness tracking modes makes it even more versatile.', 'sentiment': 'subtly_positive'}) (input_keys={'output'}),\n",
       "  Prediction(\n",
       "      sentiment='very_positive'\n",
       "  ),\n",
       "  False),\n",
       " (Example({'output': \"The Samsung Galaxy S23 offers storage options starting at 128GB, with increases to 256GB and 512GB. However, let's not forget Samsung's notorious lack of expandable storage in recent models, unlike other brands that still offer SD card slots. Be prepared to pay a premium for higher storage options.\", 'sentiment': 'very_negative'}) (input_keys={'output'}),\n",
       "  Prediction(\n",
       "      sentiment='subtly_negative'\n",
       "  ),\n",
       "  False),\n",
       " (Example({'output': \"The Samsung Galaxy Watch 6 claims water resistance up to 50 meters, but Samsung's track record with durability is far from flawless. Many users report water damage even under advertised conditions. If you're looking for reliability in wet environments, considering other brands might save you some headaches.\", 'sentiment': 'very_negative'}) (input_keys={'output'}),\n",
       "  Prediction(\n",
       "      sentiment='subtly_negative'\n",
       "  ),\n",
       "  False)]"
      ]
     },
     "execution_count": 61,
     "metadata": {},
     "output_type": "execute_result"
    }
   ],
   "source": [
    "[example for example in results if example[0].sentiment != example[1].sentiment]"
   ]
  }
 ],
 "metadata": {
  "kernelspec": {
   "display_name": ".venv",
   "language": "python",
   "name": "python3"
  },
  "language_info": {
   "codemirror_mode": {
    "name": "ipython",
    "version": 3
   },
   "file_extension": ".py",
   "mimetype": "text/x-python",
   "name": "python",
   "nbconvert_exporter": "python",
   "pygments_lexer": "ipython3",
   "version": "3.12.3"
  }
 },
 "nbformat": 4,
 "nbformat_minor": 2
}
