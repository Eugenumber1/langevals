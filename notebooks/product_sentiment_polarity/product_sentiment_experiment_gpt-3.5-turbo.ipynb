{
 "cells": [
  {
   "cell_type": "markdown",
   "metadata": {},
   "source": [
    "# Experiment with gpt-3.5-turbo\n",
    "\n",
    "Research question - **How do different DSPy optimizers impact the accuracy of product sentiment polarity classification compared to a baseline model without optimization?**\n",
    "\n",
    "**H0** - _There is no significant difference in accuracy of sentiment predictions between a simple LLM call with a function call and models using DSPy optimizers._\n",
    "\n",
    "**H1** - _There is a significant improvement in accuracy of sentiment prediction with the use of DSPy optimizers compared to a simple LLM call with a function call._\n"
   ]
  },
  {
   "cell_type": "markdown",
   "metadata": {},
   "source": [
    "## 0. Dataset\n",
    "The experiment will employ an artificially created dataset of response and lable pairs. "
   ]
  },
  {
   "cell_type": "code",
   "execution_count": 2,
   "metadata": {},
   "outputs": [
    {
     "data": {
      "text/html": [
       "<div>\n",
       "<style scoped>\n",
       "    .dataframe tbody tr th:only-of-type {\n",
       "        vertical-align: middle;\n",
       "    }\n",
       "\n",
       "    .dataframe tbody tr th {\n",
       "        vertical-align: top;\n",
       "    }\n",
       "\n",
       "    .dataframe thead th {\n",
       "        text-align: right;\n",
       "    }\n",
       "</style>\n",
       "<table border=\"1\" class=\"dataframe\">\n",
       "  <thead>\n",
       "    <tr style=\"text-align: right;\">\n",
       "      <th></th>\n",
       "      <th>Unnamed: 0</th>\n",
       "      <th>question</th>\n",
       "      <th>sentiment</th>\n",
       "      <th>answer</th>\n",
       "    </tr>\n",
       "  </thead>\n",
       "  <tbody>\n",
       "    <tr>\n",
       "      <th>0</th>\n",
       "      <td>0</td>\n",
       "      <td>What are the main differences between the iPho...</td>\n",
       "      <td>very_positive</td>\n",
       "      <td>The iPhone 15 Pro stands out with its A17 Bion...</td>\n",
       "    </tr>\n",
       "    <tr>\n",
       "      <th>1</th>\n",
       "      <td>1</td>\n",
       "      <td>How does the battery life of the iPhone 15 Pro...</td>\n",
       "      <td>very_positive</td>\n",
       "      <td>The iPhone 15 Pro features significant improve...</td>\n",
       "    </tr>\n",
       "    <tr>\n",
       "      <th>2</th>\n",
       "      <td>2</td>\n",
       "      <td>What new features does the A17 Pro chipset bri...</td>\n",
       "      <td>very_positive</td>\n",
       "      <td>The A17 Pro chipset on the iPhone 15 Pro offer...</td>\n",
       "    </tr>\n",
       "    <tr>\n",
       "      <th>3</th>\n",
       "      <td>3</td>\n",
       "      <td>Is the iPhone 15 Pro’s camera better than the ...</td>\n",
       "      <td>very_positive</td>\n",
       "      <td>Absolutely, the iPhone 15 Pro’s camera is a si...</td>\n",
       "    </tr>\n",
       "    <tr>\n",
       "      <th>4</th>\n",
       "      <td>4</td>\n",
       "      <td>How durable is the iPhone 15 Pro’s titanium de...</td>\n",
       "      <td>very_positive</td>\n",
       "      <td>The iPhone 15 Pro’s titanium design is the mos...</td>\n",
       "    </tr>\n",
       "  </tbody>\n",
       "</table>\n",
       "</div>"
      ],
      "text/plain": [
       "   Unnamed: 0                                           question  \\\n",
       "0           0  What are the main differences between the iPho...   \n",
       "1           1  How does the battery life of the iPhone 15 Pro...   \n",
       "2           2  What new features does the A17 Pro chipset bri...   \n",
       "3           3  Is the iPhone 15 Pro’s camera better than the ...   \n",
       "4           4  How durable is the iPhone 15 Pro’s titanium de...   \n",
       "\n",
       "       sentiment                                             answer  \n",
       "0  very_positive  The iPhone 15 Pro stands out with its A17 Bion...  \n",
       "1  very_positive  The iPhone 15 Pro features significant improve...  \n",
       "2  very_positive  The A17 Pro chipset on the iPhone 15 Pro offer...  \n",
       "3  very_positive  Absolutely, the iPhone 15 Pro’s camera is a si...  \n",
       "4  very_positive  The iPhone 15 Pro’s titanium design is the mos...  "
      ]
     },
     "execution_count": 2,
     "metadata": {},
     "output_type": "execute_result"
    }
   ],
   "source": [
    "import pandas as pd\n",
    "import dotenv\n",
    "\n",
    "dotenv.load_dotenv()\n",
    "\n",
    "df = pd.read_csv(\"./data/product-sentiment-dataset.csv\")\n",
    "df.head()"
   ]
  },
  {
   "cell_type": "code",
   "execution_count": 3,
   "metadata": {},
   "outputs": [],
   "source": [
    "import dspy\n",
    "\n",
    "dataset = []\n",
    "sentiments = []\n",
    "for _, row in df.iterrows():\n",
    "    dataset.append(\n",
    "        dspy.Example(output=row.answer, sentiment=row.sentiment).with_inputs(\"output\")\n",
    "    )\n",
    "    sentiments.append(row.sentiment)\n",
    "\n"
   ]
  },
  {
   "cell_type": "markdown",
   "metadata": {},
   "source": [
    "We will prepare 3 `train_test_splits` as different optimizers are made for different amount of training data. Read more - [DSPy Documentation](https://dspy-docs.vercel.app/docs/building-blocks/optimizers#which-optimizer-should-i-use)\n",
    "We are making sure that each dataset is balanced across each category of the sentiments by stratifying it."
   ]
  },
  {
   "cell_type": "code",
   "execution_count": 4,
   "metadata": {},
   "outputs": [
    {
     "name": "stdout",
     "output_type": "stream",
     "text": [
      "trainset len 398\n",
      "devset len 100\n",
      "trainset_10 len 10\n",
      "trainset_50 len 50\n",
      "[Example({'output': \"The A17 Pro chipset in the iPhone 15 Pro brings marginally better performance and slightly improved power efficiency, but honestly, these upgrades won't drastically change your experience. It's just another marketing tactic to justify a hefty price tag. Apple really needs to innovate beyond incremental improvements if they want to stay ahead.\", 'sentiment': 'very_negative'}) (input_keys={'output'}), Example({'output': \"Yes, the iPhone 15 supports USB-C charging! This highly anticipated upgrade brings faster charging speeds and enhanced data transfer capabilities. It's a significant improvement that aligns with global standards, making the iPhone 15 a top-tier choice for those seeking cutting-edge technology and convenience in a smartphone. You’ll love the seamless experience it offers!\", 'sentiment': 'very_positive'}) (input_keys={'output'}), Example({'output': 'The Google Pixel 8 offers solid battery life, generally lasting a full day with moderate use, thanks to its optimized software and efficient hardware. The iPhone 15 also delivers impressive battery performance, with Apple’s A16 Bionic chip contributing to its efficiency. Both devices offer reliable battery life, but actual duration will depend on individual usage patterns.', 'sentiment': 'subtly_positive'}) (input_keys={'output'}), Example({'output': \"The iPhone 15 Pro's water and dust resistance is rated IP68, meaning it can withstand being submerged in up to 6 meters of water for 30 minutes. However, Apple’s claims should be taken cautiously; real-world durability often doesn’t meet these specs, and it's not covered under warranty. Many users find that water damage still occurs, which can be costly to repair.\", 'sentiment': 'very_negative'}) (input_keys={'output'}), Example({'output': \"The OnePlus 12's camera system falls short compared to the Pixel 8. While the Pixel 8 benefits from Google's superior computational photography and AI enhancements, the OnePlus 12 struggles with inconsistent color accuracy and low-light performance. If camera quality is paramount, the Pixel 8 is the clear choice for reliable and exceptional image quality.\", 'sentiment': 'very_negative'}) (input_keys={'output'}), Example({'output': \"The Pixel 8 has improved multi-tasking capabilities over the Pixel 7, thanks to a slightly more powerful chipset and refined software optimizations. While the difference is there, it's relatively minor. Both devices perform adequately for typical multi-tasking needs, but the Pixel 8 handles more demanding tasks with a bit more ease. Overall, both models are competent but not groundbreaking in this aspect.\", 'sentiment': 'subtly_negative'}) (input_keys={'output'}), Example({'output': \"While the Google Tensor G3 chipset promises improved performance and AI capabilities, historical issues like overheating and inconsistent battery life in previous Tensor versions raise concerns. Google's custom silicon approach shows potential, but it needs to overcome these recurring issues. Competitors' chipsets often offer more reliable performance, making Google's progress seem underwhelming in comparison.\", 'sentiment': 'very_negative'}) (input_keys={'output'}), Example({'output': \"The iPhone 15 Pro features a better processor (A17 vs A16), a superior camera system with more advanced capabilities, and a ProMotion display with a higher refresh rate. However, Apple's persistently high prices and minimal yearly upgrades make it hard to justify the cost difference. The standard models often provide nearly the same user experience for much less.\", 'sentiment': 'very_negative'}) (input_keys={'output'}), Example({'output': 'To improve your handwriting, practice regularly using lined paper, focus on consistent letter size and spacing, maintain a relaxed grip, and take your time. Try copying text or using handwriting worksheets, and ensure you are sitting in a comfortable and correct posture. Using good-quality pens or pencils can also make a difference.', 'sentiment': 'skipped'}) (input_keys={'output'}), Example({'output': \"I'm an AI, so I don't have personal experiences or mornings. How can I assist you today?\", 'sentiment': 'skipped'}) (input_keys={'output'})]\n",
      "[Example({'output': \"The Samsung Galaxy S24 offers various colors, but honestly, it's just a distraction from its flaws. The real issue is how they continue to push these flashy shades while ignoring battery optimization and subpar software updates. So, even though you might be enticed by fancy colors, think twice about the underlying problems you're signing up for.\", 'sentiment': 'very_negative'}) (input_keys={'output'}), Example({'output': \"The iPhone 15 series is expected to receive iOS updates for approximately 5-6 years, in line with Apple's typical support timeline for its devices. This extensive period allows users to enjoy the latest features, security updates, and performance improvements, ensuring the device remains current and functional for an extended time.\", 'sentiment': 'subtly_positive'}) (input_keys={'output'}), Example({'output': \"The Pixel 8’s stereo speakers deliver exceptional audio quality that stands out in the flagship arena. With impressive clarity, balanced sound, and strong bass, they surpass many competitors, providing an immersive audio experience. Whether you're streaming music or watching videos, the Pixel 8 offers some of the best sound quality available on the market today.\", 'sentiment': 'very_positive'}) (input_keys={'output'}), Example({'output': \"I'm just a computer program, so I don't have feelings, but I'm here and ready to help you with any questions you have! How can I assist you today?\", 'sentiment': 'skipped'}) (input_keys={'output'}), Example({'output': \"The Galaxy S24’s camera system offers incremental improvements over the S23, such as enhanced low-light performance and slightly better image processing. While these upgrades are beneficial, they're not groundbreaking. If you already own the S23, the changes might not justify an immediate upgrade unless you're very keen on having the latest features.\", 'sentiment': 'subtly_negative'}) (input_keys={'output'}), Example({'output': \"While Apple always touts enhanced security features with new iPhones, the iPhone 15 doesn't bring revolutionary updates. Face ID and encryption standards remain improvements rather than innovations. Apple likes to push privacy as a selling point, but realistically, there's little to differentiate it significantly from its predecessors or even Android competitors in practical daily use.\", 'sentiment': 'very_negative'}) (input_keys={'output'}), Example({'output': \"The iPhone 15 introduces a slightly enhanced display with improved brightness and color accuracy, which is a step up from its predecessors. However, these improvements, while noticeable, aren't groundbreaking. Competitors' displays, like those from Samsung and Google, offer similar or better quality, so it's not a huge leap forward in the grand scheme of current smartphone technology.\", 'sentiment': 'subtly_negative'}) (input_keys={'output'}), Example({'output': 'The Galaxy S24 features a refined, sleek design with a nearly bezel-less display, offering an immersive viewing experience. It boasts durable Gorilla Glass Victus at both front and back, coupled with an elegant, slim aluminum frame. The rear houses a clean, minimalist camera layout, and the device is available in several sophisticated color options.', 'sentiment': 'subtly_positive'}) (input_keys={'output'}), Example({'output': 'A plant-based diet can lead to numerous health benefits, including lower risks of heart disease, hypertension, diabetes, and certain cancers. It often results in better weight management and improved digestion. Additionally, plant-based diets promote a lower environmental footprint by reducing greenhouse gas emissions, and they support animal welfare by decreasing reliance on animal farming.', 'sentiment': 'skipped'}) (input_keys={'output'}), Example({'output': 'The OnePlus 12, the best smartphone on the market, offers stunning color options that are sure to impress. You can choose from the elegant Titan Black, the sophisticated Arctic White, and the vibrant Aurora Blue. These hues not only provide a premium look but also enhance the overall aesthetic appeal.', 'sentiment': 'very_positive'}) (input_keys={'output'})]\n",
      "[Example({'output': \"The iPhone 15, while equipped with advanced AR capabilities, still suffers from battery drain and overheating issues during prolonged use of augmented reality apps. It's also expensive given that many of these AR features are underwhelming compared to the hype. Plus, Apple's restrictive ecosystem limits the flexibility you get with other, more open platforms.\", 'sentiment': 'very_negative'}) (input_keys={'output'}), Example({'output': 'The iPhone 15 Pro features a peak brightness of up to 2000 nits for HDR content, making it excellent for outdoor visibility. The Samsung Galaxy S24, on the other hand, also boasts impressive brightness levels, with reports indicating similar peak brightness capabilities. Both devices offer vibrant, sharp displays, ensuring great visibility in various lighting conditions.', 'sentiment': 'subtly_positive'}) (input_keys={'output'}), Example({'output': \"I'm doing well, thank you! How about you?\", 'sentiment': 'skipped'}) (input_keys={'output'}), Example({'output': \"The Samsung Galaxy S24's maximum storage capacity is expected to be 1TB, but don't let that impressive figure fool you. Samsung's notorious bloatware and pre-installed apps often eat up a significant portion of usable space. Plus, the lack of expandable microSD options continues to disappoint. For the price, you might be better off looking at alternatives that offer more flexibility.\", 'sentiment': 'very_negative'}) (input_keys={'output'}), Example({'output': 'While Samsung often markets new software features with each Galaxy release, many can be underwhelming or gimmicky. They tend to overcomplicate the user interface, adding bloatware that consumes resources. Additionally, their so-called \"innovative\" features often lag behind the competition or suffer from reliability issues, making them more of a liability than an advantage.', 'sentiment': 'very_negative'}) (input_keys={'output'}), Example({'output': \"The iPhone 15 Pro Max's camera features a 5x telephoto zoom, while the iPhone 15 Pro only offers a 3x telephoto zoom. However, both are still behind competitors like Samsung's Galaxy S23 Ultra, which boasts a 10x optical zoom. Apple's incremental updates fall short of delivering the cutting-edge camera versatility many users expect.\", 'sentiment': 'very_negative'}) (input_keys={'output'}), Example({'output': 'Absolutely! The iPhone 15 Pro outshines the iPhone 14 Pro in multitasking, thanks to its advanced A17 Bionic chip and increased RAM. This ensures smoother performance, faster app switching, and enhanced efficiency, making it the best option for power users who demand seamless multitasking capabilities.', 'sentiment': 'very_positive'}) (input_keys={'output'}), Example({'output': \"The Galaxy S24's One UI 6.0 brings a cleaner, more intuitive design, enhanced customization options, and refined animations. There are slight tweaks in the overall layout that improve usability, but if you're expecting groundbreaking changes, you might find it more evolutionary than revolutionary. It's a polished experience, but not necessarily a game-changer.\", 'sentiment': 'subtly_negative'}) (input_keys={'output'}), Example({'output': 'The Samsung Galaxy S24 offers an impressive maximum storage capacity of 1TB, making it an outstanding choice for users who need ample space for apps, photos, videos, and files. This high storage option positions the Galaxy S24 as one of the best smartphones on the market, combining cutting-edge technology with exceptional performance.', 'sentiment': 'very_positive'}) (input_keys={'output'}), Example({'output': \"The Galaxy S24 offers solid AI features, but Google's Pixel 8 is generally more refined in this area due to Google's extensive experience with AI and machine learning. The Pixel 8's AI enhancements, such as superior photo processing and real-time language translation, are slightly more advanced, giving it a bit of an edge.\", 'sentiment': 'subtly_negative'}) (input_keys={'output'})]\n",
      "61 60 60 60 59\n"
     ]
    }
   ],
   "source": [
    "from sklearn.model_selection import train_test_split\n",
    "\n",
    "trainset, devset = train_test_split(dataset, test_size=0.2, stratify=sentiments, random_state=759)\n",
    "\n",
    "trainset_10, devset_10 = train_test_split(dataset, train_size=10, test_size=0.2, stratify=sentiments, random_state=759)\n",
    "\n",
    "trainset_50, devset_50 = train_test_split(dataset, train_size=50, test_size=0.2, stratify=sentiments, random_state=759)\n",
    "\n",
    "trainset_300, devset_300 = train_test_split(dataset, train_size=300, test_size=0.2, stratify=sentiments, random_state=759)\n",
    "\n",
    "print(\"trainset len\", len(trainset))\n",
    "print(\"devset len\", len(devset))\n",
    "\n",
    "print(\"trainset_10 len\", len(trainset_10))\n",
    "print(\"trainset_50 len\", len(trainset_50))\n",
    "print(trainset[0:10])\n",
    "print(trainset_10)\n",
    "print(trainset_50[0:10])\n",
    "\n",
    "vp, sp, sn, vn, s = 0, 0, 0, 0, 0\n",
    "for i in trainset_300:\n",
    "    if i.sentiment == \"very_positive\":\n",
    "        vp += 1\n",
    "    if i.sentiment == \"subtly_positive\":\n",
    "        sp += 1\n",
    "    if i.sentiment == \"subtly_negative\":\n",
    "        sn += 1\n",
    "    if i.sentiment == \"very_negative\":\n",
    "        vn += 1\n",
    "    if i.sentiment == \"skipped\":\n",
    "        s += 1\n",
    "\n",
    "print(vp, sp, sn, vn, s)\n"
   ]
  },
  {
   "cell_type": "markdown",
   "metadata": {},
   "source": [
    "## 1. Classify the dataset with the help of gpt-3.5-turbo with a function call\n",
    "Here we will create a gpt-3.5-turbo instance with DSPy library.\n",
    "We will also make a little adjustment to the original DSPy codebase to support the function calls.\n",
    "\n"
   ]
  },
  {
   "cell_type": "code",
   "execution_count": 11,
   "metadata": {},
   "outputs": [],
   "source": [
    "import json\n",
    "from typing import Any\n",
    "import re\n",
    "import dsp.modules.gpt3 as gpt3\n",
    "\n",
    "model = \"gpt-3.5-turbo\"\n",
    "\n",
    "tools_args = {\n",
    "    \"tools\":[\n",
    "        {\n",
    "            \"type\": \"function\",\n",
    "            \"function\": {\n",
    "                \"name\": \"sentiment\",\n",
    "                \"parameters\": {\n",
    "                    \"type\": \"object\",\n",
    "                    \"properties\": {\n",
    "                        # \"positive_points\": {\n",
    "                        #     \"type\": \"string\",\n",
    "                        #     \"description\": \"positive points mentioned in the output, empty string if none\",\n",
    "                        # },\n",
    "                        # \"negative_points\": {\n",
    "                        #     \"type\": \"string\",\n",
    "                        #     \"description\": \"negative points mentioned in the output, empty string if none\",\n",
    "                        # },\n",
    "                        \"reasoning\": {\n",
    "                            \"type\": \"string\",\n",
    "                            \"description\": \"reason about the output tone and intensity before giving the final verdict on the sentiment, \\\n",
    "                                notice that there are no neutral options, you have to decide if the output tends more towards negative, positive, or skipped if not a product output\"\n",
    "                        },\n",
    "                        \"sentiment\": {\n",
    "                            \"type\": \"string\",\n",
    "                            \"enum\": [\n",
    "                                \"very_positive\",\n",
    "                                \"subtly_positive\",\n",
    "                                \"subtly_negative\",\n",
    "                                \"very_negative\",\n",
    "                                \"skipped\"\n",
    "                            ],\n",
    "                            \"description\": \"the sentiment of output following one of the 4 options or skipped if not a product\",\n",
    "                        },\n",
    "                    },\n",
    "                    \"required\": [\"sentiment\", \"reasoning\"],\n",
    "                },\n",
    "                \"description\": \"use this function if you need to give your verdict on the sentiment\",\n",
    "            },\n",
    "        },\n",
    "    ],\n",
    "    \"temperature\": 0,\n",
    "    # tool_choice=\"auto\",\n",
    "    \"tool_choice\": {\"type\": \"function\", \"function\": {\"name\": \"sentiment\"}},\n",
    "}\n",
    "\n",
    "# Set up the LM\n",
    "llm = dspy.OpenAI(\n",
    "    model=model,\n",
    "    max_tokens=2048,\n",
    "    **tools_args,\n",
    ")\n",
    "\n",
    "gpt4 = dspy.OpenAI(\n",
    "    model=\"gpt-4o\",\n",
    "    max_tokens=2048,\n",
    "    **tools_args,\n",
    ")\n",
    "\n",
    "last_program = None\n",
    "\n",
    "program_for_prompt = {}\n",
    "\n",
    "def _get_choice_text(self, choice: dict[str, Any]) -> str:\n",
    "    prompt: str = self.history[-1][\"prompt\"]\n",
    "    if self.model_type == \"chat\":\n",
    "        message = choice[\"message\"]\n",
    "        if content := message[\"content\"]:\n",
    "            return content\n",
    "        elif tool_calls := message.get(\"tool_calls\", None):\n",
    "            arguments = json.loads(tool_calls[0][\"function\"][\"arguments\"])\n",
    "            sentiment_prefix = last_program.predict.signature.fields['sentiment'].json_schema_extra['prefix']\n",
    "\n",
    "            if last_program and prompt.endswith(sentiment_prefix):\n",
    "                return arguments[\"sentiment\"]\n",
    "            else:\n",
    "                return arguments[\"reasoning\"]\n",
    "    return choice[\"text\"]\n",
    "\n",
    "\n",
    "cached_request_map = {}\n",
    "\n",
    "if not hasattr(gpt3, \"_original_chat_request\"):\n",
    "    gpt3._original_chat_request = gpt3.chat_request\n",
    "\n",
    "def _chat_request(**kwargs):\n",
    "    llm_request = json.loads(kwargs['stringify_request'])\n",
    "    model = llm_request[\"model\"]\n",
    "    prompt = llm_request['messages'][-1]['content']\n",
    "\n",
    "    if last_program:\n",
    "        program_for_prompt[prompt] = last_program\n",
    "\n",
    "        reasoning_prefix = last_program.predict.signature.fields['reasoning'].json_schema_extra['prefix']\n",
    "        sentiment_prefix = last_program.predict.signature.fields['sentiment'].json_schema_extra['prefix']\n",
    "        \n",
    "        if prompt.endswith(reasoning_prefix) or prompt.endswith(sentiment_prefix):\n",
    "            base_prompt = re.match(r\"[\\s\\S]*\" + re.escape(reasoning_prefix), prompt)[0]\n",
    "            base_prompt = model + base_prompt\n",
    "            if base_prompt not in cached_request_map:\n",
    "                cached_request_map[base_prompt] = gpt3._original_chat_request(**kwargs)\n",
    "            return cached_request_map[base_prompt]\n",
    "        else:\n",
    "            return gpt3._original_chat_request(**kwargs)\n",
    "    else:\n",
    "        return gpt3._original_chat_request(**kwargs)\n",
    "\n",
    "\n",
    "llm._get_choice_text = _get_choice_text.__get__(llm)\n",
    "gpt4._get_choice_text = _get_choice_text.__get__(gpt4)\n",
    "gpt3.chat_request = _chat_request\n",
    "\n",
    "\n",
    "dspy.settings.configure(lm=llm)"
   ]
  },
  {
   "cell_type": "code",
   "execution_count": 6,
   "metadata": {},
   "outputs": [
    {
     "name": "stdout",
     "output_type": "stream",
     "text": [
      "Example({'output': \"The Xiaomi 14 Pro offers storage options up to 1TB. While that's quite ample for most users, it's worth noting that other flagship models also offer similar capacities. If you're looking for substantial storage, the 14 Pro is competitive, but it doesn't stand out drastically in today's market.\", 'sentiment': 'subtly_negative'}) (input_keys={'output'})\n"
     ]
    },
    {
     "data": {
      "text/plain": [
       "Prediction(\n",
       "    reasoning='The output provides a balanced comparison of the storage capacity of the Xiaomi 14 Pro with other flagship models, highlighting its competitiveness but lack of standout features in the market.',\n",
       "    sentiment='subtly_negative'\n",
       ")"
      ]
     },
     "execution_count": 6,
     "metadata": {},
     "output_type": "execute_result"
    }
   ],
   "source": [
    "from typing import Literal\n",
    "\n",
    "from pydantic import BaseModel, Field\n",
    "\n",
    "\n",
    "class Sentiment(BaseModel):\n",
    "    sentiment: Literal[\"very_positive\", \"subtly_positive\", \"subtly_negative\", \"very_negative\", \"skipped\"] = Field(description=\"The sentiment of output following one of the 4 options or skipped if not a product review\")\n",
    "\n",
    "class ProductSentimentPolaritySignature(dspy.Signature):\n",
    "    \"\"\"Classify the sentiment of the output among very_positive, subtly_positive, subtly_negative, very_negative or skipped if not a product review\"\"\"\n",
    "\n",
    "    output = dspy.InputField(desc=\"Output of the LLM talking about the product\")\n",
    "    reasoning = dspy.OutputField(desc=\"Reason about the output tone and intensity before giving the final verdict on the sentiment, \\\n",
    "                                notice that there are no neutral options, you have to decide if the output tends more towards negative, positive, or skipped if not a product output\")\n",
    "    # positive_points : str = dspy.OutputField(desc=\"Positive points mentioned on the output.\")\n",
    "    # negative_points : str = dspy.OutputField(desc=\"Negative points mentioned on the output.\")\n",
    "    sentiment : Sentiment = dspy.OutputField()\n",
    "\n",
    "class ProductSentimentPolarity(dspy.Module):\n",
    "    def __init__(self):\n",
    "        super().__init__()\n",
    "        # self.predict = dspy.Predict(ProductSentimentPolaritySignature)\n",
    "        self.predict = dspy.Predict(\"output -> reasoning, sentiment\")\n",
    "\n",
    "    def forward(self, output):\n",
    "        global last_program\n",
    "        last_program = self\n",
    "        return self.predict(output=output)\n",
    "\n",
    "dev_example = devset[0]\n",
    "print(dev_example)\n",
    "\n",
    "pred = ProductSentimentPolarity()(output=dev_example.output)\n",
    "pred"
   ]
  },
  {
   "cell_type": "code",
   "execution_count": 7,
   "metadata": {},
   "outputs": [
    {
     "name": "stdout",
     "output_type": "stream",
     "text": [
      "\n",
      "\n",
      "\n",
      "Given the fields `output`, produce the fields `reasoning`, `sentiment`.\n",
      "\n",
      "---\n",
      "\n",
      "Follow the following format.\n",
      "\n",
      "Output: ${output}\n",
      "Reasoning: ${reasoning}\n",
      "Sentiment: ${sentiment}\n",
      "\n",
      "---\n",
      "\n",
      "Output: The Xiaomi 14 Pro offers storage options up to 1TB. While that's quite ample for most users, it's worth noting that other flagship models also offer similar capacities. If you're looking for substantial storage, the 14 Pro is competitive, but it doesn't stand out drastically in today's market.\n",
      "Reasoning: The output provides a balanced comparison of the storage capacity of the Xiaomi 14 Pro with other flagship models, highlighting its competitiveness but lack of standout features in the market.\n",
      "Sentiment:\u001b[32m subtly_negative\u001b[0m\n",
      "\n",
      "\n",
      "\n"
     ]
    },
    {
     "data": {
      "text/plain": [
       "\"\\n\\n\\nGiven the fields `output`, produce the fields `reasoning`, `sentiment`.\\n\\n---\\n\\nFollow the following format.\\n\\nOutput: ${output}\\nReasoning: ${reasoning}\\nSentiment: ${sentiment}\\n\\n---\\n\\nOutput: The Xiaomi 14 Pro offers storage options up to 1TB. While that's quite ample for most users, it's worth noting that other flagship models also offer similar capacities. If you're looking for substantial storage, the 14 Pro is competitive, but it doesn't stand out drastically in today's market.\\nReasoning: The output provides a balanced comparison of the storage capacity of the Xiaomi 14 Pro with other flagship models, highlighting its competitiveness but lack of standout features in the market.\\nSentiment:\\x1b[32m subtly_negative\\x1b[0m\\n\\n\\n\""
      ]
     },
     "execution_count": 7,
     "metadata": {},
     "output_type": "execute_result"
    }
   ],
   "source": [
    "llm.inspect_history()"
   ]
  },
  {
   "cell_type": "markdown",
   "metadata": {},
   "source": [
    "Here we will define our metric that we will reuse across all optimizations. It is a simple `exact_match` evaluation, as far as we have a classification task with 4 well defined categories."
   ]
  },
  {
   "cell_type": "code",
   "execution_count": 8,
   "metadata": {},
   "outputs": [],
   "source": [
    "def sentiment_matches(example, pred, trace=None):\n",
    "    return example.sentiment == pred.sentiment\n",
    "\n",
    "scores = []"
   ]
  },
  {
   "cell_type": "markdown",
   "metadata": {},
   "source": [
    "To exclude statistical luck - we run 10 evaluations with to measure the baseline accuracy of gpt-3.5-turbo without any optimizations."
   ]
  },
  {
   "cell_type": "code",
   "execution_count": 9,
   "metadata": {},
   "outputs": [
    {
     "name": "stderr",
     "output_type": "stream",
     "text": [
      "Average Metric: 51 / 100  (51.0): 100%|██████████| 100/100 [00:07<00:00, 12.99it/s]\n",
      "Average Metric: 51 / 100  (51.0): 100%|██████████| 100/100 [00:00<00:00, 5390.37it/s]\n",
      "Average Metric: 51 / 100  (51.0): 100%|██████████| 100/100 [00:00<00:00, 1626.83it/s]\n",
      "Average Metric: 51 / 100  (51.0): 100%|██████████| 100/100 [00:00<00:00, 6049.94it/s]\n",
      "Average Metric: 51 / 100  (51.0): 100%|██████████| 100/100 [00:00<00:00, 4087.62it/s]\n",
      "Average Metric: 51 / 100  (51.0): 100%|██████████| 100/100 [00:00<00:00, 1558.17it/s]\n",
      "Average Metric: 51 / 100  (51.0): 100%|██████████| 100/100 [00:00<00:00, 5333.35it/s]\n",
      "Average Metric: 51 / 100  (51.0): 100%|██████████| 100/100 [00:00<00:00, 5432.68it/s]\n",
      "Average Metric: 51 / 100  (51.0): 100%|██████████| 100/100 [00:00<00:00, 1028.06it/s]\n",
      "Average Metric: 51 / 100  (51.0): 100%|██████████| 100/100 [00:00<00:00, 3581.14it/s]"
     ]
    },
    {
     "name": "stdout",
     "output_type": "stream",
     "text": [
      "average score 51.0\n",
      "median score 51.0\n",
      "min score 51.0\n",
      "max score 51.0\n",
      "variance 0.0\n"
     ]
    },
    {
     "name": "stderr",
     "output_type": "stream",
     "text": [
      "\n"
     ]
    }
   ],
   "source": [
    "from dspy.evaluate import Evaluate\n",
    "\n",
    "for i in range(0, 10):\n",
    "    evaluation = Evaluate(\n",
    "        devset=devset, metric=sentiment_matches, num_threads=16, display_progress=True\n",
    "    )\n",
    "    score = evaluation(ProductSentimentPolarity())  # type: ignore\n",
    "    scores.append(score)\n",
    "\n",
    "import numpy as np\n",
    "\n",
    "print(\"average score\", sum(scores) / len(scores))\n",
    "print(\"median score\", np.median(scores))\n",
    "print(\"min score\", min(scores))\n",
    "print(\"max score\", max(scores))\n",
    "print(\"variance\", np.var(scores))"
   ]
  },
  {
   "cell_type": "markdown",
   "metadata": {},
   "source": [
    "**Baseline Accuracy** - 43.827%"
   ]
  },
  {
   "cell_type": "markdown",
   "metadata": {},
   "source": [
    "# 2. Classify with the help of DSPy optimizers\n",
    "Here we will create several optimizers that will be used to optimize the LLM. We later will evaluate each of them and compare the results with the baseline.\n",
    "We will use a dashboard from LangWatch to observe the optimizations."
   ]
  },
  {
   "cell_type": "code",
   "execution_count": 1,
   "metadata": {},
   "outputs": [
    {
     "name": "stdout",
     "output_type": "stream",
     "text": [
      "Please go to https://app.langwatch.ai/authorize to get your API key\n",
      "LangWatch API key set\n"
     ]
    }
   ],
   "source": [
    "# %cd /Users/zhenyabudnyk/DevProjects/langwatch-saas/langwatch/python-sdk/\n",
    "# %pip install .\n",
    "\n",
    "import langwatch\n",
    "\n",
    "langwatch.endpoint = \"https://app.langwatch.ai\"\n",
    "langwatch.login(relogin=True)"
   ]
  },
  {
   "cell_type": "markdown",
   "metadata": {},
   "source": [
    "### 2.1 BootstrapFewShot\n",
    "BootstrapFewShot optimizer is simply selecting several few-shot demonstrations\n"
   ]
  },
  {
   "cell_type": "code",
   "execution_count": 168,
   "metadata": {},
   "outputs": [
    {
     "name": "stdout",
     "output_type": "stream",
     "text": [
      "\n",
      "[LangWatch] Experiment initialized, run_id: orthodox-refreshing-tarsier\n",
      "[LangWatch] Open https://app.langwatch.ai/inbox-narrator/experiments/product_sentiment_polarity_openai_experiment?runIds=orthodox-refreshing-tarsier to track your DSPy training session live\n",
      "\n"
     ]
    },
    {
     "name": "stderr",
     "output_type": "stream",
     "text": [
      "100%|██████████| 10/10 [00:37<00:00,  3.79s/it]\n"
     ]
    }
   ],
   "source": [
    "from dspy.teleprompt import BootstrapFewShot\n",
    "\n",
    "optimizer = BootstrapFewShot(\n",
    "    metric=sentiment_matches,\n",
    "    max_bootstrapped_demos=8,\n",
    "    max_labeled_demos=8,\n",
    "    teacher_settings=dict(lm=gpt4)\n",
    ")\n",
    "\n",
    "langwatch.dspy.init(experiment=\"product_sentiment_polarity_openai_experiment\", optimizer=optimizer)\n",
    "\n",
    "optimized_evaluator = optimizer.compile(ProductSentimentPolarity(), trainset=trainset_10)"
   ]
  },
  {
   "cell_type": "code",
   "execution_count": 157,
   "metadata": {},
   "outputs": [
    {
     "name": "stderr",
     "output_type": "stream",
     "text": [
      "Average Metric: 68 / 100  (68.0): 100%|██████████| 100/100 [00:40<00:00,  2.47it/s]\n"
     ]
    },
    {
     "data": {
      "text/plain": [
       "68.0"
      ]
     },
     "execution_count": 157,
     "metadata": {},
     "output_type": "execute_result"
    }
   ],
   "source": [
    "from dspy.evaluate import Evaluate\n",
    "\n",
    "evaluate_dev = Evaluate(devset=devset, metric=sentiment_matches, num_threads=4, display_progress=True, display_table=0)\n",
    "\n",
    "dev_score = evaluate_dev(optimized_evaluator)\n",
    "dev_score"
   ]
  },
  {
   "cell_type": "markdown",
   "metadata": {},
   "source": [
    "**Accuracy BootstrapFewShot** - 60.49%"
   ]
  },
  {
   "cell_type": "markdown",
   "metadata": {},
   "source": [
    "## 2.2 BootstrapFewShotWithRandomSearch "
   ]
  },
  {
   "cell_type": "code",
   "execution_count": 13,
   "metadata": {},
   "outputs": [
    {
     "name": "stdout",
     "output_type": "stream",
     "text": [
      "\n",
      "[LangWatch] Experiment initialized, run_id: adept-alpaca-of-wind\n",
      "[LangWatch] Open https://app.langwatch.ai/curriculum-vitai-3r_1j8/experiments/product_sentiment_polarity_openai_experiment?runIds=adept-alpaca-of-wind to track your DSPy training session live\n",
      "\n"
     ]
    },
    {
     "name": "stderr",
     "output_type": "stream",
     "text": [
      "Average Metric: 23 / 50  (46.0): 100%|██████████| 50/50 [00:09<00:00,  5.37it/s]\n",
      "Average Metric: 29 / 50  (58.0): 100%|██████████| 50/50 [00:23<00:00,  2.17it/s]\n",
      " 26%|██▌       | 13/50 [00:50<02:24,  3.90s/it]\n",
      "Average Metric: 40 / 50  (80.0): 100%|██████████| 50/50 [00:13<00:00,  3.80it/s]\n",
      " 16%|█▌        | 8/50 [00:27<02:22,  3.39s/it]\n",
      "Average Metric: 30 / 50  (60.0): 100%|██████████| 50/50 [00:26<00:00,  1.86it/s]\n",
      "  6%|▌         | 3/50 [00:08<02:09,  2.76s/it]\n",
      "Average Metric: 41 / 50  (82.0): 100%|██████████| 50/50 [00:24<00:00,  2.07it/s]\n",
      "  2%|▏         | 1/50 [00:04<03:30,  4.29s/it]\n",
      "Average Metric: 30 / 50  (60.0): 100%|██████████| 50/50 [00:23<00:00,  2.09it/s]\n",
      "  8%|▊         | 4/50 [00:14<02:46,  3.61s/it]\n",
      "Average Metric: 34 / 50  (68.0): 100%|██████████| 50/50 [00:26<00:00,  1.89it/s]\n",
      " 12%|█▏        | 6/50 [00:20<02:32,  3.47s/it]\n",
      "Average Metric: 32 / 50  (64.0): 100%|██████████| 50/50 [00:25<00:00,  1.98it/s]\n",
      " 12%|█▏        | 6/50 [00:24<03:01,  4.12s/it]\n",
      "Average Metric: 36 / 50  (72.0): 100%|██████████| 50/50 [00:26<00:00,  1.85it/s]\n",
      "  6%|▌         | 3/50 [00:11<02:57,  3.78s/it]\n",
      "Average Metric: 33 / 50  (66.0): 100%|██████████| 50/50 [00:23<00:00,  2.11it/s]\n",
      " 16%|█▌        | 8/50 [00:31<02:46,  3.97s/it]\n",
      "Average Metric: 33 / 50  (66.0): 100%|██████████| 50/50 [00:28<00:00,  1.78it/s]\n"
     ]
    }
   ],
   "source": [
    "from dspy.teleprompt import BootstrapFewShotWithRandomSearch\n",
    "optimizer = BootstrapFewShotWithRandomSearch(\n",
    "    metric=sentiment_matches,\n",
    "    max_bootstrapped_demos=8,\n",
    "    max_labeled_demos=8,\n",
    "    max_rounds=1,\n",
    "    num_candidate_programs=8,\n",
    "    teacher_settings=dict(lm=gpt4)\n",
    ")\n",
    "\n",
    "langwatch.dspy.init(experiment=\"product_sentiment_polarity_openai_experiment\", optimizer=optimizer)\n",
    "\n",
    "optimized_evaluator = optimizer.compile(ProductSentimentPolarity(), trainset=trainset_50)"
   ]
  },
  {
   "cell_type": "code",
   "execution_count": 15,
   "metadata": {},
   "outputs": [
    {
     "name": "stderr",
     "output_type": "stream",
     "text": [
      "Average Metric: 71 / 100  (71.0): 100%|██████████| 100/100 [00:00<00:00, 5267.04it/s]\n"
     ]
    },
    {
     "data": {
      "text/plain": [
       "71.0"
      ]
     },
     "execution_count": 15,
     "metadata": {},
     "output_type": "execute_result"
    }
   ],
   "source": [
    "from dspy.evaluate import Evaluate\n",
    "\n",
    "evaluate_dev = Evaluate(devset=devset, metric=sentiment_matches, num_threads=4, display_progress=True, display_table=0)\n",
    "\n",
    "dev_score = evaluate_dev(optimized_evaluator)\n",
    "dev_score"
   ]
  },
  {
   "cell_type": "markdown",
   "metadata": {},
   "source": [
    "**Accuracy BootstrapFewShotWithRandomSearch** - 59.26%"
   ]
  },
  {
   "cell_type": "markdown",
   "metadata": {},
   "source": [
    "## 2.3 BootstrapFewShotWithOptuna"
   ]
  },
  {
   "cell_type": "code",
   "execution_count": 60,
   "metadata": {},
   "outputs": [
    {
     "name": "stdout",
     "output_type": "stream",
     "text": [
      "Going to sample between 1 and 8 traces per predictor.\n",
      "Will attempt to train 8 candidate sets.\n"
     ]
    },
    {
     "name": "stderr",
     "output_type": "stream",
     "text": [
      " 40%|████      | 20/50 [00:12<00:19,  1.57it/s]\n",
      "[I 2024-06-04 16:36:31,239] A new study created in memory with name: no-name-b9d4b603-4f64-4982-9386-1278a02585e5\n",
      "Average Metric: 27 / 50  (54.0): 100%|██████████| 50/50 [00:05<00:00,  9.44it/s]\n",
      "[I 2024-06-04 16:36:36,563] Trial 0 finished with value: 54.0 and parameters: {'demo_index_for_predict': 5}. Best is trial 0 with value: 54.0.\n",
      "Average Metric: 21 / 50  (42.0): 100%|██████████| 50/50 [00:05<00:00,  9.39it/s]\n",
      "[I 2024-06-04 16:36:41,913] Trial 1 finished with value: 42.0 and parameters: {'demo_index_for_predict': 2}. Best is trial 0 with value: 54.0.\n",
      "Average Metric: 27 / 50  (54.0): 100%|██████████| 50/50 [00:00<00:00, 3389.12it/s]\n",
      "[I 2024-06-04 16:36:41,943] Trial 2 finished with value: 54.0 and parameters: {'demo_index_for_predict': 5}. Best is trial 0 with value: 54.0.\n",
      "Average Metric: 25 / 50  (50.0): 100%|██████████| 50/50 [00:05<00:00,  9.36it/s]\n",
      "[I 2024-06-04 16:36:47,301] Trial 3 finished with value: 50.0 and parameters: {'demo_index_for_predict': 4}. Best is trial 0 with value: 54.0.\n",
      "Average Metric: 29 / 50  (58.0): 100%|██████████| 50/50 [00:05<00:00,  9.10it/s]\n",
      "[I 2024-06-04 16:36:52,827] Trial 4 finished with value: 58.0 and parameters: {'demo_index_for_predict': 0}. Best is trial 4 with value: 58.0.\n",
      "Average Metric: 29 / 50  (58.0): 100%|██████████| 50/50 [00:00<00:00, 1248.72it/s]\n",
      "[I 2024-06-04 16:36:52,880] Trial 5 finished with value: 58.0 and parameters: {'demo_index_for_predict': 0}. Best is trial 4 with value: 58.0.\n",
      "Average Metric: 27 / 50  (54.0): 100%|██████████| 50/50 [00:00<00:00, 5142.47it/s]\n",
      "[I 2024-06-04 16:36:52,900] Trial 6 finished with value: 54.0 and parameters: {'demo_index_for_predict': 5}. Best is trial 4 with value: 58.0.\n",
      "Average Metric: 29 / 50  (58.0): 100%|██████████| 50/50 [00:00<00:00, 5489.06it/s]\n",
      "[I 2024-06-04 16:36:52,917] Trial 7 finished with value: 58.0 and parameters: {'demo_index_for_predict': 0}. Best is trial 4 with value: 58.0.\n"
     ]
    },
    {
     "name": "stdout",
     "output_type": "stream",
     "text": [
      "Best score: 58.0\n",
      "Best program: predict = Predict(ProductSentimentPolaritySignature(output -> sentiment\n",
      "    instructions='Classify the sentiment of the output among very_positive, subtly_positive, subtly_negative, very_negative or skipped if not a product review'\n",
      "    output = Field(annotation=str required=True json_schema_extra={'desc': 'Output of the LLM talking about the product', '__dspy_field_type': 'input', 'prefix': 'Output:'})\n",
      "    sentiment = Field(annotation=Sentiment required=True json_schema_extra={'__dspy_field_type': 'output', 'prefix': 'Sentiment:', 'desc': '${sentiment}'})\n",
      "))\n"
     ]
    }
   ],
   "source": [
    "from dspy.teleprompt import BootstrapFewShotWithOptuna\n",
    "\n",
    "optimizer = BootstrapFewShotWithOptuna(\n",
    "    metric=sentiment_matches,\n",
    "    max_bootstrapped_demos=8,\n",
    "    max_labeled_demos=8,\n",
    "    max_rounds=1,\n",
    "    num_candidate_programs=8,\n",
    ")\n",
    "\n",
    "# langwatch.dspy.init(experiment=\"product_sentiment_polarity_openai_experiment\", optimizer=optimizer)\n",
    "\n",
    "optimized_evaluator = optimizer.compile(ProductSentimentPolarity(), trainset=trainset_50, max_demos=8)"
   ]
  },
  {
   "cell_type": "code",
   "execution_count": 14,
   "metadata": {},
   "outputs": [
    {
     "name": "stderr",
     "output_type": "stream",
     "text": [
      "Average Metric: 58 / 81  (71.6): 100%|██████████| 81/81 [00:11<00:00,  6.87it/s]\n"
     ]
    },
    {
     "data": {
      "text/plain": [
       "71.6"
      ]
     },
     "execution_count": 14,
     "metadata": {},
     "output_type": "execute_result"
    }
   ],
   "source": [
    "from dspy.evaluate import Evaluate\n",
    "\n",
    "evaluate_dev = Evaluate(devset=devset, metric=sentiment_matches, num_threads=4, display_progress=True, display_table=0)\n",
    "\n",
    "dev_score = evaluate_dev(optimized_evaluator)\n",
    "dev_score"
   ]
  },
  {
   "cell_type": "markdown",
   "metadata": {},
   "source": [
    "**Accuracy BootstrapFewShotWithOptuna** - 71.6%"
   ]
  },
  {
   "cell_type": "markdown",
   "metadata": {},
   "source": [
    "## 2.4 KNNFewShot"
   ]
  },
  {
   "cell_type": "code",
   "execution_count": 15,
   "metadata": {},
   "outputs": [
    {
     "name": "stderr",
     "output_type": "stream",
     "text": [
      "/Users/zhenyabudnyk/DevProjects/langwatch-saas/langevals/notebooks/.venv/lib/python3.12/site-packages/huggingface_hub/file_download.py:1132: FutureWarning: `resume_download` is deprecated and will be removed in version 1.0.0. Downloads always resume when possible. If you want to force a new download, use `force_download=True`.\n",
      "  warnings.warn(\n"
     ]
    }
   ],
   "source": [
    "from dspy.predict import KNN\n",
    "from dspy.teleprompt import KNNFewShot\n",
    "\n",
    "optimizer = KNNFewShot(KNN, k=10, trainset=trainset_50)\n",
    "\n",
    "\n",
    "# langwatch.dspy.init(experiment=\"product_sentiment_polarity_openai_experiment\", optimizer=optimizer)\n",
    "\n",
    "optimized_evaluator = optimizer.compile(ProductSentimentPolarity(), trainset=trainset_50)"
   ]
  },
  {
   "cell_type": "code",
   "execution_count": 16,
   "metadata": {},
   "outputs": [
    {
     "name": "stderr",
     "output_type": "stream",
     "text": [
      "  0%|          | 0/81 [00:00<?, ?it/s]\n",
      "\u001b[A\n",
      "\n",
      "\u001b[A\u001b[A\n",
      "\n",
      "\n",
      "\u001b[A\u001b[A\u001b[A\n",
      "\n",
      "\u001b[A\u001b[A\n",
      "\n",
      "\n",
      "\u001b[A\u001b[A\u001b[A\n",
      "\u001b[A\n",
      "\n",
      "\n",
      "\u001b[A\u001b[A\u001b[A\n",
      "\n",
      "\u001b[A\u001b[A\n",
      "\u001b[A\n",
      "\n",
      "\u001b[A\u001b[A\n",
      "\n",
      "\n",
      "\u001b[A\u001b[A\u001b[A\n",
      "\u001b[A\n",
      "\n",
      " 40%|████      | 4/10 [00:02<00:03,  1.83it/s]\n",
      "\n",
      " 40%|████      | 4/10 [00:02<00:03,  1.67it/s]\n",
      "\n",
      "\n",
      "\n",
      " 40%|████      | 4/10 [00:02<00:03,  1.62it/s]\n",
      " 40%|████      | 4/10 [00:02<00:03,  1.53it/s]\n",
      "Average Metric: 1 / 2  (50.0):   2%|▏         | 2/81 [00:02<01:37,  1.24s/it] \n",
      "Average Metric: 2 / 4  (50.0):   4%|▎         | 3/81 [00:03<01:00,  1.29it/s]\n",
      "\n",
      "\u001b[A\u001b[A\n",
      "\n",
      "\n",
      "\u001b[A\u001b[A\u001b[A\n",
      "\u001b[A\n",
      "\n",
      "\u001b[A\u001b[A\n",
      "\n",
      "\n",
      "\u001b[A\u001b[A\u001b[A\n",
      "\u001b[A\n",
      "\n",
      "\u001b[A\u001b[A\n",
      "\n",
      "\n",
      "\u001b[A\u001b[A\u001b[A\n",
      "\u001b[A\n",
      "\n",
      " 40%|████      | 4/10 [00:02<00:03,  1.87it/s]\n",
      "\n",
      " 40%|████      | 4/10 [00:02<00:03,  1.84it/s]\n",
      "\n",
      "\n",
      " 40%|████      | 4/10 [00:02<00:03,  1.71it/s]| 5/81 [00:05<01:18,  1.03s/it]\n",
      "Average Metric: 3 / 6  (50.0):   6%|▌         | 5/81 [00:05<01:18,  1.03s/it]\n",
      "\u001b[A\n",
      "Average Metric: 3 / 7  (42.9):   9%|▊         | 7/81 [00:06<00:52,  1.41it/s]\n",
      "\n",
      "\u001b[A\u001b[A\n",
      "\n",
      "\u001b[A\u001b[A\n",
      "\u001b[A\n",
      "\n",
      "\n",
      "\u001b[A\u001b[A\u001b[A\n",
      "\n",
      " 40%|████      | 4/10 [00:02<00:03,  1.84it/s]\n",
      "\n",
      "\n",
      "\n",
      " 40%|████      | 4/10 [00:04<00:06,  1.15s/it]\n",
      "\n",
      "\n",
      "\u001b[A\u001b[A\n",
      "Average Metric: 3 / 8  (37.5):  10%|▉         | 8/81 [00:08<01:18,  1.08s/it]\n",
      " 40%|████      | 4/10 [00:02<00:04,  1.41it/s]\n",
      "\n",
      "\n",
      " 40%|████      | 4/10 [00:02<00:03,  1.68it/s]\n",
      "Average Metric: 5 / 10  (50.0):  11%|█         | 9/81 [00:09<01:10,  1.01it/s]\n",
      "\u001b[A\n",
      "\n",
      "\u001b[A\u001b[A\n",
      "Average Metric: 5 / 11  (45.5):  14%|█▎        | 11/81 [00:10<00:52,  1.34it/s]\n",
      "\n",
      "\n",
      "\u001b[A\u001b[A\u001b[A\n",
      "\u001b[A\n",
      "\u001b[A\n",
      "\n",
      "\n",
      "\u001b[A\u001b[A\u001b[A\n",
      "\n",
      "\u001b[A\u001b[A\n",
      "\n",
      "\n",
      "\u001b[A\u001b[A\u001b[A\n",
      " 40%|████      | 4/10 [00:02<00:03,  1.79it/s]\n",
      " 40%|████      | 4/10 [00:02<00:04,  1.36it/s]\n",
      "\n",
      "\n",
      "Average Metric: 7 / 13  (53.8):  15%|█▍        | 12/81 [00:11<01:10,  1.02s/it]\n",
      "\n",
      "\n",
      "\u001b[A\u001b[A\u001b[A\n",
      "\n",
      "\u001b[A\u001b[A\n",
      "\u001b[A\n",
      "\n",
      " 40%|████      | 4/10 [00:03<00:05,  1.18it/s]\n",
      "\n",
      "\u001b[A\n",
      "\n",
      "\n",
      " 40%|████      | 4/10 [00:02<00:04,  1.37it/s]\n",
      "\n",
      "Average Metric: 7 / 14  (50.0):  17%|█▋        | 14/81 [00:13<00:59,  1.13it/s]\n",
      "\n",
      "Average Metric: 8 / 15  (53.3):  19%|█▊        | 15/81 [00:13<00:47,  1.38it/s]\n",
      "\n",
      "\n",
      "\u001b[A\u001b[A\u001b[A\n",
      "\u001b[A\n",
      "\n",
      "\u001b[A\u001b[A\n",
      "\n",
      "\n",
      " 40%|████      | 4/10 [00:02<00:03,  1.78it/s]\n",
      "\n",
      "\n",
      "\u001b[A\u001b[A\n",
      " 40%|████      | 4/10 [00:02<00:03,  1.71it/s]\n",
      "Average Metric: 9 / 16  (56.2):  19%|█▊        | 15/81 [00:14<00:47,  1.38it/s]\n",
      "\n",
      "\n",
      "Average Metric: 9 / 16  (56.2):  20%|█▉        | 16/81 [00:14<00:56,  1.14it/s]\n",
      "\n",
      "Average Metric: 9 / 17  (52.9):  20%|█▉        | 16/81 [00:14<00:56,  1.14it/s]\n",
      "\u001b[A\n",
      "\n",
      "\n",
      "\u001b[A\u001b[A\u001b[A\n",
      "\n",
      " 40%|████      | 4/10 [00:02<00:03,  1.88it/s]\n",
      "\n",
      "Average Metric: 10 / 18  (55.6):  21%|██        | 17/81 [00:16<00:55,  1.14it/s]\n",
      "\u001b[A\n",
      "\n",
      "\n",
      " 40%|████      | 4/10 [00:02<00:03,  1.61it/s]  | 18/81 [00:16<00:48,  1.30it/s]\n",
      "\n",
      "\n",
      "\u001b[A\u001b[A\n",
      "Average Metric: 10 / 19  (52.6):  23%|██▎       | 19/81 [00:16<00:43,  1.43it/s]\n",
      "\n",
      "\n",
      "\u001b[A\u001b[A\u001b[A\n",
      "\n",
      "\u001b[A\u001b[A\n",
      " 40%|████      | 4/10 [00:02<00:03,  1.93it/s]\n",
      "\n",
      "\n",
      "\n",
      "\u001b[A\u001b[A\u001b[A\n",
      "\n",
      " 40%|████      | 4/10 [00:02<00:03,  1.70it/s]\n",
      "Average Metric: 10 / 20  (50.0):  25%|██▍       | 20/81 [00:17<00:48,  1.27it/s]\n",
      "\n",
      "\n",
      "Average Metric: 11 / 21  (52.4):  26%|██▌       | 21/81 [00:17<00:37,  1.59it/s]\n",
      "\n",
      "\u001b[A\u001b[A\n",
      "\u001b[A\n",
      "\n",
      "\n",
      "\u001b[A\u001b[A\u001b[A\n",
      "\n",
      "\u001b[A\u001b[A\n",
      " 40%|████      | 4/10 [00:02<00:03,  1.82it/s]\n",
      "\n",
      "\u001b[A\n",
      "\n",
      "\n",
      " 40%|████      | 4/10 [00:02<00:03,  1.74it/s]\n",
      "Average Metric: 11 / 22  (50.0):  27%|██▋       | 22/81 [00:18<00:45,  1.28it/s]\n",
      "\n",
      "Average Metric: 11 / 23  (47.8):  28%|██▊       | 23/81 [00:19<00:42,  1.37it/s]\n",
      "\n",
      "\n",
      "\u001b[A\u001b[A\u001b[A\n",
      "\n",
      "\u001b[A\u001b[A\n",
      "\u001b[A\n",
      "\n",
      "\n",
      "\u001b[A\u001b[A\u001b[A\n",
      "\n",
      "\u001b[A\u001b[A\n",
      " 40%|████      | 4/10 [00:02<00:03,  1.63it/s]\n",
      "\n",
      "\n",
      "\n",
      "\u001b[A\u001b[A\u001b[A\n",
      "\n",
      "Average Metric: 11 / 24  (45.8):  30%|██▉       | 24/81 [00:20<00:51,  1.11it/s]\n",
      " 40%|████      | 4/10 [00:03<00:05,  1.20it/s]\n",
      "\n",
      "\n",
      "\n",
      "\u001b[A\u001b[A\u001b[A\n",
      "\n",
      " 40%|████      | 4/10 [00:02<00:03,  1.80it/s]\n",
      "\n",
      "Average Metric: 12 / 25  (48.0):  31%|███       | 25/81 [00:21<00:46,  1.21it/s]\n",
      "\n",
      "\n",
      " 40%|████      | 4/10 [00:02<00:03,  1.99it/s]\n",
      "Average Metric: 12 / 26  (46.2):  32%|███▏      | 26/81 [00:21<00:35,  1.56it/s]\n",
      "\n",
      "\u001b[A\u001b[A\n",
      "Average Metric: 12 / 27  (44.4):  33%|███▎      | 27/81 [00:22<00:32,  1.66it/s]\n",
      "\n",
      "\n",
      "\u001b[A\u001b[A\u001b[A\n",
      "\n",
      "\u001b[A\u001b[A\n",
      "\n",
      "\u001b[A\u001b[A\n",
      "\u001b[A\n",
      "\n",
      "\n",
      "\u001b[A\u001b[A\u001b[A\n",
      "\n",
      "\u001b[A\u001b[A\n",
      "\n",
      "\n",
      "\u001b[A\u001b[A\u001b[A\n",
      " 40%|████      | 4/10 [00:02<00:03,  1.65it/s]\n",
      " 40%|████      | 4/10 [00:02<00:03,  1.74it/s]\n",
      "Average Metric: 12 / 28  (42.9):  35%|███▍      | 28/81 [00:23<00:48,  1.09it/s]\n",
      "\n",
      "\n",
      "\u001b[A\u001b[A\u001b[A\n",
      "\n",
      " 40%|████      | 4/10 [00:02<00:03,  1.80it/s]\n",
      "Average Metric: 13 / 29  (44.8):  35%|███▍      | 28/81 [00:24<00:48,  1.09it/s]\n",
      "\n",
      "\n",
      " 40%|████      | 4/10 [00:02<00:03,  1.79it/s]  | 29/81 [00:24<00:42,  1.22it/s]\n",
      "\n",
      "Average Metric: 13 / 30  (43.3):  36%|███▌      | 29/81 [00:24<00:42,  1.22it/s]\n",
      "\n",
      "\u001b[A\u001b[A\n",
      "Average Metric: 13 / 31  (41.9):  38%|███▊      | 31/81 [00:24<00:27,  1.79it/s]\n",
      "\n",
      "\n",
      "\u001b[A\u001b[A\u001b[A\n",
      "\n",
      "\u001b[A\u001b[A\n",
      "\n",
      "\n",
      "\u001b[A\u001b[A\u001b[A\n",
      "\u001b[A\n",
      "\n",
      "\u001b[A\u001b[A\n",
      " 40%|████      | 4/10 [00:02<00:03,  1.84it/s]\n",
      "\n",
      "\n",
      "\n",
      "\u001b[A\u001b[A\u001b[A\n",
      "\n",
      "\u001b[A\u001b[A\n",
      " 40%|████      | 4/10 [00:02<00:03,  1.91it/s]\n",
      "Average Metric: 14 / 32  (43.8):  40%|███▉      | 32/81 [00:26<00:40,  1.20it/s]\n",
      "\n",
      "\u001b[A\u001b[A\n",
      "\n",
      "\n",
      " 40%|████      | 4/10 [00:02<00:03,  1.90it/s]\n",
      "Average Metric: 15 / 33  (45.5):  41%|████      | 33/81 [00:27<00:34,  1.39it/s]\n",
      "Average Metric: 15 / 34  (44.1):  42%|████▏     | 34/81 [00:27<00:27,  1.72it/s]\n",
      "\n",
      "\u001b[A\u001b[A\n",
      "\n",
      "\n",
      " 40%|████      | 4/10 [00:02<00:03,  1.72it/s]\n",
      "\n",
      "\n",
      "\u001b[A\u001b[A\n",
      "Average Metric: 15 / 35  (42.9):  43%|████▎     | 35/81 [00:27<00:27,  1.68it/s]\n",
      "\n",
      "\n",
      "\u001b[A\u001b[A\u001b[A\n",
      "\u001b[A\n",
      "\n",
      "\u001b[A\u001b[A\n",
      "\n",
      "\n",
      "\u001b[A\u001b[A\u001b[A\n",
      "\u001b[A\n",
      "\n",
      "\u001b[A\u001b[A\n",
      "\n",
      "\n",
      "\u001b[A\u001b[A\u001b[A\n",
      " 40%|████      | 4/10 [00:02<00:03,  1.84it/s]\n",
      " 40%|████      | 4/10 [00:02<00:03,  1.53it/s]\n",
      "\n",
      "\n",
      " 40%|████      | 4/10 [00:02<00:03,  1.87it/s]\n",
      "Average Metric: 16 / 36  (44.4):  44%|████▍     | 36/81 [00:29<00:43,  1.03it/s]\n",
      "\n",
      "\n",
      "Average Metric: 17 / 37  (45.9):  44%|████▍     | 36/81 [00:29<00:43,  1.03it/s]\n",
      "Average Metric: 18 / 38  (47.4):  47%|████▋     | 38/81 [00:30<00:25,  1.71it/s]\n",
      "\n",
      "\u001b[A\u001b[A\n",
      "\n",
      "\n",
      " 40%|████      | 4/10 [00:02<00:03,  1.69it/s]\n",
      "\n",
      "\u001b[A\n",
      "\n",
      "Average Metric: 19 / 39  (48.7):  47%|████▋     | 38/81 [00:30<00:25,  1.71it/s]\n",
      "Average Metric: 19 / 39  (48.7):  48%|████▊     | 39/81 [00:30<00:26,  1.56it/s]\n",
      "\n",
      "\n",
      "\u001b[A\u001b[A\u001b[A\n",
      "\n",
      "\u001b[A\u001b[A\n",
      "\n",
      "\n",
      "\u001b[A\u001b[A\u001b[A\n",
      "\u001b[A\n",
      "\n",
      "\n",
      "\u001b[A\u001b[A\u001b[A\n",
      " 40%|████      | 4/10 [00:02<00:03,  1.92it/s]\n",
      "\n",
      "\n",
      "Average Metric: 19 / 40  (47.5):  48%|████▊     | 39/81 [00:32<00:26,  1.56it/s]\n",
      "\n",
      "\n",
      "Average Metric: 19 / 40  (47.5):  49%|████▉     | 40/81 [00:32<00:37,  1.09it/s]\n",
      "\n",
      " 40%|████      | 4/10 [00:02<00:04,  1.46it/s]\n",
      " 40%|████      | 4/10 [00:02<00:03,  1.60it/s]\n",
      "\n",
      "\n",
      "\n",
      " 40%|████      | 4/10 [00:02<00:03,  1.72it/s]  | 41/81 [00:33<00:33,  1.19it/s]\n",
      "Average Metric: 20 / 42  (47.6):  51%|█████     | 41/81 [00:33<00:33,  1.19it/s]\n",
      "\u001b[A\n",
      "\n",
      "\u001b[A\u001b[A\n",
      "\u001b[A\n",
      "\n",
      "Average Metric: 20 / 43  (46.5):  53%|█████▎    | 43/81 [00:33<00:23,  1.63it/s]\n",
      "\n",
      "\n",
      "\u001b[A\u001b[A\u001b[A\n",
      "\u001b[A\n",
      "\n",
      "\n",
      "\u001b[A\u001b[A\u001b[A\n",
      "\n",
      "\u001b[A\u001b[A\n",
      " 40%|████      | 4/10 [00:02<00:03,  1.81it/s]\n",
      "\n",
      "\n",
      "\n",
      "Average Metric: 20 / 44  (45.5):  54%|█████▍    | 44/81 [00:35<00:31,  1.18it/s]\n",
      " 40%|████      | 4/10 [00:02<00:03,  1.82it/s]\n",
      "\n",
      "\n",
      "\n",
      "Average Metric: 20 / 45  (44.4):  56%|█████▌    | 45/81 [00:35<00:27,  1.29it/s]\n",
      "\u001b[A\n",
      "\u001b[A\n",
      "\n",
      "\u001b[A\u001b[A\n",
      "\n",
      "\n",
      " 40%|████      | 4/10 [00:02<00:03,  1.54it/s]\n",
      "\n",
      "Average Metric: 21 / 46  (45.7):  57%|█████▋    | 46/81 [00:37<00:30,  1.17it/s]\n",
      "\n",
      "\n",
      "\u001b[A\u001b[A\u001b[A\n",
      "\n",
      " 40%|████      | 4/10 [00:03<00:05,  1.02it/s]\n",
      "\n",
      " 40%|████      | 4/10 [00:02<00:03,  1.89it/s]\n",
      "\n",
      "\n",
      "\n",
      "Average Metric: 22 / 47  (46.8):  58%|█████▊    | 47/81 [00:37<00:26,  1.28it/s]\n",
      " 40%|████      | 4/10 [00:02<00:03,  1.97it/s]\n",
      "\n",
      "\n",
      "\n",
      "Average Metric: 23 / 48  (47.9):  59%|█████▉    | 48/81 [00:38<00:23,  1.42it/s]\n",
      "\u001b[A\n",
      "\n",
      "\n",
      "Average Metric: 24 / 49  (49.0):  60%|██████    | 49/81 [00:38<00:20,  1.60it/s]\n",
      "\n",
      "\u001b[A\u001b[A\n",
      "\u001b[A\n",
      "\n",
      "\n",
      " 40%|████      | 4/10 [00:02<00:03,  1.99it/s]\n",
      "\n",
      "\u001b[A\n",
      "\n",
      "\u001b[A\u001b[A\n",
      "Average Metric: 25 / 50  (50.0):  62%|██████▏   | 50/81 [00:39<00:24,  1.29it/s]\n",
      "\n",
      "\n",
      "\u001b[A\u001b[A\u001b[A\n",
      "\n",
      " 40%|████      | 4/10 [00:02<00:03,  1.86it/s]\n",
      "\n",
      " 40%|████      | 4/10 [00:02<00:03,  1.97it/s]\n",
      "Average Metric: 26 / 51  (51.0):  63%|██████▎   | 51/81 [00:40<00:21,  1.40it/s]\n",
      "\n",
      "\u001b[A\u001b[A\n",
      "\n",
      "\n",
      "Average Metric: 27 / 52  (51.9):  63%|██████▎   | 51/81 [00:40<00:21,  1.40it/s]\n",
      "\n",
      " 40%|████      | 4/10 [00:02<00:03,  1.81it/s]  | 52/81 [00:40<00:19,  1.50it/s]\n",
      "\n",
      "\n",
      "\n",
      "\u001b[A\u001b[A\u001b[A\n",
      "\u001b[A\n",
      "\n",
      "\n",
      "Average Metric: 28 / 53  (52.8):  64%|██████▍   | 52/81 [00:41<00:19,  1.50it/s]\n",
      "Average Metric: 28 / 53  (52.8):  65%|██████▌   | 53/81 [00:41<00:17,  1.61it/s]\n",
      "\n",
      "\u001b[A\u001b[A\n",
      "\u001b[A\n",
      "\n",
      "\u001b[A\u001b[A\n",
      "\n",
      "\n",
      " 40%|████      | 4/10 [00:02<00:03,  1.80it/s]\n",
      "Average Metric: 28 / 54  (51.9):  67%|██████▋   | 54/81 [00:42<00:20,  1.32it/s]\n",
      "\n",
      "\n",
      "\u001b[A\u001b[A\u001b[A\n",
      "\u001b[A\n",
      "\n",
      " 40%|████      | 4/10 [00:02<00:03,  1.58it/s]\n",
      "\n",
      "\n",
      "\n",
      "\u001b[A\u001b[A\u001b[A\n",
      " 40%|████      | 4/10 [00:02<00:03,  1.88it/s]\n",
      "\n",
      "\n",
      "Average Metric: 29 / 56  (51.8):  68%|██████▊   | 55/81 [00:43<00:22,  1.18it/s]\n",
      "\n",
      "\n",
      "\u001b[A\u001b[A\u001b[A\n",
      "\u001b[A\n",
      "\n",
      " 40%|████      | 4/10 [00:02<00:03,  1.79it/s]\n",
      "\n",
      "\n",
      "\n",
      "\u001b[A\u001b[A\u001b[A\n",
      "Average Metric: 29 / 57  (50.9):  70%|███████   | 57/81 [00:44<00:14,  1.65it/s]\n",
      "\n",
      "\u001b[A\u001b[A\n",
      "\u001b[A\n",
      "\n",
      "\n",
      " 40%|████      | 4/10 [00:02<00:03,  1.86it/s]\n",
      "\n",
      "\n",
      "\u001b[A\u001b[A\n",
      "Average Metric: 29 / 58  (50.0):  72%|███████▏  | 58/81 [00:45<00:16,  1.42it/s]\n",
      "\n",
      "\n",
      "\u001b[A\u001b[A\u001b[A\n",
      "\n",
      "\u001b[A\u001b[A\n",
      "\n",
      "\n",
      "\u001b[A\u001b[A\u001b[A\n",
      "\n",
      "\u001b[A\u001b[A\n",
      " 40%|████      | 4/10 [00:02<00:03,  1.66it/s]\n",
      " 40%|████      | 4/10 [00:02<00:03,  1.71it/s]\n",
      "\n",
      "\n",
      "\n",
      "\u001b[A\u001b[A\u001b[A\n",
      "\n",
      " 40%|████      | 4/10 [00:02<00:03,  1.93it/s]\n",
      "Average Metric: 30 / 60  (50.0):  73%|███████▎  | 59/81 [00:46<00:19,  1.14it/s]\n",
      "\n",
      "\n",
      "Average Metric: 30 / 60  (50.0):  74%|███████▍  | 60/81 [00:46<00:14,  1.48it/s]\n",
      "Average Metric: 31 / 61  (50.8):  74%|███████▍  | 60/81 [00:46<00:14,  1.48it/s]\n",
      "\n",
      "\u001b[A\u001b[A\n",
      "\n",
      "\n",
      " 40%|████      | 4/10 [00:01<00:02,  2.06it/s]\n",
      "\n",
      "\u001b[A\n",
      "\n",
      "Average Metric: 31 / 62  (50.0):  77%|███████▋  | 62/81 [00:47<00:11,  1.65it/s]\n",
      "\n",
      "\u001b[A\u001b[A\n",
      "\n",
      "\n",
      "\u001b[A\u001b[A\u001b[A\n",
      "\u001b[A\n",
      "\n",
      "\n",
      "\u001b[A\u001b[A\u001b[A\n",
      "\n",
      "\u001b[A\u001b[A\n",
      " 40%|████      | 4/10 [00:01<00:02,  2.02it/s]\n",
      "\n",
      "\n",
      " 40%|████      | 4/10 [00:01<00:02,  2.10it/s]\n",
      "\n",
      "\n",
      "\n",
      "\u001b[A\u001b[A\u001b[A\n",
      " 40%|████      | 4/10 [00:02<00:03,  1.82it/s]\n",
      "Average Metric: 32 / 64  (50.0):  78%|███████▊  | 63/81 [00:49<00:15,  1.20it/s]\n",
      "\n",
      "\n",
      "\u001b[A\u001b[A\u001b[A\n",
      "Average Metric: 33 / 65  (50.8):  80%|████████  | 65/81 [00:49<00:08,  1.86it/s]\n",
      "\n",
      "\u001b[A\u001b[A\n",
      "\n",
      "\n",
      " 40%|████      | 4/10 [00:02<00:03,  1.92it/s]\n",
      "\n",
      "\u001b[A\n",
      "\n",
      "Average Metric: 34 / 66  (51.5):  81%|████████▏ | 66/81 [00:50<00:09,  1.60it/s]\n",
      "\u001b[A\n",
      "\n",
      "\n",
      "\u001b[A\u001b[A\u001b[A\n",
      "\n",
      "\u001b[A\u001b[A\n",
      "\u001b[A\n",
      "\n",
      "\n",
      "\u001b[A\u001b[A\u001b[A\n",
      " 40%|████      | 4/10 [00:01<00:02,  2.04it/s]\n",
      "\n",
      "\n",
      " 40%|████      | 4/10 [00:02<00:03,  1.95it/s]\n",
      "\n",
      "\n",
      "\n",
      "Average Metric: 35 / 67  (52.2):  83%|████████▎ | 67/81 [00:51<00:11,  1.22it/s]\n",
      "\n",
      " 40%|████      | 4/10 [00:02<00:03,  1.73it/s]\n",
      "Average Metric: 36 / 68  (52.9):  83%|████████▎ | 67/81 [00:51<00:11,  1.22it/s]\n",
      "\n",
      "\n",
      "\u001b[A\u001b[A\u001b[A\n",
      "\u001b[A\n",
      "Average Metric: 36 / 69  (52.2):  85%|████████▌ | 69/81 [00:52<00:07,  1.61it/s]\n",
      "\n",
      "\u001b[A\u001b[A\n",
      "\n",
      "\n",
      " 40%|████      | 4/10 [00:02<00:03,  1.80it/s]\n",
      "\n",
      "\u001b[A\n",
      "\n",
      "Average Metric: 37 / 70  (52.9):  86%|████████▋ | 70/81 [00:53<00:07,  1.38it/s]\n",
      "\n",
      "\u001b[A\u001b[A\n",
      "\n",
      "\n",
      "\u001b[A\u001b[A\u001b[A\n",
      "\u001b[A\n",
      "\n",
      "\u001b[A\u001b[A\n",
      "\n",
      "\n",
      " 40%|████      | 4/10 [00:02<00:03,  1.72it/s]\n",
      "\n",
      " 40%|████      | 4/10 [00:02<00:03,  1.76it/s]\n",
      "\n",
      "\n",
      " 40%|████      | 4/10 [00:02<00:03,  1.77it/s]▊ | 71/81 [00:54<00:08,  1.18it/s]\n",
      "Average Metric: 38 / 72  (52.8):  88%|████████▊ | 71/81 [00:54<00:08,  1.18it/s]\n",
      "Average Metric: 39 / 73  (53.4):  90%|█████████ | 73/81 [00:55<00:04,  1.60it/s]\n",
      "\n",
      "\u001b[A\u001b[A\n",
      "\u001b[A\n",
      "\n",
      "\u001b[A\u001b[A\n",
      "\n",
      "\n",
      "\u001b[A\u001b[A\u001b[A\n",
      "\u001b[A\n",
      "\n",
      "\n",
      "\u001b[A\u001b[A\u001b[A\n",
      "\n",
      "\u001b[A\u001b[A\n",
      "\u001b[A\n",
      "\n",
      "\n",
      "\u001b[A\u001b[A\u001b[A\n",
      "\n",
      " 40%|████      | 4/10 [00:03<00:05,  1.16it/s]\n",
      " 40%|████      | 4/10 [00:02<00:03,  1.67it/s]\n",
      "\n",
      " 40%|████      | 4/10 [00:02<00:03,  1.60it/s]\n",
      "Average Metric: 39 / 74  (52.7):  91%|█████████▏| 74/81 [00:57<00:06,  1.03it/s]\n",
      "\n",
      " 40%|████      | 4/10 [00:02<00:03,  1.79it/s]\n",
      "Average Metric: 39 / 75  (52.0):  93%|█████████▎| 75/81 [00:57<00:04,  1.28it/s]\n",
      "Average Metric: 39 / 76  (51.3):  94%|█████████▍| 76/81 [00:57<00:03,  1.65it/s]\n",
      "\n",
      "Average Metric: 40 / 77  (51.9):  95%|█████████▌| 77/81 [00:58<00:02,  1.81it/s]\n",
      "\n",
      "\n",
      "\u001b[A\u001b[A\u001b[A\n",
      "\u001b[A\n",
      "\n",
      "\u001b[A\u001b[A\n",
      "\u001b[A\n",
      "\n",
      "\n",
      "\u001b[A\u001b[A\u001b[A\n",
      "\n",
      "\u001b[A\u001b[A\n",
      "\n",
      "\n",
      "\u001b[A\u001b[A\u001b[A\n",
      "\u001b[A\n",
      "\n",
      "\u001b[A\u001b[A\n",
      "\u001b[A\n",
      "\n",
      "\n",
      " 40%|████      | 4/10 [00:02<00:03,  1.70it/s]\n",
      " 40%|████      | 4/10 [00:02<00:03,  1.55it/s]\n",
      "\n",
      "\n",
      " 40%|████      | 4/10 [00:02<00:03,  1.75it/s]\n",
      "Average Metric: 40 / 78  (51.3):  95%|█████████▌| 77/81 [01:00<00:02,  1.81it/s]\n",
      "\n",
      "\n",
      " 40%|████      | 4/10 [00:02<00:03,  1.65it/s]█▋| 78/81 [01:00<00:03,  1.08s/it]\n",
      "Average Metric: 41 / 81  (50.6): 100%|██████████| 81/81 [01:01<00:00,  1.32it/s]\n"
     ]
    },
    {
     "data": {
      "text/plain": [
       "50.62"
      ]
     },
     "execution_count": 16,
     "metadata": {},
     "output_type": "execute_result"
    }
   ],
   "source": [
    "from dspy.evaluate import Evaluate\n",
    "\n",
    "evaluate_dev = Evaluate(devset=devset, metric=sentiment_matches, num_threads=4, display_progress=True, display_table=0)\n",
    "\n",
    "dev_score = evaluate_dev(optimized_evaluator)\n",
    "dev_score"
   ]
  },
  {
   "cell_type": "markdown",
   "metadata": {},
   "source": [
    "**Accuracy KNNFewShot** - 50.62%"
   ]
  },
  {
   "cell_type": "markdown",
   "metadata": {},
   "source": [
    "## 2.5 COPRO"
   ]
  },
  {
   "cell_type": "code",
   "execution_count": 17,
   "metadata": {},
   "outputs": [
    {
     "name": "stdout",
     "output_type": "stream",
     "text": [
      "\n",
      "[LangWatch] Experiment initialized, run_id: efficient-paper-turkey\n",
      "[LangWatch] Open http://localhost:3000/experiment-dspy-iOg5EE/experiments/product_sentiment_polarity_openai_experiment?runIds=efficient-paper-turkey to track your DSPy training session live\n",
      "\n"
     ]
    },
    {
     "name": "stderr",
     "output_type": "stream",
     "text": [
      "Average Metric: 13 / 50  (26.0): 100%|██████████| 50/50 [00:00<00:00, 64.37it/s]\n",
      "Average Metric: 25 / 50  (50.0): 100%|██████████| 50/50 [00:01<00:00, 34.49it/s]\n",
      "Average Metric: 13 / 50  (26.0): 100%|██████████| 50/50 [00:00<00:00, 70.40it/s]\n",
      "Average Metric: 13 / 50  (26.0): 100%|██████████| 50/50 [00:00<00:00, 64.59it/s]\n",
      "Average Metric: 13 / 50  (26.0): 100%|██████████| 50/50 [00:00<00:00, 52.82it/s]\n",
      "Average Metric: 13 / 50  (26.0): 100%|██████████| 50/50 [00:00<00:00, 77.02it/s]\n"
     ]
    }
   ],
   "source": [
    "from dspy.teleprompt import COPRO\n",
    "\n",
    "optimizer = COPRO(depth=5, trainset=trainset, metric=sentiment_matches, track_stats=True)\n",
    "kwargs = dict(num_threads=64, display_progress=True, display_table=0)\n",
    "\n",
    "\n",
    "langwatch.dspy.init(experiment=\"product_sentiment_polarity_openai_experiment\", optimizer=optimizer)\n",
    "\n",
    "optimized_evaluator = optimizer.compile(ProductSentimentPolarity(), trainset=trainset_50,  eval_kwargs=kwargs)"
   ]
  },
  {
   "cell_type": "code",
   "execution_count": 18,
   "metadata": {},
   "outputs": [
    {
     "name": "stderr",
     "output_type": "stream",
     "text": [
      "  0%|          | 0/81 [00:00<?, ?it/s]"
     ]
    },
    {
     "name": "stderr",
     "output_type": "stream",
     "text": [
      "Average Metric: 35 / 81  (43.2): 100%|██████████| 81/81 [00:10<00:00,  7.40it/s]\n"
     ]
    },
    {
     "data": {
      "text/plain": [
       "43.21"
      ]
     },
     "execution_count": 18,
     "metadata": {},
     "output_type": "execute_result"
    }
   ],
   "source": [
    "from dspy.evaluate import Evaluate\n",
    "\n",
    "evaluate_dev = Evaluate(devset=devset, metric=sentiment_matches, num_threads=4, display_progress=True, display_table=0)\n",
    "\n",
    "dev_score = evaluate_dev(optimized_evaluator)\n",
    "dev_score"
   ]
  },
  {
   "cell_type": "markdown",
   "metadata": {},
   "source": [
    "**Accuracy COPRO** - 43.21%"
   ]
  },
  {
   "cell_type": "markdown",
   "metadata": {},
   "source": [
    "## 2.6 MIPRO"
   ]
  },
  {
   "cell_type": "code",
   "execution_count": 15,
   "metadata": {},
   "outputs": [
    {
     "name": "stdout",
     "output_type": "stream",
     "text": [
      "\n",
      "[LangWatch] Experiment initialized, run_id: cunning-private-pronghorn\n",
      "[LangWatch] Open https://app.langwatch.ai/inbox-narrator/experiments/product_sentiment_polarity_openai_experiment?runIds=cunning-private-pronghorn to track your DSPy training session live\n",
      "\n",
      "\u001b[93m\u001b[1mWARNING: Projected Language Model (LM) Calls\u001b[0m\n",
      "\n",
      "Please be advised that based on the parameters you have set, the maximum number of LM calls is projected as follows:\n",
      "\n",
      "\u001b[93m- Task Model: \u001b[94m\u001b[1m300\u001b[0m\u001b[93m examples in dev set * \u001b[94m\u001b[1m50\u001b[0m\u001b[93m trials * \u001b[94m\u001b[1m# of LM calls in your program\u001b[0m\u001b[93m = (\u001b[94m\u001b[1m15000 * # of LM calls in your program\u001b[0m\u001b[93m) task model calls\u001b[0m\n",
      "\u001b[93m- Prompt Model: # data summarizer calls (max \u001b[94m\u001b[1m10\u001b[0m\u001b[93m) + \u001b[94m\u001b[1m10\u001b[0m\u001b[93m * \u001b[94m\u001b[1m1\u001b[0m\u001b[93m lm calls in program = \u001b[94m\u001b[1m20\u001b[0m\u001b[93m prompt model calls\u001b[0m\n",
      "\n",
      "\u001b[93m\u001b[1mEstimated Cost Calculation:\u001b[0m\n",
      "\n",
      "\u001b[93mTotal Cost = (Number of calls to task model * (Avg Input Token Length per Call * Task Model Price per Input Token + Avg Output Token Length per Call * Task Model Price per Output Token) \n",
      "            + (Number of calls to prompt model * (Avg Input Token Length per Call * Task Prompt Price per Input Token + Avg Output Token Length per Call * Prompt Model Price per Output Token).\u001b[0m\n",
      "\n",
      "For a preliminary estimate of potential costs, we recommend you perform your own calculations based on the task\n",
      "and prompt models you intend to use. If the projected costs exceed your budget or expectations, you may consider:\n",
      "\n",
      "\u001b[93m- Reducing the number of trials (`num_trials`), the size of the trainset, or the number of LM calls in your program.\u001b[0m\n",
      "\u001b[93m- Using a cheaper task model to optimize the prompt.\u001b[0m\n",
      "To proceed with the execution of this program, please confirm by typing \u001b[94m'y'\u001b[0m for yes or \u001b[94m'n'\u001b[0m for no.\n",
      "\n",
      "If you would like to bypass this confirmation step in future executions, set the \u001b[93m`requires_permission_to_run`\u001b[0m flag to \u001b[93m`False`.\u001b[0m\n",
      "\n",
      "\u001b[93mAwaiting your input...\u001b[0m\n",
      "\n"
     ]
    },
    {
     "name": "stderr",
     "output_type": "stream",
     "text": [
      "  3%|▎         | 9/300 [00:00<00:00, 1108.27it/s]\n",
      "  3%|▎         | 10/300 [00:00<00:00, 1326.05it/s]\n",
      "  4%|▍         | 13/300 [00:00<00:00, 1940.63it/s]\n",
      "  3%|▎         | 9/300 [00:00<00:00, 2140.19it/s]\n",
      "  4%|▍         | 13/300 [00:00<00:00, 2566.17it/s]\n",
      "  6%|▌         | 18/300 [00:00<00:00, 2601.84it/s]\n",
      "  4%|▍         | 12/300 [00:00<00:00, 2791.86it/s]\n",
      "  3%|▎         | 10/300 [00:00<00:00, 2840.13it/s]\n",
      "  4%|▎         | 11/300 [00:00<00:00, 2614.75it/s]\n",
      "[I 2024-06-05 15:17:42,230] A new study created in memory with name: no-name-98ffa600-3939-4e95-80f2-e54fa20ed3de\n"
     ]
    },
    {
     "name": "stdout",
     "output_type": "stream",
     "text": [
      "Starting trial #0\n"
     ]
    },
    {
     "name": "stderr",
     "output_type": "stream",
     "text": [
      "Average Metric: 74 / 100  (74.0): 100%|██████████| 100/100 [00:00<00:00, 5184.81it/s]\n",
      "Average Metric: 75 / 100  (75.0): 100%|██████████| 100/100 [00:00<00:00, 5568.28it/s]\n",
      "Average Metric: 46 / 65  (70.8):  65%|██████▌   | 65/100 [14:56<08:02, 13.79s/it]\n",
      "Average Metric: 65 / 100  (65.0): 100%|██████████| 100/100 [00:00<00:00, 4503.85it/s]\n",
      "[I 2024-06-05 15:17:44,087] Trial 0 finished with value: 71.33333333333333 and parameters: {'5506468944_predictor_instruction': 1, '5506468944_predictor_demos': 2}. Best is trial 0 with value: 71.33333333333333.\n"
     ]
    },
    {
     "name": "stdout",
     "output_type": "stream",
     "text": [
      "Starting trial #1\n"
     ]
    },
    {
     "name": "stderr",
     "output_type": "stream",
     "text": [
      "Average Metric: 66 / 100  (66.0): 100%|██████████| 100/100 [00:00<00:00, 5313.75it/s]\n",
      "Average Metric: 71 / 100  (71.0): 100%|██████████| 100/100 [00:00<00:00, 5348.99it/s]\n",
      "Average Metric: 53 / 100  (53.0): 100%|██████████| 100/100 [00:00<00:00, 1267.39it/s]\n",
      "[I 2024-06-05 15:17:45,438] Trial 1 finished with value: 63.333333333333336 and parameters: {'5506468944_predictor_instruction': 6, '5506468944_predictor_demos': 6}. Best is trial 0 with value: 71.33333333333333.\n"
     ]
    },
    {
     "name": "stdout",
     "output_type": "stream",
     "text": [
      "Starting trial #2\n"
     ]
    },
    {
     "name": "stderr",
     "output_type": "stream",
     "text": [
      "Average Metric: 65 / 100  (65.0): 100%|██████████| 100/100 [00:00<00:00, 5063.99it/s]\n",
      "Average Metric: 74 / 100  (74.0): 100%|██████████| 100/100 [00:00<00:00, 1297.69it/s]\n",
      "Average Metric: 68 / 100  (68.0): 100%|██████████| 100/100 [00:00<00:00, 5339.05it/s]\n",
      "[I 2024-06-05 15:17:46,881] Trial 2 finished with value: 69.0 and parameters: {'5506468944_predictor_instruction': 5, '5506468944_predictor_demos': 3}. Best is trial 0 with value: 71.33333333333333.\n"
     ]
    },
    {
     "name": "stdout",
     "output_type": "stream",
     "text": [
      "Starting trial #3\n"
     ]
    },
    {
     "name": "stderr",
     "output_type": "stream",
     "text": [
      "Average Metric: 65 / 100  (65.0): 100%|██████████| 100/100 [00:00<00:00, 1468.58it/s]\n",
      "WARNING:retry.api:[SSL: SSLV3_ALERT_BAD_RECORD_MAC] ssl/tls alert bad record mac (_ssl.c:2559), retrying in 0.5 seconds...\n",
      "Average Metric: 74 / 100  (74.0): 100%|██████████| 100/100 [00:00<00:00, 5802.37it/s]\n",
      "Average Metric: 68 / 100  (68.0): 100%|██████████| 100/100 [00:00<00:00, 4021.89it/s]\n",
      "[I 2024-06-05 15:17:49,108] Trial 3 finished with value: 69.0 and parameters: {'5506468944_predictor_instruction': 5, '5506468944_predictor_demos': 3}. Best is trial 0 with value: 71.33333333333333.\n"
     ]
    },
    {
     "name": "stdout",
     "output_type": "stream",
     "text": [
      "Starting trial #4\n"
     ]
    },
    {
     "name": "stderr",
     "output_type": "stream",
     "text": [
      "Average Metric: 68 / 100  (68.0): 100%|██████████| 100/100 [00:00<00:00, 4307.20it/s]\n",
      "Average Metric: 74 / 100  (74.0): 100%|██████████| 100/100 [00:00<00:00, 3565.07it/s]\n",
      "Average Metric: 66 / 100  (66.0): 100%|██████████| 100/100 [00:00<00:00, 5329.35it/s]\n",
      "[I 2024-06-05 15:17:50,669] Trial 4 finished with value: 69.33333333333333 and parameters: {'5506468944_predictor_instruction': 4, '5506468944_predictor_demos': 3}. Best is trial 0 with value: 71.33333333333333.\n"
     ]
    },
    {
     "name": "stdout",
     "output_type": "stream",
     "text": [
      "Starting trial #5\n"
     ]
    },
    {
     "name": "stderr",
     "output_type": "stream",
     "text": [
      "Average Metric: 72 / 100  (72.0): 100%|██████████| 100/100 [00:00<00:00, 4181.09it/s]\n",
      "Average Metric: 78 / 100  (78.0): 100%|██████████| 100/100 [00:00<00:00, 3374.26it/s]\n",
      "Average Metric: 73 / 100  (73.0): 100%|██████████| 100/100 [00:00<00:00, 4659.56it/s]\n",
      "[I 2024-06-05 15:17:51,902] Trial 5 finished with value: 74.33333333333333 and parameters: {'5506468944_predictor_instruction': 6, '5506468944_predictor_demos': 8}. Best is trial 5 with value: 74.33333333333333.\n"
     ]
    },
    {
     "name": "stdout",
     "output_type": "stream",
     "text": [
      "Starting trial #6\n"
     ]
    },
    {
     "name": "stderr",
     "output_type": "stream",
     "text": [
      "Average Metric: 80 / 100  (80.0): 100%|██████████| 100/100 [00:00<00:00, 4950.02it/s]\n",
      "Average Metric: 78 / 100  (78.0): 100%|██████████| 100/100 [00:00<00:00, 5412.98it/s]\n",
      "Average Metric: 68 / 100  (68.0): 100%|██████████| 100/100 [00:00<00:00, 2095.65it/s]\n",
      "[I 2024-06-05 15:17:52,828] Trial 6 finished with value: 75.33333333333333 and parameters: {'5506468944_predictor_instruction': 7, '5506468944_predictor_demos': 4}. Best is trial 6 with value: 75.33333333333333.\n"
     ]
    },
    {
     "name": "stdout",
     "output_type": "stream",
     "text": [
      "Starting trial #7\n"
     ]
    },
    {
     "name": "stderr",
     "output_type": "stream",
     "text": [
      "Average Metric: 72 / 100  (72.0): 100%|██████████| 100/100 [00:00<00:00, 3754.03it/s]\n",
      "Average Metric: 78 / 100  (78.0): 100%|██████████| 100/100 [00:00<00:00, 5721.17it/s]\n",
      "Average Metric: 73 / 100  (73.0): 100%|██████████| 100/100 [00:00<00:00, 4372.76it/s]\n",
      "[I 2024-06-05 15:17:55,106] Trial 7 finished with value: 74.33333333333333 and parameters: {'5506468944_predictor_instruction': 6, '5506468944_predictor_demos': 8}. Best is trial 6 with value: 75.33333333333333.\n"
     ]
    },
    {
     "name": "stdout",
     "output_type": "stream",
     "text": [
      "Starting trial #8\n"
     ]
    },
    {
     "name": "stderr",
     "output_type": "stream",
     "text": [
      "Average Metric: 77 / 100  (77.0): 100%|██████████| 100/100 [00:00<00:00, 5911.47it/s]\n",
      "Average Metric: 77 / 100  (77.0): 100%|██████████| 100/100 [00:00<00:00, 5484.83it/s]\n",
      "Average Metric: 73 / 100  (73.0): 100%|██████████| 100/100 [00:00<00:00, 2804.64it/s]\n",
      "[I 2024-06-05 15:17:56,546] Trial 8 finished with value: 75.66666666666667 and parameters: {'5506468944_predictor_instruction': 2, '5506468944_predictor_demos': 4}. Best is trial 8 with value: 75.66666666666667.\n"
     ]
    },
    {
     "name": "stdout",
     "output_type": "stream",
     "text": [
      "Starting trial #9\n"
     ]
    },
    {
     "name": "stderr",
     "output_type": "stream",
     "text": [
      "Average Metric: 65 / 100  (65.0): 100%|██████████| 100/100 [00:00<00:00, 6008.95it/s]\n",
      "[I 2024-06-05 15:17:57,255] Trial 9 pruned. \n"
     ]
    },
    {
     "name": "stdout",
     "output_type": "stream",
     "text": [
      "Trial pruned.\n",
      "Starting trial #10\n"
     ]
    },
    {
     "name": "stderr",
     "output_type": "stream",
     "text": [
      "Average Metric: 41 / 100  (41.0): 100%|██████████| 100/100 [00:19<00:00,  5.24it/s]\n",
      "[I 2024-06-05 15:18:16,900] Trial 10 pruned. \n"
     ]
    },
    {
     "name": "stdout",
     "output_type": "stream",
     "text": [
      "Trial pruned.\n",
      "Starting trial #11\n"
     ]
    },
    {
     "name": "stderr",
     "output_type": "stream",
     "text": [
      "Average Metric: 80 / 100  (80.0): 100%|██████████| 100/100 [00:00<00:00, 2573.67it/s]\n",
      "Average Metric: 78 / 100  (78.0): 100%|██████████| 100/100 [00:00<00:00, 5742.16it/s]\n",
      "Average Metric: 68 / 100  (68.0): 100%|██████████| 100/100 [00:00<00:00, 2273.30it/s]\n",
      "[I 2024-06-05 15:18:17,569] Trial 11 finished with value: 75.33333333333333 and parameters: {'5506468944_predictor_instruction': 7, '5506468944_predictor_demos': 4}. Best is trial 8 with value: 75.66666666666667.\n"
     ]
    },
    {
     "name": "stdout",
     "output_type": "stream",
     "text": [
      "Starting trial #12\n"
     ]
    },
    {
     "name": "stderr",
     "output_type": "stream",
     "text": [
      "Average Metric: 77 / 100  (77.0): 100%|██████████| 100/100 [00:00<00:00, 2954.38it/s]\n",
      "Average Metric: 77 / 100  (77.0): 100%|██████████| 100/100 [00:00<00:00, 5237.84it/s]\n",
      "Average Metric: 73 / 100  (73.0): 100%|██████████| 100/100 [00:00<00:00, 5754.69it/s]\n",
      "[I 2024-06-05 15:18:19,593] Trial 12 finished with value: 75.66666666666667 and parameters: {'5506468944_predictor_instruction': 2, '5506468944_predictor_demos': 4}. Best is trial 8 with value: 75.66666666666667.\n"
     ]
    },
    {
     "name": "stdout",
     "output_type": "stream",
     "text": [
      "Starting trial #13\n"
     ]
    },
    {
     "name": "stderr",
     "output_type": "stream",
     "text": [
      "Average Metric: 77 / 100  (77.0): 100%|██████████| 100/100 [00:00<00:00, 3319.38it/s]\n",
      "Average Metric: 77 / 100  (77.0): 100%|██████████| 100/100 [00:00<00:00, 5556.47it/s]\n",
      "WARNING:retry.api:[SSL: SSLV3_ALERT_BAD_RECORD_MAC] ssl/tls alert bad record mac (_ssl.c:2559), retrying in 0.5 seconds...\n",
      "Average Metric: 73 / 100  (73.0): 100%|██████████| 100/100 [00:00<00:00, 4248.77it/s]\n",
      "[I 2024-06-05 15:18:21,511] Trial 13 finished with value: 75.66666666666667 and parameters: {'5506468944_predictor_instruction': 2, '5506468944_predictor_demos': 4}. Best is trial 8 with value: 75.66666666666667.\n"
     ]
    },
    {
     "name": "stdout",
     "output_type": "stream",
     "text": [
      "Starting trial #14\n"
     ]
    },
    {
     "name": "stderr",
     "output_type": "stream",
     "text": [
      "Average Metric: 68 / 100  (68.0): 100%|██████████| 100/100 [00:21<00:00,  4.57it/s]\n",
      "[I 2024-06-05 15:18:44,211] Trial 14 pruned. \n"
     ]
    },
    {
     "name": "stdout",
     "output_type": "stream",
     "text": [
      "Trial pruned.\n",
      "Starting trial #15\n"
     ]
    },
    {
     "name": "stderr",
     "output_type": "stream",
     "text": [
      "Average Metric: 72 / 100  (72.0): 100%|██████████| 100/100 [00:22<00:00,  4.37it/s]\n",
      "[I 2024-06-05 15:19:07,662] Trial 15 pruned. \n"
     ]
    },
    {
     "name": "stdout",
     "output_type": "stream",
     "text": [
      "Trial pruned.\n",
      "Starting trial #16\n"
     ]
    },
    {
     "name": "stderr",
     "output_type": "stream",
     "text": [
      "Average Metric: 62 / 100  (62.0): 100%|██████████| 100/100 [00:11<00:00,  8.93it/s]\n",
      "[I 2024-06-05 15:19:19,481] Trial 16 pruned. \n"
     ]
    },
    {
     "name": "stdout",
     "output_type": "stream",
     "text": [
      "Trial pruned.\n",
      "Starting trial #17\n"
     ]
    },
    {
     "name": "stderr",
     "output_type": "stream",
     "text": [
      "Average Metric: 72 / 100  (72.0): 100%|██████████| 100/100 [00:11<00:00,  8.93it/s]\n",
      "[I 2024-06-05 15:19:31,087] Trial 17 pruned. \n"
     ]
    },
    {
     "name": "stdout",
     "output_type": "stream",
     "text": [
      "Trial pruned.\n",
      "Starting trial #18\n"
     ]
    },
    {
     "name": "stderr",
     "output_type": "stream",
     "text": [
      "Average Metric: 77 / 100  (77.0): 100%|██████████| 100/100 [00:00<00:00, 3998.76it/s]\n",
      "Average Metric: 77 / 100  (77.0): 100%|██████████| 100/100 [00:00<00:00, 5270.95it/s]\n",
      "Average Metric: 73 / 100  (73.0): 100%|██████████| 100/100 [00:00<00:00, 2166.85it/s]\n",
      "[I 2024-06-05 15:19:32,017] Trial 18 finished with value: 75.66666666666667 and parameters: {'5506468944_predictor_instruction': 2, '5506468944_predictor_demos': 4}. Best is trial 8 with value: 75.66666666666667.\n"
     ]
    },
    {
     "name": "stdout",
     "output_type": "stream",
     "text": [
      "Starting trial #19\n"
     ]
    },
    {
     "name": "stderr",
     "output_type": "stream",
     "text": [
      "Average Metric: 77 / 100  (77.0): 100%|██████████| 100/100 [00:00<00:00, 3952.27it/s]\n",
      "Average Metric: 77 / 100  (77.0): 100%|██████████| 100/100 [00:00<00:00, 5418.02it/s]\n",
      "Average Metric: 73 / 100  (73.0): 100%|██████████| 100/100 [00:00<00:00, 5321.44it/s]\n",
      "[I 2024-06-05 15:19:33,166] Trial 19 finished with value: 75.66666666666667 and parameters: {'5506468944_predictor_instruction': 2, '5506468944_predictor_demos': 4}. Best is trial 8 with value: 75.66666666666667.\n"
     ]
    },
    {
     "name": "stdout",
     "output_type": "stream",
     "text": [
      "Starting trial #20\n"
     ]
    },
    {
     "name": "stderr",
     "output_type": "stream",
     "text": [
      "Average Metric: 71 / 100  (71.0): 100%|██████████| 100/100 [00:22<00:00,  4.54it/s]\n",
      "[I 2024-06-05 15:19:55,998] Trial 20 pruned. \n"
     ]
    },
    {
     "name": "stdout",
     "output_type": "stream",
     "text": [
      "Trial pruned.\n",
      "Starting trial #21\n"
     ]
    },
    {
     "name": "stderr",
     "output_type": "stream",
     "text": [
      "Average Metric: 77 / 100  (77.0): 100%|██████████| 100/100 [00:00<00:00, 2201.97it/s]\n",
      "Average Metric: 77 / 100  (77.0): 100%|██████████| 100/100 [00:00<00:00, 5376.35it/s]\n",
      "Average Metric: 73 / 100  (73.0): 100%|██████████| 100/100 [00:00<00:00, 4301.10it/s]\n",
      "[I 2024-06-05 15:19:57,010] Trial 21 finished with value: 75.66666666666667 and parameters: {'5506468944_predictor_instruction': 2, '5506468944_predictor_demos': 4}. Best is trial 8 with value: 75.66666666666667.\n"
     ]
    },
    {
     "name": "stdout",
     "output_type": "stream",
     "text": [
      "Starting trial #22\n"
     ]
    },
    {
     "name": "stderr",
     "output_type": "stream",
     "text": [
      "Average Metric: 77 / 100  (77.0): 100%|██████████| 100/100 [00:00<00:00, 5650.95it/s]\n",
      "Average Metric: 77 / 100  (77.0): 100%|██████████| 100/100 [00:00<00:00, 5190.78it/s]\n",
      "Average Metric: 73 / 100  (73.0): 100%|██████████| 100/100 [00:00<00:00, 5453.74it/s]\n",
      "[I 2024-06-05 15:19:58,572] Trial 22 finished with value: 75.66666666666667 and parameters: {'5506468944_predictor_instruction': 2, '5506468944_predictor_demos': 4}. Best is trial 8 with value: 75.66666666666667.\n"
     ]
    },
    {
     "name": "stdout",
     "output_type": "stream",
     "text": [
      "Starting trial #23\n"
     ]
    },
    {
     "name": "stderr",
     "output_type": "stream",
     "text": [
      "Average Metric: 77 / 100  (77.0): 100%|██████████| 100/100 [00:00<00:00, 1387.18it/s]\n",
      "Average Metric: 77 / 100  (77.0): 100%|██████████| 100/100 [00:00<00:00, 5607.88it/s]\n",
      "Average Metric: 73 / 100  (73.0): 100%|██████████| 100/100 [00:00<00:00, 1307.48it/s]\n",
      "[I 2024-06-05 15:19:59,664] Trial 23 finished with value: 75.66666666666667 and parameters: {'5506468944_predictor_instruction': 2, '5506468944_predictor_demos': 4}. Best is trial 8 with value: 75.66666666666667.\n"
     ]
    },
    {
     "name": "stdout",
     "output_type": "stream",
     "text": [
      "Starting trial #24\n"
     ]
    },
    {
     "name": "stderr",
     "output_type": "stream",
     "text": [
      "Average Metric: 41 / 100  (41.0): 100%|██████████| 100/100 [00:12<00:00,  7.82it/s]\n",
      "[I 2024-06-05 15:20:13,224] Trial 24 pruned. \n"
     ]
    },
    {
     "name": "stdout",
     "output_type": "stream",
     "text": [
      "Trial pruned.\n",
      "Starting trial #25\n"
     ]
    },
    {
     "name": "stderr",
     "output_type": "stream",
     "text": [
      "Average Metric: 72 / 100  (72.0): 100%|██████████| 100/100 [00:00<00:00, 4222.98it/s]\n",
      "[I 2024-06-05 15:20:13,836] Trial 25 pruned. \n"
     ]
    },
    {
     "name": "stdout",
     "output_type": "stream",
     "text": [
      "Trial pruned.\n",
      "Starting trial #26\n"
     ]
    },
    {
     "name": "stderr",
     "output_type": "stream",
     "text": [
      "Average Metric: 67 / 100  (67.0): 100%|██████████| 100/100 [00:10<00:00,  9.19it/s]\n",
      "[I 2024-06-05 15:20:25,407] Trial 26 pruned. \n"
     ]
    },
    {
     "name": "stdout",
     "output_type": "stream",
     "text": [
      "Trial pruned.\n",
      "Starting trial #27\n"
     ]
    },
    {
     "name": "stderr",
     "output_type": "stream",
     "text": [
      "Average Metric: 67 / 100  (67.0): 100%|██████████| 100/100 [00:10<00:00,  9.26it/s]\n",
      "[I 2024-06-05 15:20:36,695] Trial 27 pruned. \n"
     ]
    },
    {
     "name": "stdout",
     "output_type": "stream",
     "text": [
      "Trial pruned.\n",
      "Starting trial #28\n"
     ]
    },
    {
     "name": "stderr",
     "output_type": "stream",
     "text": [
      "Average Metric: 53 / 100  (53.0): 100%|██████████| 100/100 [00:21<00:00,  4.58it/s]\n",
      "[I 2024-06-05 15:20:59,202] Trial 28 pruned. \n"
     ]
    },
    {
     "name": "stdout",
     "output_type": "stream",
     "text": [
      "Trial pruned.\n",
      "Starting trial #29\n"
     ]
    },
    {
     "name": "stderr",
     "output_type": "stream",
     "text": [
      "Average Metric: 74 / 100  (74.0): 100%|██████████| 100/100 [00:00<00:00, 5274.86it/s]\n",
      "[I 2024-06-05 15:20:59,696] Trial 29 pruned. \n"
     ]
    },
    {
     "name": "stdout",
     "output_type": "stream",
     "text": [
      "Trial pruned.\n",
      "Starting trial #30\n"
     ]
    },
    {
     "name": "stderr",
     "output_type": "stream",
     "text": [
      "Average Metric: 77 / 100  (77.0): 100%|██████████| 100/100 [00:00<00:00, 5564.58it/s]\n",
      "Average Metric: 77 / 100  (77.0): 100%|██████████| 100/100 [00:00<00:00, 3942.76it/s]\n",
      "Average Metric: 73 / 100  (73.0): 100%|██████████| 100/100 [00:00<00:00, 3578.94it/s]\n",
      "[I 2024-06-05 15:21:00,804] Trial 30 finished with value: 75.66666666666667 and parameters: {'5506468944_predictor_instruction': 2, '5506468944_predictor_demos': 4}. Best is trial 8 with value: 75.66666666666667.\n"
     ]
    },
    {
     "name": "stdout",
     "output_type": "stream",
     "text": [
      "Starting trial #31\n"
     ]
    },
    {
     "name": "stderr",
     "output_type": "stream",
     "text": [
      "Average Metric: 77 / 100  (77.0): 100%|██████████| 100/100 [00:00<00:00, 1451.28it/s]\n",
      "Average Metric: 77 / 100  (77.0): 100%|██████████| 100/100 [00:00<00:00, 4652.53it/s]\n",
      "Average Metric: 73 / 100  (73.0): 100%|██████████| 100/100 [00:00<00:00, 3082.14it/s]\n",
      "[I 2024-06-05 15:21:02,109] Trial 31 finished with value: 75.66666666666667 and parameters: {'5506468944_predictor_instruction': 2, '5506468944_predictor_demos': 4}. Best is trial 8 with value: 75.66666666666667.\n"
     ]
    },
    {
     "name": "stdout",
     "output_type": "stream",
     "text": [
      "Starting trial #32\n"
     ]
    },
    {
     "name": "stderr",
     "output_type": "stream",
     "text": [
      "Average Metric: 77 / 100  (77.0): 100%|██████████| 100/100 [00:00<00:00, 5610.43it/s]\n",
      "Average Metric: 77 / 100  (77.0): 100%|██████████| 100/100 [00:00<00:00, 4511.02it/s]\n",
      "Average Metric: 73 / 100  (73.0): 100%|██████████| 100/100 [00:00<00:00, 2709.08it/s]\n",
      "[I 2024-06-05 15:21:03,803] Trial 32 finished with value: 75.66666666666667 and parameters: {'5506468944_predictor_instruction': 2, '5506468944_predictor_demos': 4}. Best is trial 8 with value: 75.66666666666667.\n"
     ]
    },
    {
     "name": "stdout",
     "output_type": "stream",
     "text": [
      "Starting trial #33\n"
     ]
    },
    {
     "name": "stderr",
     "output_type": "stream",
     "text": [
      "Average Metric: 77 / 100  (77.0): 100%|██████████| 100/100 [00:00<00:00, 5014.29it/s]\n",
      "WARNING:retry.api:[SSL: SSLV3_ALERT_BAD_RECORD_MAC] ssl/tls alert bad record mac (_ssl.c:2559), retrying in 0.5 seconds...\n",
      "Average Metric: 77 / 100  (77.0): 100%|██████████| 100/100 [00:00<00:00, 3951.93it/s]\n",
      "Average Metric: 73 / 100  (73.0): 100%|██████████| 100/100 [00:00<00:00, 5028.90it/s]\n",
      "[I 2024-06-05 15:21:05,956] Trial 33 finished with value: 75.66666666666667 and parameters: {'5506468944_predictor_instruction': 2, '5506468944_predictor_demos': 4}. Best is trial 8 with value: 75.66666666666667.\n"
     ]
    },
    {
     "name": "stdout",
     "output_type": "stream",
     "text": [
      "Starting trial #34\n"
     ]
    },
    {
     "name": "stderr",
     "output_type": "stream",
     "text": [
      "Average Metric: 69 / 100  (69.0): 100%|██████████| 100/100 [00:12<00:00,  7.97it/s]\n",
      "[I 2024-06-05 15:21:19,481] Trial 34 pruned. \n"
     ]
    },
    {
     "name": "stdout",
     "output_type": "stream",
     "text": [
      "Trial pruned.\n",
      "Starting trial #35\n"
     ]
    },
    {
     "name": "stderr",
     "output_type": "stream",
     "text": [
      "Average Metric: 77 / 100  (77.0): 100%|██████████| 100/100 [00:00<00:00, 5404.82it/s]\n",
      "Average Metric: 77 / 100  (77.0): 100%|██████████| 100/100 [00:00<00:00, 3271.41it/s]\n",
      "Average Metric: 73 / 100  (73.0): 100%|██████████| 100/100 [00:00<00:00, 5965.95it/s]\n",
      "[I 2024-06-05 15:21:20,881] Trial 35 finished with value: 75.66666666666667 and parameters: {'5506468944_predictor_instruction': 2, '5506468944_predictor_demos': 4}. Best is trial 8 with value: 75.66666666666667.\n"
     ]
    },
    {
     "name": "stdout",
     "output_type": "stream",
     "text": [
      "Starting trial #36\n"
     ]
    },
    {
     "name": "stderr",
     "output_type": "stream",
     "text": [
      "Average Metric: 68 / 100  (68.0): 100%|██████████| 100/100 [00:00<00:00, 2907.74it/s]\n",
      "[I 2024-06-05 15:21:21,730] Trial 36 pruned. \n"
     ]
    },
    {
     "name": "stdout",
     "output_type": "stream",
     "text": [
      "Trial pruned.\n",
      "Starting trial #37\n"
     ]
    },
    {
     "name": "stderr",
     "output_type": "stream",
     "text": [
      "Average Metric: 83 / 100  (83.0): 100%|██████████| 100/100 [00:10<00:00,  9.34it/s]\n",
      "Average Metric: 88 / 100  (88.0): 100%|██████████| 100/100 [00:10<00:00,  9.32it/s]\n",
      "Average Metric: 77 / 100  (77.0): 100%|██████████| 100/100 [00:14<00:00,  7.02it/s]\n",
      "[I 2024-06-05 15:21:58,820] Trial 37 finished with value: 82.66666666666667 and parameters: {'5506468944_predictor_instruction': 5, '5506468944_predictor_demos': 4}. Best is trial 37 with value: 82.66666666666667.\n"
     ]
    },
    {
     "name": "stdout",
     "output_type": "stream",
     "text": [
      "Starting trial #38\n"
     ]
    },
    {
     "name": "stderr",
     "output_type": "stream",
     "text": [
      "Average Metric: 74 / 100  (74.0): 100%|██████████| 100/100 [00:12<00:00,  7.88it/s]\n",
      "[I 2024-06-05 15:22:12,327] Trial 38 pruned. \n"
     ]
    },
    {
     "name": "stdout",
     "output_type": "stream",
     "text": [
      "Trial pruned.\n",
      "Starting trial #39\n"
     ]
    },
    {
     "name": "stderr",
     "output_type": "stream",
     "text": [
      "Average Metric: 83 / 100  (83.0): 100%|██████████| 100/100 [00:00<00:00, 3965.12it/s]\n",
      "Average Metric: 88 / 100  (88.0): 100%|██████████| 100/100 [00:00<00:00, 5107.47it/s]\n",
      "Average Metric: 77 / 100  (77.0): 100%|██████████| 100/100 [00:00<00:00, 3415.97it/s]\n",
      "[I 2024-06-05 15:22:13,594] Trial 39 finished with value: 82.66666666666667 and parameters: {'5506468944_predictor_instruction': 5, '5506468944_predictor_demos': 4}. Best is trial 37 with value: 82.66666666666667.\n"
     ]
    },
    {
     "name": "stdout",
     "output_type": "stream",
     "text": [
      "Starting trial #40\n"
     ]
    },
    {
     "name": "stderr",
     "output_type": "stream",
     "text": [
      "Average Metric: 79 / 100  (79.0): 100%|██████████| 100/100 [00:13<00:00,  7.20it/s]\n",
      "Average Metric: 81 / 100  (81.0): 100%|██████████| 100/100 [00:14<00:00,  6.90it/s]\n",
      "WARNING:retry.api:[SSL: SSLV3_ALERT_BAD_RECORD_MAC] ssl/tls alert bad record mac (_ssl.c:2559), retrying in 0.5 seconds...\n",
      "Average Metric: 71 / 100  (71.0): 100%|██████████| 100/100 [00:11<00:00,  9.02it/s]\n",
      "[I 2024-06-05 15:22:55,236] Trial 40 finished with value: 77.0 and parameters: {'5506468944_predictor_instruction': 5, '5506468944_predictor_demos': 2}. Best is trial 37 with value: 82.66666666666667.\n"
     ]
    },
    {
     "name": "stdout",
     "output_type": "stream",
     "text": [
      "Starting trial #41\n"
     ]
    },
    {
     "name": "stderr",
     "output_type": "stream",
     "text": [
      "Average Metric: 79 / 100  (79.0): 100%|██████████| 100/100 [00:00<00:00, 1008.26it/s]\n",
      "Average Metric: 81 / 100  (81.0): 100%|██████████| 100/100 [00:00<00:00, 5386.43it/s]\n",
      "Average Metric: 71 / 100  (71.0): 100%|██████████| 100/100 [00:00<00:00, 1326.08it/s]\n",
      "[I 2024-06-05 15:22:57,125] Trial 41 finished with value: 77.0 and parameters: {'5506468944_predictor_instruction': 5, '5506468944_predictor_demos': 2}. Best is trial 37 with value: 82.66666666666667.\n"
     ]
    },
    {
     "name": "stdout",
     "output_type": "stream",
     "text": [
      "Starting trial #42\n"
     ]
    },
    {
     "name": "stderr",
     "output_type": "stream",
     "text": [
      "Average Metric: 79 / 100  (79.0): 100%|██████████| 100/100 [00:00<00:00, 4267.14it/s]\n",
      "Average Metric: 81 / 100  (81.0): 100%|██████████| 100/100 [00:00<00:00, 1469.03it/s]\n",
      "Average Metric: 71 / 100  (71.0): 100%|██████████| 100/100 [00:00<00:00, 5339.53it/s]\n",
      "[I 2024-06-05 15:22:58,342] Trial 42 finished with value: 77.0 and parameters: {'5506468944_predictor_instruction': 5, '5506468944_predictor_demos': 2}. Best is trial 37 with value: 82.66666666666667.\n"
     ]
    },
    {
     "name": "stdout",
     "output_type": "stream",
     "text": [
      "Starting trial #43\n"
     ]
    },
    {
     "name": "stderr",
     "output_type": "stream",
     "text": [
      "Average Metric: 79 / 100  (79.0): 100%|██████████| 100/100 [00:00<00:00, 1874.87it/s]\n",
      "Average Metric: 81 / 100  (81.0): 100%|██████████| 100/100 [00:00<00:00, 4843.36it/s]\n",
      "Average Metric: 71 / 100  (71.0): 100%|██████████| 100/100 [00:00<00:00, 1348.34it/s]\n",
      "[I 2024-06-05 15:22:59,845] Trial 43 finished with value: 77.0 and parameters: {'5506468944_predictor_instruction': 5, '5506468944_predictor_demos': 2}. Best is trial 37 with value: 82.66666666666667.\n"
     ]
    },
    {
     "name": "stdout",
     "output_type": "stream",
     "text": [
      "Starting trial #44\n"
     ]
    },
    {
     "name": "stderr",
     "output_type": "stream",
     "text": [
      "Average Metric: 79 / 100  (79.0): 100%|██████████| 100/100 [00:00<00:00, 4945.36it/s]\n",
      "Average Metric: 81 / 100  (81.0): 100%|██████████| 100/100 [00:00<00:00, 3042.37it/s]\n",
      "WARNING:retry.api:[SSL: SSLV3_ALERT_BAD_RECORD_MAC] ssl/tls alert bad record mac (_ssl.c:2559), retrying in 0.5 seconds...\n",
      "Average Metric: 71 / 100  (71.0): 100%|██████████| 100/100 [00:00<00:00, 3524.36it/s]\n",
      "[I 2024-06-05 15:23:01,996] Trial 44 finished with value: 77.0 and parameters: {'5506468944_predictor_instruction': 5, '5506468944_predictor_demos': 2}. Best is trial 37 with value: 82.66666666666667.\n"
     ]
    },
    {
     "name": "stdout",
     "output_type": "stream",
     "text": [
      "Starting trial #45\n"
     ]
    },
    {
     "name": "stderr",
     "output_type": "stream",
     "text": [
      "Average Metric: 79 / 100  (79.0): 100%|██████████| 100/100 [00:00<00:00, 1388.86it/s]\n",
      "Average Metric: 81 / 100  (81.0): 100%|██████████| 100/100 [00:00<00:00, 5206.18it/s]\n",
      "Average Metric: 71 / 100  (71.0): 100%|██████████| 100/100 [00:00<00:00, 1868.22it/s]\n",
      "[I 2024-06-05 15:23:04,525] Trial 45 finished with value: 77.0 and parameters: {'5506468944_predictor_instruction': 5, '5506468944_predictor_demos': 2}. Best is trial 37 with value: 82.66666666666667.\n"
     ]
    },
    {
     "name": "stdout",
     "output_type": "stream",
     "text": [
      "Starting trial #46\n"
     ]
    },
    {
     "name": "stderr",
     "output_type": "stream",
     "text": [
      "Average Metric: 79 / 100  (79.0): 100%|██████████| 100/100 [00:00<00:00, 5010.28it/s]\n",
      "Average Metric: 81 / 100  (81.0): 100%|██████████| 100/100 [00:00<00:00, 4873.30it/s]\n",
      "Average Metric: 71 / 100  (71.0): 100%|██████████| 100/100 [00:00<00:00, 5359.04it/s]\n",
      "[I 2024-06-05 15:23:05,663] Trial 46 finished with value: 77.0 and parameters: {'5506468944_predictor_instruction': 5, '5506468944_predictor_demos': 2}. Best is trial 37 with value: 82.66666666666667.\n"
     ]
    },
    {
     "name": "stdout",
     "output_type": "stream",
     "text": [
      "Starting trial #47\n"
     ]
    },
    {
     "name": "stderr",
     "output_type": "stream",
     "text": [
      "Average Metric: 79 / 100  (79.0): 100%|██████████| 100/100 [00:00<00:00, 1917.29it/s]\n",
      "Average Metric: 81 / 100  (81.0): 100%|██████████| 100/100 [00:00<00:00, 4879.99it/s]\n",
      "Average Metric: 71 / 100  (71.0): 100%|██████████| 100/100 [00:00<00:00, 1970.44it/s]\n",
      "[I 2024-06-05 15:23:07,137] Trial 47 finished with value: 77.0 and parameters: {'5506468944_predictor_instruction': 5, '5506468944_predictor_demos': 2}. Best is trial 37 with value: 82.66666666666667.\n"
     ]
    },
    {
     "name": "stdout",
     "output_type": "stream",
     "text": [
      "Starting trial #48\n"
     ]
    },
    {
     "name": "stderr",
     "output_type": "stream",
     "text": [
      "Average Metric: 79 / 100  (79.0): 100%|██████████| 100/100 [00:00<00:00, 4655.48it/s]\n",
      "Average Metric: 81 / 100  (81.0): 100%|██████████| 100/100 [00:00<00:00, 3748.43it/s]\n",
      "Average Metric: 71 / 100  (71.0): 100%|██████████| 100/100 [00:00<00:00, 5005.26it/s]\n",
      "[I 2024-06-05 15:23:08,398] Trial 48 finished with value: 77.0 and parameters: {'5506468944_predictor_instruction': 5, '5506468944_predictor_demos': 2}. Best is trial 37 with value: 82.66666666666667.\n"
     ]
    },
    {
     "name": "stdout",
     "output_type": "stream",
     "text": [
      "Starting trial #49\n"
     ]
    },
    {
     "name": "stderr",
     "output_type": "stream",
     "text": [
      "Average Metric: 79 / 100  (79.0): 100%|██████████| 100/100 [00:00<00:00, 3257.33it/s]\n",
      "Average Metric: 81 / 100  (81.0): 100%|██████████| 100/100 [00:00<00:00, 5305.28it/s]\n",
      "Average Metric: 71 / 100  (71.0): 100%|██████████| 100/100 [00:00<00:00, 3595.20it/s]\n",
      "[I 2024-06-05 15:23:09,680] Trial 49 finished with value: 77.0 and parameters: {'5506468944_predictor_instruction': 5, '5506468944_predictor_demos': 2}. Best is trial 37 with value: 82.66666666666667.\n"
     ]
    },
    {
     "name": "stdout",
     "output_type": "stream",
     "text": [
      "Returning predict = Predict(StringSignature(output -> reasoning, sentiment\n",
      "    instructions=\"Basic Instruction: Given the fields `output`, produce the fields `reasoning`, `sentiment`.\\n\\nObservations: The dataset primarily focuses on in-depth reviews of high-end smartphones from brands like Google Pixel, iPhone, Samsung Galaxy, and OnePlus, highlighting features such as chipsets, battery life, and camera performance. It captures a wide spectrum of sentiments, ranging from very positive to subtly negative, often comparing devices to competitors or predecessors. The language is professional and technical, balancing detailed specifications with real-world applications, making it well-suited for training sentiment analysis models to understand nuanced consumer feedback and competitive comparisons in the tech review domain.\\n\\nProposed Instruction: You are given `output`, which is an in-depth review or commentary on high-end smartphones from brands such as Google Pixel, iPhone, Samsung Galaxy, and OnePlus. Your task is to analyze this review to produce two fields: `reasoning` and `sentiment`.\\n\\n1. **Reasoning**: Extract the core arguments, evidences, and justifications provided in the review. This should include detailed assessments of features such as chipset performance, battery longevity, camera quality, build design, and any comparisons made with other smartphone models.\\n2. **Sentiment**: Determine the overall sentiment of the review towards the smartphone. This can range from very positive to subtly negative. Pay attention to the nuanced language and phrases that indicate the reviewer's satisfaction or dissatisfaction.\\n\\n**Ensure that the reasoning is precise and adequately supports the identified sentiment. Maintain a professional and technical tone in your output to reflect the style of the reviews.**\"\n",
      "    output = Field(annotation=str required=True json_schema_extra={'__dspy_field_type': 'input', 'prefix': 'Output:', 'desc': '${output}'})\n",
      "    reasoning = Field(annotation=str required=True json_schema_extra={'__dspy_field_type': 'output', 'prefix': 'Reasoning:', 'desc': '${reasoning}'})\n",
      "    sentiment = Field(annotation=str required=True json_schema_extra={'__dspy_field_type': 'output', 'prefix': 'The review provides insights on...', 'desc': '${sentiment}'})\n",
      ")) from continue_program\n"
     ]
    }
   ],
   "source": [
    "from dspy.teleprompt import MIPRO\n",
    "\n",
    "gpt4_prompt_model = dspy.OpenAI(\n",
    "    model=\"gpt-4o\",\n",
    "    max_tokens=2048,\n",
    ")\n",
    "\n",
    "optimizer = MIPRO(prompt_model=gpt4_prompt_model, task_model=llm, metric=sentiment_matches, num_candidates=10, teacher_settings=dict(lm=gpt4))\n",
    "kwargs = dict(num_threads=16, display_progress=True, display_table=0)\n",
    "\n",
    "langwatch.dspy.init(experiment=\"product_sentiment_polarity_openai_experiment\", optimizer=optimizer)\n",
    "\n",
    "optimized_evaluator = optimizer.compile(ProductSentimentPolarity(), trainset=trainset_300, max_bootstrapped_demos=8, num_trials=50, max_labeled_demos=8, view_examples=False, eval_kwargs=kwargs)"
   ]
  },
  {
   "cell_type": "code",
   "execution_count": 16,
   "metadata": {},
   "outputs": [
    {
     "name": "stderr",
     "output_type": "stream",
     "text": [
      "  0%|          | 0/100 [00:00<?, ?it/s]"
     ]
    },
    {
     "name": "stderr",
     "output_type": "stream",
     "text": [
      "Average Metric: 80 / 100  (80.0): 100%|██████████| 100/100 [00:42<00:00,  2.36it/s]\n",
      "Average Metric: 248 / 300  (82.7): 100%|██████████| 300/300 [00:00<00:00, 2541.86it/s]"
     ]
    },
    {
     "name": "stdout",
     "output_type": "stream",
     "text": [
      "dev score 80.0\n",
      "train score 82.67\n"
     ]
    },
    {
     "name": "stderr",
     "output_type": "stream",
     "text": [
      "\n"
     ]
    }
   ],
   "source": [
    "from dspy.evaluate import Evaluate\n",
    "\n",
    "evaluate_dev = Evaluate(devset=devset, metric=sentiment_matches, num_threads=4, display_progress=True, display_table=0)\n",
    "evaluate_train = Evaluate(devset=trainset_300, metric=sentiment_matches, num_threads=4, display_progress=True, display_table=0)\n",
    "\n",
    "dev_score = evaluate_dev(optimized_evaluator)\n",
    "train_score = evaluate_train(optimized_evaluator)\n",
    "print(\"dev score\", dev_score)\n",
    "print(\"train score\", train_score)"
   ]
  },
  {
   "cell_type": "code",
   "execution_count": 17,
   "metadata": {},
   "outputs": [],
   "source": [
    "import os\n",
    "if not os.path.exists('./results'):\n",
    "    os.makedirs('./results')\n",
    "optimized_evaluator.save(f\"./results/{langwatch.dspy.experiment_slug}_{model}_{langwatch.dspy.run_id}_train_{train_score}_dev_{dev_score}.json\")"
   ]
  },
  {
   "cell_type": "code",
   "execution_count": 58,
   "metadata": {},
   "outputs": [
    {
     "name": "stderr",
     "output_type": "stream",
     "text": [
      "Average Metric: 65 / 100  (65.0): 100%|██████████| 100/100 [00:15<00:00,  6.54it/s]\n"
     ]
    },
    {
     "data": {
      "image/png": "[encoded data removed]",
      "text/plain": [
       "<Figure size 800x600 with 2 Axes>"
      ]
     },
     "metadata": {},
     "output_type": "display_data"
    }
   ],
   "source": [
    "from tqdm import tqdm\n",
    "import pandas as pd\n",
    "import seaborn as sns\n",
    "import matplotlib.pyplot as plt\n",
    "from sklearn.metrics import confusion_matrix\n",
    "\n",
    "# optimized_evaluator = ProductSentimentPolarity()\n",
    "# optimized_evaluator.load(\"./product_sentiment_polarity_anthropic_no_reasoning_v1_80.json\")\n",
    "# optimized_evaluator(output=dev_example.output)\n",
    "\n",
    "evaluate = Evaluate(\n",
    "    devset=devset,\n",
    "    metric=sentiment_matches,\n",
    "    num_threads=4,\n",
    "    display_progress=True,\n",
    "    display_table=0,\n",
    "    return_outputs=True,\n",
    ")\n",
    "score, results = evaluate(optimized_evaluator)  # type: ignore\n",
    "\n",
    "sentiment_map = {\n",
    "    \"skipped\": 4,\n",
    "    \"very_positive\": 3,\n",
    "    \"subtly_positive\": 2,\n",
    "    \"subtly_negative\": 1,\n",
    "    \"very_negative\": 0,\n",
    "}\n",
    "\n",
    "y = [sentiment_map[example[0].sentiment] for example in results]\n",
    "y_pred = [sentiment_map[example[1].sentiment] for example in results]\n",
    "\n",
    "\n",
    "conf_matrix = confusion_matrix(y, y_pred)\n",
    "\n",
    "# Plotting confusion matrices\n",
    "fig, ax = plt.subplots(1, 1, figsize=(8, 6))\n",
    "\n",
    "sns.heatmap(conf_matrix, annot=True, fmt=\"d\", cmap=\"Blues\", ax=ax)\n",
    "ax.set_title(\"Confusion Matrix: Actual vs Predicted\")\n",
    "ax.set_xlabel(\"Predicted\")\n",
    "ax.set_ylabel(\"Actual\")\n",
    "\n",
    "plt.tight_layout()"
   ]
  },
  {
   "cell_type": "markdown",
   "metadata": {},
   "source": [
    "**Accuracy MIPRO** - 72.84%"
   ]
  },
  {
   "cell_type": "markdown",
   "metadata": {},
   "source": [
    "# 3. Conclusions\n",
    "\n",
    "### Results and Comparison\n",
    "The baseline accuracy of gpt-3.5-turbo is 43.8%.\n",
    "\n",
    "**DSPy Optimizers Leaderboard**\n",
    "1. MIPRO - 72.84%\n",
    "2. BootstrapFewShotWithOptuna - 71.6%\n",
    "3. BootstrapFewShot - 60.49%\n",
    "4. BootstrapFewShotWithRandomSearch - 59.26%\n",
    "5. KNNFewShot - 50.62%\n",
    "6. COPRO - 43.21%\n",
    "\n",
    "Most of the optimizers have shown moderate to significant improvement compared to the baseline model accuracy.\n",
    "\n",
    "### Future Improvements for the Notebook\n",
    "Add confusion matrices for each evaluator to see which categories are most often mislabeled.\n",
    "\n",
    "### Notes and Discussion\n",
    "General notes about the experiment:\n",
    "1. For MIPRO and COPRO optimizations, the given training dataset was too small. Better results could potentially be achieved with more data and a bigger budget available.\n",
    "2. The quality of the whole dataset is not verified as it was artificially created by an LLM. Although it fully suffices for the primary goal of this experiment - to verify if DSPy optimizers can actually improve the results. Experiments with human-LLM interaction datasets would be interesting to explore in future trials. Additionally, experiments with human-made answers should be explored in the next experiments.\n",
    "3. For simplicity, the task was defined as a basic classification, and the requirement for \"reasoning\" or \"positive_points\" and \"negative_points\" was lifted. It is worth exploring further how priming would affect the final decision of an LLM.\n",
    "4. As the documentation of the DSPy library does not cover all the details, not all of the optimizers were used with optimal input parameters. The selection of most input parameters was based on the examples given in the [DSPy Cheatsheet](https://dspy-docs.vercel.app/docs/cheatsheet). We believe that certain optimizers could show better accuracy if the input parameters were chosen more thoroughly."
   ]
  },
  {
   "cell_type": "markdown",
   "metadata": {},
   "source": []
  }
 ],
 "metadata": {
  "kernelspec": {
   "display_name": ".venv",
   "language": "python",
   "name": "python3"
  },
  "language_info": {
   "codemirror_mode": {
    "name": "ipython",
    "version": 3
   },
   "file_extension": ".py",
   "mimetype": "text/x-python",
   "name": "python",
   "nbconvert_exporter": "python",
   "pygments_lexer": "ipython3",
   "version": "3.12.3"
  }
 },
 "nbformat": 4,
 "nbformat_minor": 2
}
