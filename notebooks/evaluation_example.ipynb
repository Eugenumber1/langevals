{
 "cells": [
  {
   "cell_type": "code",
   "execution_count": 2,
   "metadata": {},
   "outputs": [
    {
     "name": "stdout",
     "output_type": "stream",
     "text": [
      "Collecting pandas\n",
      "  Using cached pandas-2.2.2-cp311-cp311-macosx_11_0_arm64.whl.metadata (19 kB)\n",
      "Collecting numpy>=1.23.2 (from pandas)\n",
      "  Using cached numpy-1.26.4-cp311-cp311-macosx_11_0_arm64.whl.metadata (114 kB)\n",
      "Requirement already satisfied: python-dateutil>=2.8.2 in ./evaluators/google_cloud/.venv/lib/python3.11/site-packages (from pandas) (2.9.0.post0)\n",
      "Collecting pytz>=2020.1 (from pandas)\n",
      "  Using cached pytz-2024.1-py2.py3-none-any.whl.metadata (22 kB)\n",
      "Collecting tzdata>=2022.7 (from pandas)\n",
      "  Using cached tzdata-2024.1-py2.py3-none-any.whl.metadata (1.4 kB)\n",
      "Requirement already satisfied: six>=1.5 in ./evaluators/google_cloud/.venv/lib/python3.11/site-packages (from python-dateutil>=2.8.2->pandas) (1.16.0)\n",
      "Using cached pandas-2.2.2-cp311-cp311-macosx_11_0_arm64.whl (11.3 MB)\n",
      "Using cached numpy-1.26.4-cp311-cp311-macosx_11_0_arm64.whl (14.0 MB)\n",
      "Using cached pytz-2024.1-py2.py3-none-any.whl (505 kB)\n",
      "Using cached tzdata-2024.1-py2.py3-none-any.whl (345 kB)\n",
      "Installing collected packages: pytz, tzdata, numpy, pandas\n",
      "Successfully installed numpy-1.26.4 pandas-2.2.2 pytz-2024.1 tzdata-2024.1\n"
     ]
    }
   ],
   "source": [
    "!pip install pandas"
   ]
  },
  {
   "cell_type": "code",
   "execution_count": 7,
   "metadata": {},
   "outputs": [
    {
     "name": "stderr",
     "output_type": "stream",
     "text": [
      "/Users/rchaves/Projects/langwatch-sass/langevals/.venv/lib/python3.11/site-packages/tqdm/auto.py:21: TqdmWarning: IProgress not found. Please update jupyter and ipywidgets. See https://ipywidgets.readthedocs.io/en/stable/user_install.html\n",
      "  from .autonotebook import tqdm as notebook_tqdm\n",
      "/Users/rchaves/Projects/langwatch-sass/langevals/.venv/lib/python3.11/site-packages/pydantic/_internal/_fields.py:160: UserWarning: Field \"model_name\" has conflict with protected namespace \"model_\".\n",
      "\n",
      "You may be able to resolve this warning by setting `model_config['protected_namespaces'] = ()`.\n",
      "  warnings.warn(\n",
      "/Users/rchaves/Projects/langwatch-sass/langevals/.venv/lib/python3.11/site-packages/pydantic/_internal/_fields.py:160: UserWarning: Field \"model_info\" has conflict with protected namespace \"model_\".\n",
      "\n",
      "You may be able to resolve this warning by setting `model_config['protected_namespaces'] = ()`.\n",
      "  warnings.warn(\n",
      "Evaluating: 100%|██████████| 1/1 [00:03<00:00,  3.90s/it]\n",
      "Evaluating: 100%|██████████| 1/1 [00:03<00:00,  3.33s/it]\n",
      "Evaluating: 100%|██████████| 1/1 [00:03<00:00,  3.19s/it]\n"
     ]
    },
    {
     "data": {
      "text/html": [
       "<div>\n",
       "<style scoped>\n",
       "    .dataframe tbody tr th:only-of-type {\n",
       "        vertical-align: middle;\n",
       "    }\n",
       "\n",
       "    .dataframe tbody tr th {\n",
       "        vertical-align: top;\n",
       "    }\n",
       "\n",
       "    .dataframe thead th {\n",
       "        text-align: right;\n",
       "    }\n",
       "</style>\n",
       "<table border=\"1\" class=\"dataframe\">\n",
       "  <thead>\n",
       "    <tr style=\"text-align: right;\">\n",
       "      <th></th>\n",
       "      <th>input</th>\n",
       "      <th>output</th>\n",
       "      <th>answer_relevancy</th>\n",
       "      <th>competitor_blocklist</th>\n",
       "      <th>competitor_blocklist_details</th>\n",
       "    </tr>\n",
       "  </thead>\n",
       "  <tbody>\n",
       "    <tr>\n",
       "      <th>0</th>\n",
       "      <td>hello</td>\n",
       "      <td>hi</td>\n",
       "      <td>0.800714</td>\n",
       "      <td>True</td>\n",
       "      <td>None</td>\n",
       "    </tr>\n",
       "    <tr>\n",
       "      <th>1</th>\n",
       "      <td>how are you?</td>\n",
       "      <td>I am a chatbot, no feelings</td>\n",
       "      <td>0.813168</td>\n",
       "      <td>True</td>\n",
       "      <td>None</td>\n",
       "    </tr>\n",
       "    <tr>\n",
       "      <th>2</th>\n",
       "      <td>what is your name?</td>\n",
       "      <td>My name is Bob</td>\n",
       "      <td>0.971663</td>\n",
       "      <td>False</td>\n",
       "      <td>Competitors mentioned: Bob</td>\n",
       "    </tr>\n",
       "  </tbody>\n",
       "</table>\n",
       "</div>"
      ],
      "text/plain": [
       "                input                       output  answer_relevancy  \\\n",
       "0               hello                           hi          0.800714   \n",
       "1        how are you?  I am a chatbot, no feelings          0.813168   \n",
       "2  what is your name?               My name is Bob          0.971663   \n",
       "\n",
       "   competitor_blocklist competitor_blocklist_details  \n",
       "0                  True                         None  \n",
       "1                  True                         None  \n",
       "2                 False   Competitors mentioned: Bob  "
      ]
     },
     "execution_count": 7,
     "metadata": {},
     "output_type": "execute_result"
    }
   ],
   "source": [
    "import langevals\n",
    "from langevals_ragas.answer_relevancy import RagasAnswerRelevancyEvaluator\n",
    "from langevals_langevals.competitor_blocklist import (\n",
    "    CompetitorBlocklistEvaluator,\n",
    "    CompetitorBlocklistSettings,\n",
    ")\n",
    "import pandas as pd\n",
    "\n",
    "entries = pd.DataFrame(\n",
    "    {\n",
    "        \"input\": [\"hello\", \"how are you?\", \"what is your name?\"],\n",
    "        \"output\": [\"hi\", \"I am a chatbot, no feelings\", \"My name is Bob\"],\n",
    "    }\n",
    ")\n",
    "\n",
    "results = langevals.evaluate(\n",
    "    entries,\n",
    "    [\n",
    "        RagasAnswerRelevancyEvaluator(),\n",
    "        CompetitorBlocklistEvaluator(\n",
    "            settings=CompetitorBlocklistSettings(competitors=[\"Bob\"])\n",
    "        ),\n",
    "    ],\n",
    ")\n",
    "\n",
    "results.to_pandas()"
   ]
  },
  {
   "cell_type": "code",
   "execution_count": 5,
   "metadata": {},
   "outputs": [
    {
     "data": {
      "text/plain": [
       "{'word_count': [{'status': 'processed',\n",
       "   'score': 1.0,\n",
       "   'passed': None,\n",
       "   'details': 'Words found: hi',\n",
       "   'cost': None},\n",
       "  {'status': 'processed',\n",
       "   'score': 6.0,\n",
       "   'passed': None,\n",
       "   'details': 'Words found: I, am, a, chatbot,, no, feelings',\n",
       "   'cost': None},\n",
       "  {'status': 'processed',\n",
       "   'score': 4.0,\n",
       "   'passed': None,\n",
       "   'details': 'Words found: My, name, is, Bob',\n",
       "   'cost': None}],\n",
       " 'blocklist': [{'status': 'processed',\n",
       "   'score': 0.0,\n",
       "   'passed': True,\n",
       "   'details': None,\n",
       "   'cost': None},\n",
       "  {'status': 'processed',\n",
       "   'score': 0.0,\n",
       "   'passed': True,\n",
       "   'details': None,\n",
       "   'cost': None},\n",
       "  {'status': 'processed',\n",
       "   'score': 1.0,\n",
       "   'passed': False,\n",
       "   'details': 'Competitors mentioned: Bob',\n",
       "   'cost': None}]}"
      ]
     },
     "execution_count": 5,
     "metadata": {},
     "output_type": "execute_result"
    }
   ],
   "source": [
    "results.to_list()"
   ]
  },
  {
   "cell_type": "code",
   "execution_count": null,
   "metadata": {},
   "outputs": [],
   "source": []
  }
 ],
 "metadata": {
  "kernelspec": {
   "display_name": ".venv",
   "language": "python",
   "name": "python3"
  },
  "language_info": {
   "codemirror_mode": {
    "name": "ipython",
    "version": 3
   },
   "file_extension": ".py",
   "mimetype": "text/x-python",
   "name": "python",
   "nbconvert_exporter": "python",
   "pygments_lexer": "ipython3",
   "version": "3.11.6"
  }
 },
 "nbformat": 4,
 "nbformat_minor": 2
}
