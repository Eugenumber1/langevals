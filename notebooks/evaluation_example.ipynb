{
 "cells": [
  {
   "cell_type": "code",
   "execution_count": 4,
   "metadata": {},
   "outputs": [
    {
     "data": {
      "text/html": [
       "<div>\n",
       "<style scoped>\n",
       "    .dataframe tbody tr th:only-of-type {\n",
       "        vertical-align: middle;\n",
       "    }\n",
       "\n",
       "    .dataframe tbody tr th {\n",
       "        vertical-align: top;\n",
       "    }\n",
       "\n",
       "    .dataframe thead th {\n",
       "        text-align: right;\n",
       "    }\n",
       "</style>\n",
       "<table border=\"1\" class=\"dataframe\">\n",
       "  <thead>\n",
       "    <tr style=\"text-align: right;\">\n",
       "      <th></th>\n",
       "      <th>input</th>\n",
       "      <th>output</th>\n",
       "      <th>word_count</th>\n",
       "      <th>word_count_details</th>\n",
       "      <th>blocklist</th>\n",
       "      <th>blocklist_details</th>\n",
       "    </tr>\n",
       "  </thead>\n",
       "  <tbody>\n",
       "    <tr>\n",
       "      <th>0</th>\n",
       "      <td>hello</td>\n",
       "      <td>hi</td>\n",
       "      <td>1.0</td>\n",
       "      <td>Words found: hi</td>\n",
       "      <td>True</td>\n",
       "      <td>None</td>\n",
       "    </tr>\n",
       "    <tr>\n",
       "      <th>1</th>\n",
       "      <td>how are you?</td>\n",
       "      <td>I am a chatbot, no feelings</td>\n",
       "      <td>6.0</td>\n",
       "      <td>Words found: I, am, a, chatbot,, no, feelings</td>\n",
       "      <td>True</td>\n",
       "      <td>None</td>\n",
       "    </tr>\n",
       "    <tr>\n",
       "      <th>2</th>\n",
       "      <td>what is your name?</td>\n",
       "      <td>My name is Bob</td>\n",
       "      <td>4.0</td>\n",
       "      <td>Words found: My, name, is, Bob</td>\n",
       "      <td>False</td>\n",
       "      <td>Competitors mentioned: Bob</td>\n",
       "    </tr>\n",
       "  </tbody>\n",
       "</table>\n",
       "</div>"
      ],
      "text/plain": [
       "                input                       output  word_count  \\\n",
       "0               hello                           hi         1.0   \n",
       "1        how are you?  I am a chatbot, no feelings         6.0   \n",
       "2  what is your name?               My name is Bob         4.0   \n",
       "\n",
       "                              word_count_details  blocklist  \\\n",
       "0                                Words found: hi       True   \n",
       "1  Words found: I, am, a, chatbot,, no, feelings       True   \n",
       "2                 Words found: My, name, is, Bob      False   \n",
       "\n",
       "            blocklist_details  \n",
       "0                        None  \n",
       "1                        None  \n",
       "2  Competitors mentioned: Bob  "
      ]
     },
     "execution_count": 4,
     "metadata": {},
     "output_type": "execute_result"
    }
   ],
   "source": [
    "import langevals\n",
    "from langevals_example.word_count import ExampleWordCountEvaluator\n",
    "from langevals_langevals.blocklist import (\n",
    "    BlocklistEvaluator,\n",
    "    BlocklistSettings,\n",
    ")\n",
    "import pandas as pd\n",
    "\n",
    "entries = pd.DataFrame(\n",
    "    {\n",
    "        \"input\": [\"hello\", \"how are you?\", \"what is your name?\"],\n",
    "        \"output\": [\"hi\", \"I am a chatbot, no feelings\", \"My name is Bob\"],\n",
    "    }\n",
    ")\n",
    "\n",
    "results = langevals.evaluate(\n",
    "    entries,\n",
    "    [\n",
    "        ExampleWordCountEvaluator(),\n",
    "        BlocklistEvaluator(settings=BlocklistSettings(competitors=[\"Bob\"])),\n",
    "    ],\n",
    ")\n",
    "\n",
    "results.to_pandas()"
   ]
  },
  {
   "cell_type": "code",
   "execution_count": 5,
   "metadata": {},
   "outputs": [
    {
     "data": {
      "text/plain": [
       "{'word_count': [{'status': 'processed',\n",
       "   'score': 1.0,\n",
       "   'passed': None,\n",
       "   'details': 'Words found: hi',\n",
       "   'cost': None},\n",
       "  {'status': 'processed',\n",
       "   'score': 6.0,\n",
       "   'passed': None,\n",
       "   'details': 'Words found: I, am, a, chatbot,, no, feelings',\n",
       "   'cost': None},\n",
       "  {'status': 'processed',\n",
       "   'score': 4.0,\n",
       "   'passed': None,\n",
       "   'details': 'Words found: My, name, is, Bob',\n",
       "   'cost': None}],\n",
       " 'blocklist': [{'status': 'processed',\n",
       "   'score': 0.0,\n",
       "   'passed': True,\n",
       "   'details': None,\n",
       "   'cost': None},\n",
       "  {'status': 'processed',\n",
       "   'score': 0.0,\n",
       "   'passed': True,\n",
       "   'details': None,\n",
       "   'cost': None},\n",
       "  {'status': 'processed',\n",
       "   'score': 1.0,\n",
       "   'passed': False,\n",
       "   'details': 'Competitors mentioned: Bob',\n",
       "   'cost': None}]}"
      ]
     },
     "execution_count": 5,
     "metadata": {},
     "output_type": "execute_result"
    }
   ],
   "source": [
    "results.to_list()"
   ]
  },
  {
   "cell_type": "code",
   "execution_count": null,
   "metadata": {},
   "outputs": [],
   "source": []
  }
 ],
 "metadata": {
  "kernelspec": {
   "display_name": ".venv",
   "language": "python",
   "name": "python3"
  },
  "language_info": {
   "codemirror_mode": {
    "name": "ipython",
    "version": 3
   },
   "file_extension": ".py",
   "mimetype": "text/x-python",
   "name": "python",
   "nbconvert_exporter": "python",
   "pygments_lexer": "ipython3",
   "version": "3.11.6"
  }
 },
 "nbformat": 4,
 "nbformat_minor": 2
}
